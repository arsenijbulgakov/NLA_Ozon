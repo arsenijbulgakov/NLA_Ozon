{
 "cells": [
  {
   "cell_type": "markdown",
   "metadata": {
    "id": "0QlNlsX9SVB1"
   },
   "source": [
    "# Домашнее задание 2 (30 + 20 + 25 + 30 = 105 pts )"
   ]
  },
  {
   "cell_type": "markdown",
   "metadata": {
    "id": "mM3c6bZKSVB2"
   },
   "source": [
    "## Задача 1 (30 pts)\n",
    "\n",
    "- (5 pts) Докажите, что $\\mathrm{vec}(AXB) = (B^\\top \\otimes A)\\, \\mathrm{vec}(X)$, если $\\mathrm{vec}(X)$ векторизация матрицы по столбцам. Что и почему изменится, если использовать векторизацию по строкам? \n",
    "\n",
    "- (2 pts) Какова сложность наивного вычисления $(A \\otimes B) x$ и почему она такова? Покажите, как она может быть снижена.\n",
    "\n",
    "- (3 pts) Пусть матрицы $A$ и $B$ имеют спектральные разложения $A = S_A\\Lambda_A S_A^{-1}$ и $B = S_B\\Lambda_B S^{-1}_B$. Найдите собственные векторы и собственные значения у матрицы $A\\otimes I + I \\otimes B$.\n",
    "\n",
    "- (10 pts) Пусть $A = \\mathrm{diag}\\left(\\frac{2}{1000},\\frac{3}{1000},\\dots \\frac{999}{1000}, 1, 1000 \\right)$. Оцените аналитически число итераций необходимых для решения линейной системы с матрицей $A$ с относительной точностью $10^{-5}$ используя\n",
    "    - метод Ричардсона с оптимальным параметром (используйте евклидову норму)\n",
    "    - метод Чебышёва (используйте евклидову норму)\n",
    "    - метод сопряжённых градиентов (используйте $A$-норму).\n",
    "    \n",
    "и сравните вашу оценку с экспериментальными результатами.\n",
    "\n",
    "- (5 pts) Рассмотрим систему линейных уравнений вида $(I + uu^{\\top})x = b$, $u \\neq 0$. За сколько итераций сойдётся метод сопряжённых градиентов для этой системы? Получите ответ аналитически, псле чего приведите экспериментальное подтверждение его правильности.\n",
    "\n",
    "- (5 pts) Покажите, как связан детерминант матрицы\n",
    "$$\n",
    "\\begin{bmatrix}\n",
    "x & 1 & 0 & \\ldots & 0\\\\\n",
    "1 & 2x & 1 & \\ldots & 0 \\\\\n",
    "\\vdots & \\vdots & \\vdots & \\vdots & \\vdots \\\\\n",
    "0 & 0 & \\ldots & 2x & 1 \\\\\n",
    "0 & 0 & \\ldots & 1 & 2x\n",
    "\\end{bmatrix}\n",
    "$$\n",
    "\n",
    "с полиномом Чебышёва степени $n$"
   ]
  },
  {
   "cell_type": "markdown",
   "metadata": {
    "id": "LTWM92BySVB3"
   },
   "source": [
    "### 1).\n",
    "Докажем два вспомогательных равенства\n",
    "\n",
    "- $\\mathrm{vec}(AB) = (I \\otimes A)\\, \\mathrm{vec}(B)$\n",
    "- $\\mathrm{vec}(XB) = (B^\\top \\otimes I)\\, \\mathrm{vec}(X)$"
   ]
  },
  {
   "cell_type": "markdown",
   "metadata": {
    "id": "D38IJwW_SVB4"
   },
   "source": [
    "$B = [b_1 ... b_n],\\  b_i$ - iй столбец матрицы $B$\n",
    "\n",
    "$AB = [Ab_1 ... Ab_n] \\Rightarrow \\mathrm{vec}(AB) = \\begin{bmatrix}\n",
    "Ab_1 \\\\\n",
    "Ab_2  \\\\\n",
    "\\vdots  \\\\\n",
    "Ab_n \n",
    "\\end{bmatrix}$\n",
    "\n",
    "\n",
    "\n",
    "$I \\otimes A = \\begin{bmatrix}\n",
    "A & 0 & \\ldots & 0 & 0\\\\\n",
    "0 & A & \\ldots & 0 & 0\\\\\n",
    "\\vdots & \\vdots & \\vdots & \\vdots & \\vdots \\\\\n",
    "0 & 0 & \\ldots & A & 0 \\\\\n",
    "0 & 0 & \\ldots & 0 & A\n",
    "\\end{bmatrix}, \\ \\ \\mathrm{vec}(B) \\begin{bmatrix}\n",
    "b_1 \\\\\n",
    "b_2  \\\\\n",
    "\\vdots  \\\\\n",
    "b_n \n",
    "\\end{bmatrix} \\Rightarrow (I \\otimes A)\\, \\mathrm{vec}(B) = \\begin{bmatrix}\n",
    "Ab_1 \\\\\n",
    "Ab_2  \\\\\n",
    "\\vdots  \\\\\n",
    "Ab_n \n",
    "\\end{bmatrix} = \\mathrm{vec}(AB)$\n",
    "\n",
    "\n"
   ]
  },
  {
   "cell_type": "markdown",
   "metadata": {
    "id": "pBsjJriASVB5"
   },
   "source": [
    "$XB = [Xb_1 ... Xb_n]$, тогда $j$-й столбец матрицы $XB = Xb_j = \\begin{bmatrix}\n",
    "\\sum_{i} x_{1i} b_{ij} \\\\\n",
    "\\sum_{i} x_{2i} b_{ij}  \\\\\n",
    "\\vdots  \\\\\n",
    "\\sum_{i} x_{ni} b_{ij} \n",
    "\\end{bmatrix}= \\sum_{i} x_i b_{ij}$, где $x_i-$ $i$-й столбец $X$\n",
    "\n",
    "$\\Rightarrow \\mathrm{vec}(XB) = \\begin{bmatrix}\n",
    "\\sum_{i} x_{i} b_{i1} \\\\\n",
    "\\sum_{i} x_{i} b_{i2}  \\\\\n",
    "\\vdots  \\\\\n",
    "\\sum_{i} x_{i} b_{in} \n",
    "\\end{bmatrix}$\n",
    "\n",
    "C другой стороны, $\\mathrm{vec}(XB) = (B^\\top \\otimes I)\\, \\mathrm{vec}(X) = \\begin{bmatrix}\n",
    "b_{11}I & b_{21}I & b_{31}I & \\ldots & b_{n1}I\\\\\n",
    "b_{12}I & b_{22}I & b_{32}I & \\ldots & b_{n2}I \\\\\n",
    "\\vdots & \\vdots & \\vdots & \\vdots & \\vdots \\\\\n",
    "b_{1n}I & b_{2n}I & b_{3n}I & \\ldots & b_{nn}I\n",
    "\\end{bmatrix} \\begin{bmatrix}\n",
    "x_1 \\\\\n",
    "x_2  \\\\\n",
    "\\vdots  \\\\\n",
    "x_n \n",
    "\\end{bmatrix} = \\begin{bmatrix}\n",
    "\\sum_{i} x_{i} b_{i1} \\\\\n",
    "\\sum_{i} x_{i} b_{i2}  \\\\\n",
    "\\vdots  \\\\\n",
    "\\sum_{i} x_{i} b_{in} \n",
    "\\end{bmatrix} = \\mathrm{vec}(XB)$"
   ]
  },
  {
   "cell_type": "markdown",
   "metadata": {
    "id": "HwJowP1USVB5"
   },
   "source": [
    "$\\mathrm{vec}(AXB) = (I \\otimes A)\\, \\mathrm{vec}(XB) = (I \\otimes A) (B^\\top \\otimes I)\\, \\mathrm{vec}(X) = \n",
    "\\begin{bmatrix}\n",
    "A & 0 & \\ldots & 0 & 0\\\\\n",
    "0 & A & \\ldots & 0 & 0\\\\\n",
    "\\vdots & \\vdots & \\vdots & \\vdots & \\vdots \\\\\n",
    "0 & 0 & \\ldots & A & 0 \\\\\n",
    "0 & 0 & \\ldots & 0 & A\n",
    "\\end{bmatrix} \\begin{bmatrix}\n",
    "b_{11}I & b_{21}I & \\ldots & b_{n1}I\\\\\n",
    "b_{12}I & b_{22}I & \\ldots & b_{n2}I \\\\\n",
    "\\vdots & \\vdots & \\vdots & \\vdots \\\\\n",
    "b_{1n}I & b_{2n}I & \\ldots & b_{nn}I\n",
    "\\end{bmatrix} = \\begin{bmatrix}\n",
    "b_{11}A & b_{21}A & \\ldots & b_{n1}A\\\\\n",
    "b_{12}A & b_{22}A & \\ldots & b_{n2}A \\\\\n",
    "\\vdots & \\vdots & \\vdots & \\vdots \\\\\n",
    "b_{1n}A & b_{2n}A & \\ldots & b_{nn}A\n",
    "\\end{bmatrix}\\, \\mathrm{vec}(X) = (B^\\top \\otimes A)\\, \\mathrm{vec}(X)$"
   ]
  },
  {
   "cell_type": "markdown",
   "metadata": {
    "id": "rpMdsnfxSVB6"
   },
   "source": [
    "### 2).\n",
    "\n",
    "$A \\in \\mathbb{R}^{m \\times n}, B \\in \\mathbb{R}^{p \\times q}, (A \\otimes B) \\in \\mathbb{R}^{mp \\times nq}, \n",
    "x \\in \\mathbb{R}^{nq}$\n",
    "\n",
    "Ечли считать \"в лоб\", то сначала нужно посчитать $(A \\otimes B)$, это требует $O(mnpq)$. Далее полученную матрицу умножить на вектор $x$, это требует также $O(mnpq)$\n",
    "\n",
    "Можно представить вектор $x$ как векторизацию некоторой матрицы по столбцам, то есть $x = \\mathrm{vec}(X), X \\in \\mathbb{R}^{q \\times n}$\n",
    "\n",
    "Тогда из предыдущего номера получаем $\\mathrm{vec}(BXA^\\top) = (A \\otimes B)\\, \\mathrm{vec}(X) = (A \\otimes B) x$,\n",
    "\n",
    "то есть достаточно посчитать $BXA^\\top$, $C = BX - O(pqn), \\ \\  CA^\\top - O(pnm) \\Rightarrow$ итоговая сложность $O(pqn + pnm)$, что существенно лучше, чем $O(mnpq)$"
   ]
  },
  {
   "cell_type": "markdown",
   "metadata": {
    "id": "6OjCinsiSVB6"
   },
   "source": [
    "### 3).\n",
    "\n",
    "Пусть $x_1, ..., x_n$ - собственные векторы матрицы $A$, соответствующие собственным значениям $\\lambda_1, ..., \\lambda_n$, а $y_1, ..., y_n$ - собственные векторы матрицы $B$, соответствующие собственным значениям $\\mu_1, ..., \\mu_n$. Докажем, что матрица $A\\otimes I + I \\otimes B$ имеет собственный вектор $y_j \\otimes x_i$, соответствующий собственному значению $\\lambda_i + \\mu_j$.\n",
    "\n",
    "$(A\\otimes I)(y_j \\otimes x_i) = \\begin{bmatrix}\n",
    "A & 0 & \\ldots & 0 & 0\\\\\n",
    "0 & A & \\ldots & 0 & 0\\\\\n",
    "\\vdots & \\vdots & \\vdots & \\vdots & \\vdots \\\\\n",
    "0 & 0 & \\ldots & A & 0 \\\\\n",
    "0 & 0 & \\ldots & 0 & A\n",
    "\\end{bmatrix} \\begin{bmatrix}\n",
    "y_{1j} x_i \\\\\n",
    "y_{2j} x_i \\\\\n",
    "\\vdots  \\\\\n",
    "y_{n-1 j} x_i \\\\\n",
    "y_{nj} x_i \\\\\n",
    "\\end{bmatrix} = \\begin{bmatrix}\n",
    "y_{1j} Ax_i \\\\\n",
    "y_{2j} Ax_i \\\\\n",
    "\\vdots  \\\\\n",
    "y_{n-1 j} Ax_i \\\\\n",
    "y_{nj} Ax_i \\\\\n",
    "\\end{bmatrix} = \\begin{bmatrix}\n",
    "y_{1j} \\lambda_i x_i \\\\\n",
    "y_{2j} \\lambda_i x_i \\\\\n",
    "\\vdots  \\\\\n",
    "y_{n-1 j} \\lambda_i x_i \\\\\n",
    "y_{nj} \\lambda_i x_i \\\\\n",
    "\\end{bmatrix} = \\lambda_i (y_j \\otimes x_i)$\n",
    "\n",
    "$(I \\otimes B)(y_j \\otimes x_i) = \\begin{bmatrix}\n",
    "b_{11}I & b_{12}I & \\ldots & b_{11}I & b_{1n}I\\\\\n",
    "b_{21} & b_{22}I & \\ldots & b_{11}I & b_{2n}I\\\\\n",
    "\\vdots & \\vdots & \\vdots & \\vdots & \\vdots \\\\\n",
    "b_{n-1 1}I & b_{n-1 2}I & \\ldots & b_{n-1 n-1}I & b_{n-1 n}I \\\\\n",
    "b_{n1}I & b_{n2}I & \\ldots & b_{n n-1}I & b_{nn}I\n",
    "\\end{bmatrix} \\begin{bmatrix}\n",
    "y_{1j} x_i \\\\\n",
    "y_{2j} x_i \\\\\n",
    "\\vdots  \\\\\n",
    "y_{n-1 j} x_i \\\\\n",
    "y_{nj} x_i \\\\\n",
    "\\end{bmatrix} = \\begin{bmatrix}\n",
    "\\sum_{k} x_{i} b_{1k} y_{kj} \\\\\n",
    "\\sum_{k} x_{i} b_{2k} y_{kj} \\\\\n",
    "\\vdots  \\\\\n",
    "\\sum_{k} x_{i} b_{nk} y_{kj}\n",
    "\\end{bmatrix} = \\begin{bmatrix}\n",
    "x_i \\sum_{k} b_{1k} y_{kj} \\\\\n",
    "x_i \\sum_{k} b_{2k} y_{kj} \\\\\n",
    "\\vdots  \\\\\n",
    "x_i \\sum_{k} b_{nk} y_{kj}\n",
    "\\end{bmatrix} = \\begin{bmatrix}\n",
    "\\mu_j y_{1j} x_i \\\\\n",
    "\\mu_j y_{2j} x_i \\\\\n",
    "\\vdots  \\\\\n",
    "\\mu_j y_{n-1 j} x_i \\\\\n",
    "\\mu_j y_{nj} x_i \\\\\n",
    "\\end{bmatrix} = \\mu_j (y_j \\otimes x_i)$\n",
    "\n",
    "$\\Rightarrow (A\\otimes I + I \\otimes B)(y_j \\otimes x_i) = (\\lambda_i + \\mu_j)(y_j \\otimes x_i) \\ \\ \\forall i, j$"
   ]
  },
  {
   "cell_type": "markdown",
   "metadata": {
    "id": "EHyTE1FHSVB6"
   },
   "source": [
    "### 4).\n",
    "\n",
    "Для метода Ричардсона справедлива следующая оценка $\\quad\\left\\|e_{k}\\right\\|_{2} \\leq q^{k}\\left\\|e_{0}\\right\\|_{2}$, где $q = \\frac{\\mathrm{cond}(A)-1}{\\mathrm{cond}(A)+1}$\n",
    "\n",
    "$q = \\frac{10^6 - 2}{10^6 + 2} \\approx 0.999996, \\ \\  q^k = 10^5 \\Rightarrow k = log_q (10^5) = \\frac{ln(10^5)}{ln(q)} \\approx 287823 \\ \\ итераций$\n",
    "\n",
    "Для метода Ричардсона справедлива следующая оценка $\\quad\\left\\|e_{k}\\right\\|_{2} \\leq q^{k}\\left\\|e_{0}\\right\\|_{2}$, где $q = \\frac{\\mathrm{\\sqrt {cond}}(A)-1}{\\mathrm{\\sqrt {cond}}(A)+1}$\n",
    "\n",
    "$q = \\frac{10^3 - \\sqrt2}{10^3 + \\sqrt2} \\approx 0.99717556722, \\ \\  q^k = 10^5 \\Rightarrow k = log_q (10^5) = \\frac{ln(10^5)}{ln(q)} \\approx 4070 \\ \\ итераций$\n",
    "\n",
    "Для метода сопряженных градиентов справедлива следующая оценка $\\frac{\\Vert x - x_* \\Vert_A }{\\Vert x_* \\Vert_A} \\leq \\inf_{q, q(0)=1} \\max_{j} |q({\\lambda_j})|.$\n",
    "\n",
    "Среди собственных значений присутстует один выброс - $1000$, остальные собственные значения сосредоточены на отрезке $[0,1]$. Как отмечалось на лекции, если собственные значения кластеризованы и имеется $l$ выбросов, тогда после первых $\\mathcal{O}(l)$ итераций CG сойдётся как будто этих выбросов не было (следовательно, эффективное число обусловленности меньше). Интуитивное объяснение этого факта в том, что после $\\mathcal{O}(l)$ итераций полином имеет степень больше чем $l$ и таким образом зануляет $l$ выбросов. Значит после нескольких первых итераций, CG сойдется так, как если бы все собственные значения были $[0.002, 0.003, ..., 1]$. При этом известно, что SG сходится не хуже метода Чебышева, поэтому $\\frac{\\Vert x_k - x_* \\Vert_A }{\\Vert x_* \\Vert_A} \\leq \\gamma \\left( \\frac{\\sqrt{\\mathrm{cond}(A)}-1}{\\sqrt{\\mathrm{cond}(A)}+1}\\right)^k.$, при этом здесь уже число обусловленности отличается от числа обусловленности исходной матрицы и равно $\\frac{1}{0.002} = 500$ \n",
    "\n",
    "$q = \\frac{\\sqrt{500}-1}{\\sqrt{500}+1} \\approx 0.914386053 \\Rightarrow k = log_q (10^5) = \\frac{ln(10^5)}{ln(q)} \\approx 128 \\ \\ итераций$"
   ]
  },
  {
   "cell_type": "markdown",
   "metadata": {
    "id": "_AbrDV-yIe2M"
   },
   "source": [
    "### 5)."
   ]
  },
  {
   "cell_type": "markdown",
   "metadata": {
    "id": "ZTdM8LlDIe2N"
   },
   "source": [
    "Возьмем произвольный вектор $x$, ортогональный вектору $u$. Тогда $(I + uu^{\\top})x = x + u (u, x) = x$\n",
    "\n",
    "То есть существует $n-1$ линейно независимых собственных векторов, соответствующих собственному значению $1$\n",
    "\n",
    "Далее возьмем вместо $x$ вектор $u$. $(I + uu^{\\top})u = u + u \\|u\\|_2 = (1 + \\|u\\|_2) u$.\n",
    "\n",
    "При этом $(1 + \\|u\\|_2) \\neq 1$, так как $u \\neq 0$.\n",
    "\n",
    "Значит у матрицы $(I + uu^{\\top})$  всего два различных собственных значения: $1, \\ (1 + \\|u\\|_2)$.\n",
    "\n",
    "Утверждение с лекции: если матрица имеет только 2 различных собственных значения, тогда существует полином степени 2 такой что $q({\\lambda_1}) = q({\\lambda_2}) = 0$, и в этом случае CG сходится за 2 итерации.\n",
    "\n",
    "Поэтому метод сопряженных градиентов должен сойтись за 2 итерации. Проверим экспериментально"
   ]
  },
  {
   "cell_type": "code",
   "execution_count": null,
   "metadata": {
    "id": "lGSon9eHIe2N"
   },
   "outputs": [],
   "source": [
    "u = np.random.rand(20)\n",
    "A = np.eye(20) + u @ u.T"
   ]
  },
  {
   "cell_type": "code",
   "execution_count": null,
   "metadata": {
    "id": "ddH9QXxDIe2N"
   },
   "outputs": [],
   "source": [
    "x = np.random.rand(20)\n",
    "b = A @ x"
   ]
  },
  {
   "cell_type": "code",
   "execution_count": null,
   "metadata": {
    "id": "UcGDv8nZIe2N",
    "outputId": "35ccf9a8-4c80-432f-d7ef-5a10c31f73ee"
   },
   "outputs": [
    {
     "name": "stdout",
     "output_type": "stream",
     "text": [
      "2\n",
      "[0.0049153965968704565, 2.6428202451480892e-14]\n"
     ]
    }
   ],
   "source": [
    "res_hist = []\n",
    "def callback(x):\n",
    "    res_hist.append(np.linalg.norm(A @ x - b) / np.linalg.norm(b))\n",
    "    \n",
    "x, info = spsplin.cg(A, b, maxiter=n, tol=1e-10, callback=callback)\n",
    "#print(np.linalg.norm(A @ x - b))\n",
    "#print(info)\n",
    "print(len(res_hist))\n",
    "print(res_hist)\n",
    "x_lu = np.linalg.solve(A, b)\n",
    "#print(np.linalg.norm(A @ x_lu - b))"
   ]
  },
  {
   "cell_type": "markdown",
   "metadata": {
    "id": "8wXGMTd7Ie2O"
   },
   "source": [
    "Видим, что эксперименты подтвердили теоретическую оценку, метод сошелся всего за 2 итерации"
   ]
  },
  {
   "cell_type": "markdown",
   "metadata": {
    "id": "zC-74sZaIe2O"
   },
   "source": [
    "### 6)."
   ]
  },
  {
   "cell_type": "markdown",
   "metadata": {
    "id": "bnO0wrNMIe2O"
   },
   "source": [
    "Обозначим $D_n(x) = det \\begin{bmatrix}\n",
    "x & 1 & 0 & \\ldots & 0\\\\\n",
    "1 & 2x & 1 & \\ldots & 0 \\\\\n",
    "\\vdots & \\vdots & \\vdots & \\vdots & \\vdots \\\\\n",
    "0 & 0 & \\ldots & 2x & 1 \\\\\n",
    "0 & 0 & \\ldots & 1 & 2x\n",
    "\\end{bmatrix}$\n",
    "\n",
    "Воспользуемся теоремой Лапласа и разложим данный определитель по последней строке:\n",
    "\n",
    "\n",
    "$D_n(x) = 2x \\cdot det \\begin{bmatrix}\n",
    "x & 1 & 0 & \\ldots & 0\\\\\n",
    "1 & 2x & 1 & \\ldots & 0 \\\\\n",
    "\\vdots & \\vdots & \\vdots & \\vdots & \\vdots \\\\\n",
    "0 & 0 & \\ldots & 2x & 1 \\\\\n",
    "0 & 0 & \\ldots & 1 & 2x\n",
    "\\end{bmatrix} - det \\begin{bmatrix}\n",
    "x & 1 & 0 & \\ldots & 0\\\\\n",
    "1 & 2x & 1 & \\ldots & 0 \\\\\n",
    "\\vdots & \\vdots & \\vdots & \\vdots & \\vdots \\\\\n",
    "0 & 0 & \\ldots & 2x & 0 \\\\\n",
    "0 & 0 & \\ldots & 1 & 1\n",
    "\\end{bmatrix} = $ \\{разложим 2й определитель по последенему столбцу\\} = \n",
    "\n",
    "$= 2x D_{n-1}(x) - D_{n-2}(x)$\n",
    "\n",
    "При этом $D_1(x) = x, \\ D_2(x) = det \\begin{bmatrix}\n",
    "x & 1 \\\\\n",
    "1 & 2x\n",
    "\\end{bmatrix} = 2x^2 - 1$\n",
    "\n",
    "$\\Rightarrow D_n(x)$ - многочлен Чебышева $T_n(x)$"
   ]
  },
  {
   "cell_type": "markdown",
   "metadata": {
    "id": "ZigCNd2MIe2O"
   },
   "source": [
    "#### эксперименты для 4)."
   ]
  },
  {
   "cell_type": "code",
   "execution_count": 1,
   "metadata": {
    "id": "5lJQ4SdGSVB7"
   },
   "outputs": [],
   "source": [
    "import numpy as np\n",
    "import matplotlib.pyplot as plt\n",
    "import seaborn as sns\n",
    "sns.set() \n",
    "%matplotlib inline\n",
    "import scipy as sp\n",
    "import scipy.sparse as spsp\n",
    "import scipy.sparse.linalg as spla\n",
    "import scipy\n",
    "from scipy.sparse import csc_matrix"
   ]
  },
  {
   "cell_type": "code",
   "execution_count": 2,
   "metadata": {
    "id": "CcvznZTQSVB7"
   },
   "outputs": [],
   "source": [
    "import scipy.sparse.linalg as spsplin"
   ]
  },
  {
   "cell_type": "code",
   "execution_count": null,
   "metadata": {
    "id": "eWERrJJvSVB8",
    "outputId": "4a67ce43-2bdf-4632-c3b5-c5e8d339d5f3"
   },
   "outputs": [
    {
     "data": {
      "text/plain": [
       "(1000, 1000)"
      ]
     },
     "execution_count": 4,
     "metadata": {},
     "output_type": "execute_result"
    }
   ],
   "source": [
    "A.shape"
   ]
  },
  {
   "cell_type": "code",
   "execution_count": null,
   "metadata": {
    "id": "LT4N5GMbSVB8"
   },
   "outputs": [],
   "source": [
    "n = 1000\n",
    "ex = np.arange(0.002, 1.001, 0.001)\n",
    "ex = np.append(ex, 1000)\n",
    "A = sp.sparse.spdiags(ex, [0], n, n, 'csr')\n",
    "rhs = np.ones(n)"
   ]
  },
  {
   "cell_type": "code",
   "execution_count": null,
   "metadata": {
    "id": "YwVQZYmySVB9",
    "outputId": "ab754632-6757-49fb-e426-9456021f3d54"
   },
   "outputs": [
    {
     "data": {
      "text/plain": [
       "<1000x1000 sparse matrix of type '<class 'numpy.float64'>'\n",
       "\twith 1000 stored elements in Compressed Sparse Row format>"
      ]
     },
     "execution_count": 5,
     "metadata": {},
     "output_type": "execute_result"
    }
   ],
   "source": [
    "A"
   ]
  },
  {
   "cell_type": "code",
   "execution_count": null,
   "metadata": {
    "id": "nNlk-4YrSVB9",
    "outputId": "76d24837-35d0-46f6-c3af-c96dfc0ed262"
   },
   "outputs": [
    {
     "data": {
      "text/plain": [
       "array([[2.00e-03, 0.00e+00, 0.00e+00, ..., 0.00e+00, 0.00e+00, 0.00e+00],\n",
       "       [0.00e+00, 3.00e-03, 0.00e+00, ..., 0.00e+00, 0.00e+00, 0.00e+00],\n",
       "       [0.00e+00, 0.00e+00, 4.00e-03, ..., 0.00e+00, 0.00e+00, 0.00e+00],\n",
       "       ...,\n",
       "       [0.00e+00, 0.00e+00, 0.00e+00, ..., 9.99e-01, 0.00e+00, 0.00e+00],\n",
       "       [0.00e+00, 0.00e+00, 0.00e+00, ..., 0.00e+00, 1.00e+00, 0.00e+00],\n",
       "       [0.00e+00, 0.00e+00, 0.00e+00, ..., 0.00e+00, 0.00e+00, 1.00e+03]])"
      ]
     },
     "execution_count": 6,
     "metadata": {},
     "output_type": "execute_result"
    }
   ],
   "source": [
    "A.toarray()"
   ]
  },
  {
   "cell_type": "code",
   "execution_count": null,
   "metadata": {
    "id": "2eseEU1GSVB-",
    "outputId": "ba5ad67d-afb0-409b-d0a7-4c894442f37f"
   },
   "outputs": [
    {
     "data": {
      "text/plain": [
       "array([0.002, 0.003, 0.004, 0.005, 0.006, 0.007, 0.008])"
      ]
     },
     "execution_count": 122,
     "metadata": {},
     "output_type": "execute_result"
    }
   ],
   "source": [
    "np.array(A.sum(axis=1)).ravel()"
   ]
  },
  {
   "cell_type": "code",
   "execution_count": null,
   "metadata": {
    "id": "Y_XWTAxkSVB-",
    "outputId": "c8e8f761-e445-4d11-bc05-4a4f75c8ab78"
   },
   "outputs": [
    {
     "data": {
      "text/plain": [
       "array([[2.00e-03, 0.00e+00, 0.00e+00, ..., 0.00e+00, 0.00e+00, 0.00e+00],\n",
       "       [0.00e+00, 3.00e-03, 0.00e+00, ..., 0.00e+00, 0.00e+00, 0.00e+00],\n",
       "       [0.00e+00, 0.00e+00, 4.00e-03, ..., 0.00e+00, 0.00e+00, 0.00e+00],\n",
       "       ...,\n",
       "       [0.00e+00, 0.00e+00, 0.00e+00, ..., 9.99e-01, 0.00e+00, 0.00e+00],\n",
       "       [0.00e+00, 0.00e+00, 0.00e+00, ..., 0.00e+00, 1.00e+00, 0.00e+00],\n",
       "       [0.00e+00, 0.00e+00, 0.00e+00, ..., 0.00e+00, 0.00e+00, 1.00e+03]])"
      ]
     },
     "execution_count": 95,
     "metadata": {},
     "output_type": "execute_result"
    }
   ],
   "source": [
    "A.toarray()"
   ]
  },
  {
   "cell_type": "code",
   "execution_count": null,
   "metadata": {
    "colab": {
     "base_uri": "https://localhost:8080/",
     "height": 754
    },
    "id": "hJ0czrRPSVB_",
    "outputId": "7c7f9af5-0e85-4928-f332-9e3b90b9e23c"
   },
   "outputs": [
    {
     "name": "stdout",
     "output_type": "stream",
     "text": [
      "[   0 1023  511 ...  853  341  682] 1024\n"
     ]
    },
    {
     "data": {
      "image/png": "[encoded data removed]",
      "text/plain": [
       "<Figure size 1008x864 with 1 Axes>"
      ]
     },
     "metadata": {
      "needs_background": "light"
     },
     "output_type": "display_data"
    }
   ],
   "source": [
    "n = 1000\n",
    "lam_max = 1000.0\n",
    "lam_min = 0.002\n",
    "niters = 1024\n",
    "\n",
    "\n",
    "tau_opt = 2.0/(lam_max + lam_min)\n",
    "\n",
    "niters = 1024\n",
    "x = np.zeros(n)\n",
    "res_richardson = []\n",
    "for i in range(niters):\n",
    "    rr = A.dot(x) - rhs\n",
    "    x = x - tau_opt * rr\n",
    "    res_richardson.append(np.linalg.norm(rr)/np.linalg.norm(rhs))\n",
    "\n",
    "roots = [np.cos((np.pi * (2 * i + 1)) / (2 * niters)) for i in range(niters)]\n",
    "taus = [(lam_max + lam_min - (lam_min - lam_max) * r) / 2 for r in roots]\n",
    "x = np.zeros(n)\n",
    "r = A.dot(x) - rhs\n",
    "res_cheb_even = [np.linalg.norm(r)/np.linalg.norm(rhs)]\n",
    "#print(taus)\n",
    "\n",
    "# Implementation may be non-optimal if number of iterations is not power of two\n",
    "def leb_shuffle_2n(n):\n",
    "    if n == 1:\n",
    "        return np.array([0,], dtype=int)\n",
    "    else:\n",
    "        prev = leb_shuffle_2n(n // 2)\n",
    "        ans = np.zeros(n, dtype=int)\n",
    "        ans[::2] = prev\n",
    "        ans[1::2] = n - 1 - prev\n",
    "        return ans\n",
    "\n",
    "good_perm_even = leb_shuffle_2n(niters)\n",
    "print(good_perm_even, len(good_perm_even))\n",
    "# good_perm_even = np.random.permutation([i for i in range(niters)])\n",
    "\n",
    "for i in range(niters):\n",
    "    x = x - 1.0/taus[good_perm_even[i]] * r\n",
    "    r = A.dot(x) - rhs\n",
    "    res_cheb_even.append(np.linalg.norm(r)/np.linalg.norm(rhs))\n",
    "    \n",
    "\n",
    "res_hist = []\n",
    "def callback(x):\n",
    "    res_hist.append(np.linalg.norm(A @ x - rhs) / np.linalg.norm(rhs))\n",
    "    \n",
    "x, info = spsplin.cg(A, rhs, maxiter=niters, tol=1e-10, callback=callback)\n",
    "\n",
    "\n",
    "plt.figure(figsize=(14, 12))\n",
    "plt.semilogy(res_richardson, label=\"Richardson\")\n",
    "plt.semilogy(res_cheb_even, label=\"Chebyshev\")\n",
    "plt.semilogy(res_hist, label=\"CG\")\n",
    "plt.legend(fontsize=20)\n",
    "plt.xlabel(\"Number of iterations, $k$\", fontsize=20)\n",
    "plt.ylabel(\"relative error, $\\|Ax_k - rsh\\|_2 / \\|rsh\\|_2$\", fontsize=20)\n",
    "plt.xticks(fontsize=20)\n",
    "_ = plt.yticks(fontsize=20)"
   ]
  },
  {
   "cell_type": "markdown",
   "metadata": {
    "id": "KvTXC8n9SVB_"
   },
   "source": [
    "## Задача 2 (20 pts)\n",
    "\n",
    "### Спектральное разбиение графа и обратная итерация\n",
    "\n",
    "\n",
    "Дан связный граф $G$ и соответствующий ему лапласиан $L = D - A$ с собственными значениями  $0=\\lambda_1, \\lambda_2, ..., \\lambda_n$, где $D$ диагональная матрица со степенями вершин на диагонали, а $A$ – матрица смежности.\n",
    "Вектор Фидлера – это собственный вектор, соответствующий собственному значению $\\lambda_2$ матрицы $L$. Этот вектор может быть использован для разбиения графа: положительные значения соответствуют одной части графа, отрицательные – другой."
   ]
  },
  {
   "cell_type": "markdown",
   "metadata": {
    "id": "AoYBynwaSVB_"
   },
   "source": [
    "### Метод обратной итерации\n",
    "\n",
    "Для поиска вектора Фидлера мы будем использовать метод Релея.\n",
    "\n",
    "* (10 pts) Выпишите матрицу ортопроектора на подпространство ортогональное собственному вектору матрице $L$, соответствующему собственному значению $0$ и докажите (аналитически), что это действительно ортопроектор.\n",
    " \n",
    "* (5 pts) Реализуйте функцию спектрального разделения графа ```partition```:"
   ]
  },
  {
   "cell_type": "markdown",
   "metadata": {
    "id": "2Noigt-vIe2Q"
   },
   "source": [
    "В матрице Лапласа строчные суммы равны нулю, поэтому собственным вектором, соответствующим собственному значению 0, является вектор $y = (1, 1, ..., 1)^T$. Пусть $E$ - подпространство ортогональное вектору $y$. Тогда $\\forall x \\in E \\rightarrow (x, y) = 0 \\Rightarrow x_1 + x_2 + ... + x_n = 0$. Данная ситсема линейных уравнений задает пространство $E$. Поэтому фундаментальная система решений этой системы является базисом в $E$. $dimE = n - rank(A)$, где $A$ - матрица системы, поэтому $dimE = n - 1$. Заметим, что векторы $x_1 = (1, -1, 0, 0, ..., 0)^T, x_2 = (1, 0, -1, 0, ..., 0)^T, ..., x_{n-1} = (1, 0, 0, 0, ... , -1)^T$ являются базисом в $E$.\n",
    "\n",
    "Пусть $P$ - линейный оператор ортогональной проекции на подпространство $E$, тогда матрица данного оператора в базисе $f = (x_1, x_2, ..., x_{n-1}, y) \\ \\ P_f = \\begin{bmatrix}\n",
    "1 & 0 & \\ldots & 0 & 0\\\\\n",
    "0 & 1 & \\ldots & 0 & 0\\\\\n",
    "\\vdots & \\vdots & \\vdots & \\vdots & \\vdots \\\\\n",
    "0 & 0 & \\ldots & 1 & 0 \\\\\n",
    "0 & 0 & \\ldots & 0 & 0\n",
    "\\end{bmatrix}$\n",
    "\n",
    "Найдем матрицу $P$ в стандартном базисе $e = (e_1, e_2, ..., e_n), e_1 = (1, 0, 0, ..., 0)^T, e_2 = (0, 1, 0, .., 0)^T, ..., e_n = (0, 0, 0, ..., 1)^T$.\n",
    "\n",
    "Чтобы найти $i-$й столбец матрицы $P_e$, нужно записать $e_i$ в базисе $f$, умножить матрицу $P_f$ на вектор из координат, полученный вектор разложить по базису $e$, и столбец из координат и будет $i-$м столбцом матрицы $P_e$.\n",
    "\n",
    "$(e_1)_f = (\\frac{1}{n}, \\frac{1}{n}, ..., \\frac{1}{n})^T, (e_2)_f = (\\frac{1}{n} - 1, \\frac{1}{n}, ..., \\frac{1}{n})^T, (e_3)_f = (\\frac{1}{n}, \\frac{1}{n} - 1, ..., \\frac{1}{n})^T, ..., (e_n)_f = (\\frac{1}{n}, \\frac{1}{n}, ..., \\frac{1}{n} - 1)^T$\n",
    "\n",
    "\n",
    "$\n",
    "P_fe = \\begin{bmatrix}\n",
    "1 & 0 & \\ldots & 0 & 0\\\\\n",
    "0 & 1 & \\ldots & 0 & 0\\\\\n",
    "\\vdots & \\vdots & \\vdots & \\vdots & \\vdots \\\\\n",
    "0 & 0 & \\ldots & 1 & 0 \\\\\n",
    "0 & 0 & \\ldots & 0 & 0\n",
    "\\end{bmatrix} \\begin{bmatrix}\n",
    "\\frac{1}{n} & \\frac{1}{n} - 1 & \\ldots & \\frac{1}{n} & \\frac{1}{n}\\\\\n",
    "\\frac{1}{n} & \\frac{1}{n} & \\ldots & \\frac{1}{n} & \\frac{1}{n}\\\\\n",
    "\\vdots & \\vdots & \\vdots & \\vdots & \\vdots \\\\\n",
    "\\frac{1}{n} & \\frac{1}{n} & \\ldots & \\frac{1}{n} & \\frac{1}{n} - 1 \\\\\n",
    "\\frac{1}{n} & \\frac{1}{n} & \\ldots & \\frac{1}{n} & \\frac{1}{n}\n",
    "\\end{bmatrix} = \\begin{bmatrix}\n",
    "\\frac{1}{n} & \\frac{1}{n} - 1 & \\ldots & \\frac{1}{n} & \\frac{1}{n}\\\\\n",
    "\\frac{1}{n} & \\frac{1}{n} & \\ldots & \\frac{1}{n} & \\frac{1}{n}\\\\\n",
    "\\vdots & \\vdots & \\vdots & \\vdots & \\vdots \\\\\n",
    "\\frac{1}{n} & \\frac{1}{n} & \\ldots & \\frac{1}{n} & \\frac{1}{n} - 1 \\\\\n",
    "0 & 0 & \\ldots & 0 & 0\n",
    "\\end{bmatrix} - $ в столбцах записаны проекции в базисе $f$\n",
    "\n",
    "$(P_fe_1)_e = (1 - \\frac{1}{n}, -\\frac{1}{n}, ..., -\\frac{1}{n})^T$\n",
    "\n",
    "$(P_fe_2)_e = (-\\frac{1}{n}, 1 - \\frac{1}{n}, ..., -\\frac{1}{n})^T$\n",
    "\n",
    "$....$\n",
    "\n",
    "$(P_fe_n)_e = (-\\frac{1}{n}, -\\frac{1}{n}, ..., 1 - \\frac{1}{n})^T$\n",
    "\n",
    "Следовательно, матрица оператора в стандартном базисе имеет вид $P_e = \\begin{bmatrix}\n",
    "1 - \\frac{1}{n} & -\\frac{1}{n} & \\ldots & -\\frac{1}{n} & -\\frac{1}{n}\\\\\n",
    "-\\frac{1}{n} & 1 - \\frac{1}{n} & \\ldots & -\\frac{1}{n} & -\\frac{1}{n}\\\\\n",
    "\\vdots & \\vdots & \\vdots & \\vdots & \\vdots \\\\\n",
    "-\\frac{1}{n} & -\\frac{1}{n} & \\ldots & 1 - \\frac{1}{n} & -\\frac{1}{n} \\\\\n",
    "-\\frac{1}{n} & -\\frac{1}{n} & \\ldots & -\\frac{1}{n} & 1 - \\frac{1}{n}\n",
    "\\end{bmatrix}$"
   ]
  },
  {
   "cell_type": "code",
   "execution_count": 3,
   "metadata": {
    "id": "azpr5-45gMnH"
   },
   "outputs": [],
   "source": [
    "import networkx as nx\n",
    "from networkx.generators.classic import lollipop_graph"
   ]
  },
  {
   "cell_type": "code",
   "execution_count": 39,
   "metadata": {
    "id": "sVO54N84SVCA"
   },
   "outputs": [],
   "source": [
    "# INPUT:\n",
    "# A - adjacency matrix (scipy.sparse.csr_matrix)\n",
    "# num_iter_fix - number of iterations with fixed shift (float)\n",
    "# shift - (float number)\n",
    "# num_iter_adapt - number of iterations with adaptive shift (int) -- Rayleigh quotient iteration steps\n",
    "# x0 - initial guess (1D numpy.ndarray)\n",
    "# OUTPUT:\n",
    "# x - normalized Fiedler vector (1D numpy.ndarray)\n",
    "# eigs - eigenvalue estimations at each step (1D numpy.ndarray)\n",
    "# eps - relative tolerance (float)\n",
    "def partition(A, shift, num_iter_fix, num_iter_adapt, x0, eps):\n",
    "    \n",
    "    ex = A.sum(axis=1)\n",
    "    n = A.shape[0]\n",
    "    D = sp.sparse.spdiags(np.array(ex).ravel(), [0], n, n, 'csr')\n",
    "    L = D - A\n",
    "    L1 = L + shift * spsp.eye(n, format=\"csr\")\n",
    "    \n",
    "    u = x0 / np.linalg.norm(x0)   # u - ksi, v - eta\n",
    "    eigs = []\n",
    "    ans = []\n",
    "    eig = 0.0001\n",
    "\n",
    "    \n",
    "    for i in range(num_iter_fix):\n",
    "        v = spsplin.spsolve(L1, u)\n",
    "        y = v - v.dot(np.ones(n)) * np.ones(n) / n\n",
    "        u_new = y / np.linalg.norm(y)\n",
    "        eig_new = u_new.T.dot(L1.dot(u_new))\n",
    "        \n",
    "        eigs.append(eig)\n",
    "        ans.append(np.linalg.norm(u_new - u))\n",
    "        u = u_new\n",
    "        \n",
    "        if np.linalg.norm(eig_new - eig) / np.linalg.norm(eig) <= eps:\n",
    "            return u, eigs, ans\n",
    "        \n",
    "        eig = eig_new    \n",
    "        \n",
    "    \n",
    "    for i in range(num_iter_adapt):\n",
    "        L1 = L - eig * spsp.eye(n, format=\"csr\")\n",
    "        L1 = spsp.csr_matrix(L1)\n",
    "        v = spsplin.spsolve(L1, u)\n",
    "        y = v - v.dot(np.ones((n, n))).dot(np.ones((n, n))) / n\n",
    "        u_new = y / np.linalg.norm(y)\n",
    "        eig_new = u_new.T.dot(L1.dot(u_new))\n",
    "        \n",
    "        eigs.append(eig)\n",
    "        ans.append(np.linalg.norm(u_new - u))\n",
    "        u = u_new\n",
    "        \n",
    "        if np.linalg.norm(eig_new - eig) / np.linalg.norm(eig) <= eps:\n",
    "            return u, eigs, ans\n",
    "        \n",
    "        eig = eig_new \n",
    "        \n",
    "    return u, eigs, ans\n",
    "        "
   ]
  },
  {
   "cell_type": "code",
   "execution_count": null,
   "metadata": {
    "colab": {
     "base_uri": "https://localhost:8080/",
     "height": 319
    },
    "id": "CGMKhQdKabZT",
    "outputId": "edb5687d-7b95-4e2b-8d6d-62587973d475"
   },
   "outputs": [
    {
     "data": {
      "image/png": "[encoded data removed]",
      "text/plain": [
       "<Figure size 432x288 with 1 Axes>"
      ]
     },
     "metadata": {},
     "output_type": "display_data"
    }
   ],
   "source": [
    "A = np.zeros((11,11))\n",
    "A[0,1] = A[0,2] = A[0,3] = A[0,4] = 1\n",
    "A[5,6] = A[5,7] = A[5,8] = A[5,9] = A[5,10] = 1\n",
    "A[0,5] = 5\n",
    "\n",
    "G = nx.from_numpy_matrix(A)\n",
    "labels = [\"red\" for i in range(11)]\n",
    "\n",
    "\n",
    "\n",
    "nx.draw(G, pos=nx.drawing.layout.spring_layout(G), \n",
    "           with_labels=True, node_color=labels)  "
   ]
  },
  {
   "cell_type": "code",
   "execution_count": null,
   "metadata": {
    "id": "ESi3Z-hlj__B"
   },
   "outputs": [],
   "source": [
    "B = nx.to_scipy_sparse_matrix(G, format=\"csr\")\n",
    "n = B.shape[0]\n",
    "\n",
    "u, eigs, ans = partition(B, 0.001, 1000, 1000, np.ones(n), 0.00001)"
   ]
  },
  {
   "cell_type": "code",
   "execution_count": null,
   "metadata": {
    "colab": {
     "base_uri": "https://localhost:8080/"
    },
    "id": "wlghhdDokFcg",
    "outputId": "b58dd414-a688-4619-8504-a18821003bbf"
   },
   "outputs": [
    {
     "data": {
      "text/plain": [
       "array([ 0.11819137,  0.36585313,  0.36585313,  0.36585313,  0.36585313,\n",
       "       -0.09595779, -0.29712922, -0.29712922, -0.29712922, -0.29712922,\n",
       "       -0.29712922])"
      ]
     },
     "execution_count": 137,
     "metadata": {},
     "output_type": "execute_result"
    }
   ],
   "source": [
    "u"
   ]
  },
  {
   "cell_type": "code",
   "execution_count": null,
   "metadata": {
    "colab": {
     "base_uri": "https://localhost:8080/",
     "height": 319
    },
    "id": "aZFN1RQGkGlf",
    "outputId": "1567133d-cdf1-4987-b98d-f25be59f6296"
   },
   "outputs": [
    {
     "data": {
      "image/png": "[encoded data removed]",
      "text/plain": [
       "<Figure size 432x288 with 1 Axes>"
      ]
     },
     "metadata": {},
     "output_type": "display_data"
    }
   ],
   "source": [
    "labels = [\"green\" if v < 0 else \"orange\" for v in u]\n",
    "\n",
    "\n",
    "nx.draw(G, pos=nx.drawing.layout.spring_layout(G), \n",
    "           with_labels=True, node_color=labels)"
   ]
  },
  {
   "cell_type": "code",
   "execution_count": null,
   "metadata": {
    "colab": {
     "base_uri": "https://localhost:8080/",
     "height": 319
    },
    "id": "v8Cve4OVkXs-",
    "outputId": "f302e1bf-f6d9-4e7b-b1a4-e9c5e7296c24"
   },
   "outputs": [
    {
     "data": {
      "image/png": "[encoded data removed]",
      "text/plain": [
       "<Figure size 432x288 with 1 Axes>"
      ]
     },
     "metadata": {},
     "output_type": "display_data"
    }
   ],
   "source": [
    "A = np.array([[0,2,2,0,0,0,0,0,0],\n",
    "         [2,0,2,0,0,0,0,0,0],\n",
    "         [2,2,0,1,0,0,0,0,0],\n",
    "         [0,0,1,0,3,3,0,0,0],\n",
    "         [0,0,0,3,0,3,0,0,0],\n",
    "         [0,0,0,3,3,0,1,0,0],\n",
    "         [0,0,0,0,0,1,0,1,1],\n",
    "         [0,0,0,0,0,0,1,0,1],\n",
    "         [0,0,0,0,0,0,1,1,0]])\n",
    "\n",
    "\n",
    "G = nx.from_numpy_matrix(A)\n",
    "labels = [\"red\" for i in range(A.shape[0])]\n",
    "\n",
    "\n",
    "\n",
    "nx.draw(G, pos=nx.drawing.layout.spring_layout(G), \n",
    "           with_labels=True, node_color=labels)"
   ]
  },
  {
   "cell_type": "code",
   "execution_count": null,
   "metadata": {
    "colab": {
     "base_uri": "https://localhost:8080/",
     "height": 319
    },
    "id": "TvMSqGIGlZ_q",
    "outputId": "28c5e7de-730d-4c28-9c04-3523e2adb0da"
   },
   "outputs": [
    {
     "data": {
      "image/png": "[encoded data removed]",
      "text/plain": [
       "<Figure size 432x288 with 1 Axes>"
      ]
     },
     "metadata": {},
     "output_type": "display_data"
    }
   ],
   "source": [
    "B = nx.to_scipy_sparse_matrix(G, format=\"csr\")\n",
    "n = B.shape[0]\n",
    "\n",
    "u, eigs, ans = partition(B, 0.001, 1000, 1000, np.ones(n), 0.00001)\n",
    "\n",
    "labels = [\"green\" if v < 0 else \"orange\" for v in u]\n",
    "\n",
    "\n",
    "nx.draw(G, pos=nx.drawing.layout.spring_layout(G), \n",
    "           with_labels=True, node_color=labels)"
   ]
  },
  {
   "cell_type": "code",
   "execution_count": null,
   "metadata": {
    "colab": {
     "base_uri": "https://localhost:8080/",
     "height": 319
    },
    "id": "TNjlyo2Ylgxp",
    "outputId": "bd69aa62-2f53-42f5-878b-22f9c12ab5f2"
   },
   "outputs": [
    {
     "data": {
      "image/png": "[encoded data removed]",
      "text/plain": [
       "<Figure size 432x288 with 1 Axes>"
      ]
     },
     "metadata": {},
     "output_type": "display_data"
    }
   ],
   "source": [
    "A = np.array([[0,1,1,1,0,0,0,0],\n",
    "              [1,0,1,1,1,0,0,0],\n",
    "              [1,1,0,1,0,0,1,0],\n",
    "              [1,1,1,0,0,0,0,1],\n",
    "              [0,1,0,0,0,1,1,1],\n",
    "              [0,0,0,0,1,0,1,1],\n",
    "              [0,0,1,0,1,1,0,1],\n",
    "              [0,0,0,1,1,1,1,0]\n",
    "              ])\n",
    "\n",
    "\n",
    "G = nx.from_numpy_matrix(A)\n",
    "labels = [\"red\" for i in range(A.shape[0])]\n",
    "\n",
    "\n",
    "\n",
    "nx.draw(G, pos=nx.drawing.layout.spring_layout(G), \n",
    "           with_labels=True, node_color=labels)"
   ]
  },
  {
   "cell_type": "code",
   "execution_count": null,
   "metadata": {
    "colab": {
     "base_uri": "https://localhost:8080/",
     "height": 319
    },
    "id": "s6_b_9BrnAfC",
    "outputId": "51d425fd-771a-4598-ee2c-a48dff020f3c"
   },
   "outputs": [
    {
     "data": {
      "image/png": "[encoded data removed]",
      "text/plain": [
       "<Figure size 432x288 with 1 Axes>"
      ]
     },
     "metadata": {},
     "output_type": "display_data"
    }
   ],
   "source": [
    "B = nx.to_scipy_sparse_matrix(G, format=\"csr\")\n",
    "n = B.shape[0]\n",
    "\n",
    "u, eigs, ans = partition(B, 0.001, 1000, 1000, np.ones(n), 0.00001)\n",
    "\n",
    "labels = [\"green\" if v < 0 else \"orange\" for v in u]\n",
    "\n",
    "\n",
    "nx.draw(G, pos=nx.drawing.layout.spring_layout(G), \n",
    "           with_labels=True, node_color=labels)"
   ]
  },
  {
   "cell_type": "markdown",
   "metadata": {
    "id": "oyKvC-J_SVCB"
   },
   "source": [
    "Алгоритм должен останавливаться спустя `num_iter_fix + num_iter_adapt` итераций или если выполнено следующее соотношение\n",
    "\n",
    "$$ \\boxed{\\|\\lambda_k - \\lambda_{k-1}\\|_2 / \\|\\lambda_k\\|_2 \\leq \\varepsilon} \\text{ на некотором шаге } k.$$\n",
    "\n",
    "Не забудьте использовать ортогональную проекцию из задачи выше в итерационном процессе, чтобы получить верный собственный вектор.\n",
    "Также хорошей идеей могло быть использование ```shift=0``` до запуска адаптивного режима. Однако это невозможно в силу вырождннности матрицы $L$, а разреженное разложенное в ```scipy``` не работет в этом случае. Поэтому вместо нулевого сдвига предлагается использовать некоторое малое значение.\n",
    "\n",
    "* (3 pts) Сгенерируйте случайный `lollipop_graph`, используя библиотеку `networkx`, и найдите его разбиение. [Нарисуйте](https://networkx.github.io/documentation/networkx-1.9/examples/drawing/labels_and_colors.html) этот граф с вершинами, окрашенными в соответствии с разбиением.\n",
    "\n",
    "* (2 pts) Запустите метод со случайного начального приближение ```x0```, установите ```num_iter_fix=0``` и объясните, почему метод может сойтись к неверному собственному значению?"
   ]
  },
  {
   "cell_type": "code",
   "execution_count": null,
   "metadata": {
    "colab": {
     "base_uri": "https://localhost:8080/",
     "height": 248
    },
    "id": "ClVVILYTSVCC",
    "outputId": "68d79fd8-66d3-4f81-bc6f-79f97a61f0cf"
   },
   "outputs": [
    {
     "data": {
      "image/png": "[encoded data removed]",
      "text/plain": [
       "<Figure size 432x288 with 1 Axes>"
      ]
     },
     "metadata": {},
     "output_type": "display_data"
    }
   ],
   "source": [
    "m, n = 5, 7\n",
    "G = lollipop_graph(m, n)\n",
    "\n",
    "nx.draw_networkx(G)"
   ]
  },
  {
   "cell_type": "code",
   "execution_count": null,
   "metadata": {
    "colab": {
     "base_uri": "https://localhost:8080/",
     "height": 319
    },
    "id": "5rPT_K4HnPRH",
    "outputId": "68bda749-0e32-4492-a50c-7342c805d4aa"
   },
   "outputs": [
    {
     "data": {
      "image/png": "[encoded data removed]",
      "text/plain": [
       "<Figure size 432x288 with 1 Axes>"
      ]
     },
     "metadata": {},
     "output_type": "display_data"
    }
   ],
   "source": [
    "B = nx.to_scipy_sparse_matrix(G, format=\"csr\")\n",
    "n = B.shape[0]\n",
    "\n",
    "u, eigs, ans = partition(B, 0.001, 1000, 1000, np.ones(n), 0.00001)\n",
    "\n",
    "labels = [\"green\" if v < 0 else \"orange\" for v in u]\n",
    "\n",
    "\n",
    "nx.draw(G, pos=nx.drawing.layout.spring_layout(G), \n",
    "           with_labels=True, node_color=labels)"
   ]
  },
  {
   "cell_type": "code",
   "execution_count": null,
   "metadata": {
    "colab": {
     "base_uri": "https://localhost:8080/",
     "height": 248
    },
    "id": "zJCHbW8qnYL7",
    "outputId": "4de12dd3-c03e-458a-8a86-ff7eea522cc4"
   },
   "outputs": [
    {
     "data": {
      "image/png": "[encoded data removed]",
      "text/plain": [
       "<Figure size 432x288 with 1 Axes>"
      ]
     },
     "metadata": {},
     "output_type": "display_data"
    }
   ],
   "source": [
    "m, n = 10, 30\n",
    "G = lollipop_graph(m, n)\n",
    "\n",
    "nx.draw_networkx(G)"
   ]
  },
  {
   "cell_type": "code",
   "execution_count": null,
   "metadata": {
    "colab": {
     "base_uri": "https://localhost:8080/",
     "height": 319
    },
    "id": "yc_jy0h-ne7m",
    "outputId": "52e193a8-139e-4c0d-869d-919abf5e1708"
   },
   "outputs": [
    {
     "data": {
      "image/png": "[encoded data removed]",
      "text/plain": [
       "<Figure size 432x288 with 1 Axes>"
      ]
     },
     "metadata": {},
     "output_type": "display_data"
    }
   ],
   "source": [
    "B = nx.to_scipy_sparse_matrix(G, format=\"csr\")\n",
    "n = B.shape[0]\n",
    "\n",
    "u, eigs, ans = partition(B, 0.001, 1000, 1000, np.ones(n), 0.00001)\n",
    "\n",
    "labels = [\"green\" if v < 0 else \"orange\" for v in u]\n",
    "\n",
    "\n",
    "nx.draw(G, pos=nx.drawing.layout.spring_layout(G), \n",
    "           with_labels=True, node_color=labels)"
   ]
  },
  {
   "cell_type": "code",
   "execution_count": 5,
   "metadata": {
    "colab": {
     "base_uri": "https://localhost:8080/",
     "height": 248
    },
    "id": "z2kNoC4vIywc",
    "outputId": "22160345-6427-402e-b1d9-a0b9d56c3a20"
   },
   "outputs": [
    {
     "data": {
      "image/png": "[encoded data removed]",
      "text/plain": [
       "<Figure size 432x288 with 1 Axes>"
      ]
     },
     "metadata": {},
     "output_type": "display_data"
    }
   ],
   "source": [
    "m, n = 7, 33\n",
    "G = lollipop_graph(m, n)\n",
    "\n",
    "nx.draw_networkx(G)"
   ]
  },
  {
   "cell_type": "code",
   "execution_count": 40,
   "metadata": {
    "id": "ENjnNGQFI1jt"
   },
   "outputs": [],
   "source": [
    "B = nx.to_scipy_sparse_matrix(G, format=\"csr\")\n",
    "n = B.shape[0]\n",
    "\n",
    "x0 = np.random.rand(n)\n",
    "\n",
    "u, eigs, ans = partition(B, 0.001, 0, 1000, x0, 0.00001)\n",
    "\n"
   ]
  },
  {
   "cell_type": "code",
   "execution_count": 42,
   "metadata": {
    "colab": {
     "base_uri": "https://localhost:8080/",
     "height": 319
    },
    "id": "BpqgXpWiJR4M",
    "outputId": "50bc1752-c5f4-4275-98b1-5b1579a769d8"
   },
   "outputs": [
    {
     "data": {
      "image/png": "[encoded data removed]",
      "text/plain": [
       "<Figure size 432x288 with 1 Axes>"
      ]
     },
     "metadata": {},
     "output_type": "display_data"
    }
   ],
   "source": [
    "labels = [\"green\" if v < 0 else \"red\" for v in u]\n",
    "\n",
    "\n",
    "nx.draw(G, pos=nx.drawing.layout.spring_layout(G), \n",
    "           with_labels=True, node_color=labels)"
   ]
  },
  {
   "cell_type": "code",
   "execution_count": 43,
   "metadata": {
    "colab": {
     "base_uri": "https://localhost:8080/"
    },
    "id": "CziNnTJtK6X6",
    "outputId": "05141215-69d9-45ae-e260-6f0a94c35e75"
   },
   "outputs": [
    {
     "data": {
      "text/plain": [
       "[0.0001,\n",
       " -9.999998378189314e-05,\n",
       " 9.999998378203473e-05,\n",
       " -9.999998378188398e-05,\n",
       " 9.999998378209026e-05,\n",
       " -9.999998378221745e-05,\n",
       " 9.999998378232716e-05,\n",
       " -9.99999837822394e-05,\n",
       " 9.999998378232716e-05,\n",
       " -9.99999837822394e-05,\n",
       " 9.999998378232716e-05,\n",
       " -9.99999837822394e-05,\n",
       " 9.999998378232716e-05,\n",
       " -9.99999837822394e-05,\n",
       " 9.999998378232716e-05,\n",
       " -9.99999837822394e-05,\n",
       " 9.999998378232716e-05,\n",
       " -9.99999837822394e-05,\n",
       " 9.999998378232716e-05,\n",
       " -9.99999837822394e-05,\n",
       " 9.999998378232716e-05,\n",
       " -9.99999837822394e-05,\n",
       " 9.999998378232716e-05,\n",
       " -9.99999837822394e-05,\n",
       " 9.999998378232716e-05,\n",
       " -9.99999837822394e-05,\n",
       " 9.999998378232716e-05,\n",
       " -9.99999837822394e-05,\n",
       " 9.999998378232716e-05,\n",
       " -9.99999837822394e-05,\n",
       " 9.999998378232716e-05,\n",
       " -9.99999837822394e-05,\n",
       " 9.999998378232716e-05,\n",
       " -9.99999837822394e-05,\n",
       " 9.999998378232716e-05,\n",
       " -9.99999837822394e-05,\n",
       " 9.999998378232716e-05,\n",
       " -9.99999837822394e-05,\n",
       " 9.999998378232716e-05,\n",
       " -9.99999837822394e-05,\n",
       " 9.999998378232716e-05,\n",
       " -9.99999837822394e-05,\n",
       " 9.999998378232716e-05,\n",
       " -9.99999837822394e-05,\n",
       " 9.999998378232716e-05,\n",
       " -9.99999837822394e-05,\n",
       " 9.999998378232716e-05,\n",
       " -9.99999837822394e-05,\n",
       " 9.999998378232716e-05,\n",
       " -9.99999837822394e-05,\n",
       " 9.999998378232716e-05,\n",
       " -9.99999837822394e-05,\n",
       " 9.999998378232716e-05,\n",
       " -9.99999837822394e-05,\n",
       " 9.999998378232716e-05,\n",
       " -9.99999837822394e-05,\n",
       " 9.999998378232716e-05,\n",
       " -9.99999837822394e-05,\n",
       " 9.999998378232716e-05,\n",
       " -9.99999837822394e-05,\n",
       " 9.999998378232716e-05,\n",
       " -9.99999837822394e-05,\n",
       " 9.999998378232716e-05,\n",
       " -9.99999837822394e-05,\n",
       " 9.999998378232716e-05,\n",
       " -9.99999837822394e-05,\n",
       " 9.999998378232716e-05,\n",
       " -9.99999837822394e-05,\n",
       " 9.999998378232716e-05,\n",
       " -9.99999837822394e-05,\n",
       " 9.999998378232716e-05,\n",
       " -9.99999837822394e-05,\n",
       " 9.999998378232716e-05,\n",
       " -9.99999837822394e-05,\n",
       " 9.999998378232716e-05,\n",
       " -9.99999837822394e-05,\n",
       " 9.999998378232716e-05,\n",
       " -9.99999837822394e-05,\n",
       " 9.999998378232716e-05,\n",
       " -9.99999837822394e-05,\n",
       " 9.999998378232716e-05,\n",
       " -9.99999837822394e-05,\n",
       " 9.999998378232716e-05,\n",
       " -9.99999837822394e-05,\n",
       " 9.999998378232716e-05,\n",
       " -9.99999837822394e-05,\n",
       " 9.999998378232716e-05,\n",
       " -9.99999837822394e-05,\n",
       " 9.999998378232716e-05,\n",
       " -9.99999837822394e-05,\n",
       " 9.999998378232716e-05,\n",
       " -9.99999837822394e-05,\n",
       " 9.999998378232716e-05,\n",
       " -9.99999837822394e-05,\n",
       " 9.999998378232716e-05,\n",
       " -9.99999837822394e-05,\n",
       " 9.999998378232716e-05,\n",
       " -9.99999837822394e-05,\n",
       " 9.999998378232716e-05,\n",
       " -9.99999837822394e-05,\n",
       " 9.999998378232716e-05,\n",
       " -9.99999837822394e-05,\n",
       " 9.999998378232716e-05,\n",
       " -9.99999837822394e-05,\n",
       " 9.999998378232716e-05,\n",
       " -9.99999837822394e-05,\n",
       " 9.999998378232716e-05,\n",
       " -9.99999837822394e-05,\n",
       " 9.999998378232716e-05,\n",
       " -9.99999837822394e-05,\n",
       " 9.999998378232716e-05,\n",
       " -9.99999837822394e-05,\n",
       " 9.999998378232716e-05,\n",
       " -9.99999837822394e-05,\n",
       " 9.999998378232716e-05,\n",
       " -9.99999837822394e-05,\n",
       " 9.999998378232716e-05,\n",
       " -9.99999837822394e-05,\n",
       " 9.999998378232716e-05,\n",
       " -9.99999837822394e-05,\n",
       " 9.999998378232716e-05,\n",
       " -9.99999837822394e-05,\n",
       " 9.999998378232716e-05,\n",
       " -9.99999837822394e-05,\n",
       " 9.999998378232716e-05,\n",
       " -9.99999837822394e-05,\n",
       " 9.999998378232716e-05,\n",
       " -9.99999837822394e-05,\n",
       " 9.999998378232716e-05,\n",
       " -9.99999837822394e-05,\n",
       " 9.999998378232716e-05,\n",
       " -9.99999837822394e-05,\n",
       " 9.999998378232716e-05,\n",
       " -9.99999837822394e-05,\n",
       " 9.999998378232716e-05,\n",
       " -9.99999837822394e-05,\n",
       " 9.999998378232716e-05,\n",
       " -9.99999837822394e-05,\n",
       " 9.999998378232716e-05,\n",
       " -9.99999837822394e-05,\n",
       " 9.999998378232716e-05,\n",
       " -9.99999837822394e-05,\n",
       " 9.999998378232716e-05,\n",
       " -9.99999837822394e-05,\n",
       " 9.999998378232716e-05,\n",
       " -9.99999837822394e-05,\n",
       " 9.999998378232716e-05,\n",
       " -9.99999837822394e-05,\n",
       " 9.999998378232716e-05,\n",
       " -9.99999837822394e-05,\n",
       " 9.999998378232716e-05,\n",
       " -9.99999837822394e-05,\n",
       " 9.999998378232716e-05,\n",
       " -9.99999837822394e-05,\n",
       " 9.999998378232716e-05,\n",
       " -9.99999837822394e-05,\n",
       " 9.999998378232716e-05,\n",
       " -9.99999837822394e-05,\n",
       " 9.999998378232716e-05,\n",
       " -9.99999837822394e-05,\n",
       " 9.999998378232716e-05,\n",
       " -9.99999837822394e-05,\n",
       " 9.999998378232716e-05,\n",
       " -9.99999837822394e-05,\n",
       " 9.999998378232716e-05,\n",
       " -9.99999837822394e-05,\n",
       " 9.999998378232716e-05,\n",
       " -9.99999837822394e-05,\n",
       " 9.999998378232716e-05,\n",
       " -9.99999837822394e-05,\n",
       " 9.999998378232716e-05,\n",
       " -9.99999837822394e-05,\n",
       " 9.999998378232716e-05,\n",
       " -9.99999837822394e-05,\n",
       " 9.999998378232716e-05,\n",
       " -9.99999837822394e-05,\n",
       " 9.999998378232716e-05,\n",
       " -9.99999837822394e-05,\n",
       " 9.999998378232716e-05,\n",
       " -9.99999837822394e-05,\n",
       " 9.999998378232716e-05,\n",
       " -9.99999837822394e-05,\n",
       " 9.999998378232716e-05,\n",
       " -9.99999837822394e-05,\n",
       " 9.999998378232716e-05,\n",
       " -9.99999837822394e-05,\n",
       " 9.999998378232716e-05,\n",
       " -9.99999837822394e-05,\n",
       " 9.999998378232716e-05,\n",
       " -9.99999837822394e-05,\n",
       " 9.999998378232716e-05,\n",
       " -9.99999837822394e-05,\n",
       " 9.999998378232716e-05,\n",
       " -9.99999837822394e-05,\n",
       " 9.999998378232716e-05,\n",
       " -9.99999837822394e-05,\n",
       " 9.999998378232716e-05,\n",
       " -9.99999837822394e-05,\n",
       " 9.999998378232716e-05,\n",
       " -9.99999837822394e-05,\n",
       " 9.999998378232716e-05,\n",
       " -9.99999837822394e-05,\n",
       " 9.999998378232716e-05,\n",
       " -9.99999837822394e-05,\n",
       " 9.999998378232716e-05,\n",
       " -9.99999837822394e-05,\n",
       " 9.999998378232716e-05,\n",
       " -9.99999837822394e-05,\n",
       " 9.999998378232716e-05,\n",
       " -9.99999837822394e-05,\n",
       " 9.999998378232716e-05,\n",
       " -9.99999837822394e-05,\n",
       " 9.999998378232716e-05,\n",
       " -9.99999837822394e-05,\n",
       " 9.999998378232716e-05,\n",
       " -9.99999837822394e-05,\n",
       " 9.999998378232716e-05,\n",
       " -9.99999837822394e-05,\n",
       " 9.999998378232716e-05,\n",
       " -9.99999837822394e-05,\n",
       " 9.999998378232716e-05,\n",
       " -9.99999837822394e-05,\n",
       " 9.999998378232716e-05,\n",
       " -9.99999837822394e-05,\n",
       " 9.999998378232716e-05,\n",
       " -9.99999837822394e-05,\n",
       " 9.999998378232716e-05,\n",
       " -9.99999837822394e-05,\n",
       " 9.999998378232716e-05,\n",
       " -9.99999837822394e-05,\n",
       " 9.999998378232716e-05,\n",
       " -9.99999837822394e-05,\n",
       " 9.999998378232716e-05,\n",
       " -9.99999837822394e-05,\n",
       " 9.999998378232716e-05,\n",
       " -9.99999837822394e-05,\n",
       " 9.999998378232716e-05,\n",
       " -9.99999837822394e-05,\n",
       " 9.999998378232716e-05,\n",
       " -9.99999837822394e-05,\n",
       " 9.999998378232716e-05,\n",
       " -9.99999837822394e-05,\n",
       " 9.999998378232716e-05,\n",
       " -9.99999837822394e-05,\n",
       " 9.999998378232716e-05,\n",
       " -9.99999837822394e-05,\n",
       " 9.999998378232716e-05,\n",
       " -9.99999837822394e-05,\n",
       " 9.999998378232716e-05,\n",
       " -9.99999837822394e-05,\n",
       " 9.999998378232716e-05,\n",
       " -9.99999837822394e-05,\n",
       " 9.999998378232716e-05,\n",
       " -9.99999837822394e-05,\n",
       " 9.999998378232716e-05,\n",
       " -9.99999837822394e-05,\n",
       " 9.999998378232716e-05,\n",
       " -9.99999837822394e-05,\n",
       " 9.999998378232716e-05,\n",
       " -9.99999837822394e-05,\n",
       " 9.999998378232716e-05,\n",
       " -9.99999837822394e-05,\n",
       " 9.999998378232716e-05,\n",
       " -9.99999837822394e-05,\n",
       " 9.999998378232716e-05,\n",
       " -9.99999837822394e-05,\n",
       " 9.999998378232716e-05,\n",
       " -9.99999837822394e-05,\n",
       " 9.999998378232716e-05,\n",
       " -9.99999837822394e-05,\n",
       " 9.999998378232716e-05,\n",
       " -9.99999837822394e-05,\n",
       " 9.999998378232716e-05,\n",
       " -9.99999837822394e-05,\n",
       " 9.999998378232716e-05,\n",
       " -9.99999837822394e-05,\n",
       " 9.999998378232716e-05,\n",
       " -9.99999837822394e-05,\n",
       " 9.999998378232716e-05,\n",
       " -9.99999837822394e-05,\n",
       " 9.999998378232716e-05,\n",
       " -9.99999837822394e-05,\n",
       " 9.999998378232716e-05,\n",
       " -9.99999837822394e-05,\n",
       " 9.999998378232716e-05,\n",
       " -9.99999837822394e-05,\n",
       " 9.999998378232716e-05,\n",
       " -9.99999837822394e-05,\n",
       " 9.999998378232716e-05,\n",
       " -9.99999837822394e-05,\n",
       " 9.999998378232716e-05,\n",
       " -9.99999837822394e-05,\n",
       " 9.999998378232716e-05,\n",
       " -9.99999837822394e-05,\n",
       " 9.999998378232716e-05,\n",
       " -9.99999837822394e-05,\n",
       " 9.999998378232716e-05,\n",
       " -9.99999837822394e-05,\n",
       " 9.999998378232716e-05,\n",
       " -9.99999837822394e-05,\n",
       " 9.999998378232716e-05,\n",
       " -9.99999837822394e-05,\n",
       " 9.999998378232716e-05,\n",
       " -9.99999837822394e-05,\n",
       " 9.999998378232716e-05,\n",
       " -9.99999837822394e-05,\n",
       " 9.999998378232716e-05,\n",
       " -9.99999837822394e-05,\n",
       " 9.999998378232716e-05,\n",
       " -9.99999837822394e-05,\n",
       " 9.999998378232716e-05,\n",
       " -9.99999837822394e-05,\n",
       " 9.999998378232716e-05,\n",
       " -9.99999837822394e-05,\n",
       " 9.999998378232716e-05,\n",
       " -9.99999837822394e-05,\n",
       " 9.999998378232716e-05,\n",
       " -9.99999837822394e-05,\n",
       " 9.999998378232716e-05,\n",
       " -9.99999837822394e-05,\n",
       " 9.999998378232716e-05,\n",
       " -9.99999837822394e-05,\n",
       " 9.999998378232716e-05,\n",
       " -9.99999837822394e-05,\n",
       " 9.999998378232716e-05,\n",
       " -9.99999837822394e-05,\n",
       " 9.999998378232716e-05,\n",
       " -9.99999837822394e-05,\n",
       " 9.999998378232716e-05,\n",
       " -9.99999837822394e-05,\n",
       " 9.999998378232716e-05,\n",
       " -9.99999837822394e-05,\n",
       " 9.999998378232716e-05,\n",
       " -9.99999837822394e-05,\n",
       " 9.999998378232716e-05,\n",
       " -9.99999837822394e-05,\n",
       " 9.999998378232716e-05,\n",
       " -9.99999837822394e-05,\n",
       " 9.999998378232716e-05,\n",
       " -9.99999837822394e-05,\n",
       " 9.999998378232716e-05,\n",
       " -9.99999837822394e-05,\n",
       " 9.999998378232716e-05,\n",
       " -9.99999837822394e-05,\n",
       " 9.999998378232716e-05,\n",
       " -9.99999837822394e-05,\n",
       " 9.999998378232716e-05,\n",
       " -9.99999837822394e-05,\n",
       " 9.999998378232716e-05,\n",
       " -9.99999837822394e-05,\n",
       " 9.999998378232716e-05,\n",
       " -9.99999837822394e-05,\n",
       " 9.999998378232716e-05,\n",
       " -9.99999837822394e-05,\n",
       " 9.999998378232716e-05,\n",
       " -9.99999837822394e-05,\n",
       " 9.999998378232716e-05,\n",
       " -9.99999837822394e-05,\n",
       " 9.999998378232716e-05,\n",
       " -9.99999837822394e-05,\n",
       " 9.999998378232716e-05,\n",
       " -9.99999837822394e-05,\n",
       " 9.999998378232716e-05,\n",
       " -9.99999837822394e-05,\n",
       " 9.999998378232716e-05,\n",
       " -9.99999837822394e-05,\n",
       " 9.999998378232716e-05,\n",
       " -9.99999837822394e-05,\n",
       " 9.999998378232716e-05,\n",
       " -9.99999837822394e-05,\n",
       " 9.999998378232716e-05,\n",
       " -9.99999837822394e-05,\n",
       " 9.999998378232716e-05,\n",
       " -9.99999837822394e-05,\n",
       " 9.999998378232716e-05,\n",
       " -9.99999837822394e-05,\n",
       " 9.999998378232716e-05,\n",
       " -9.99999837822394e-05,\n",
       " 9.999998378232716e-05,\n",
       " -9.99999837822394e-05,\n",
       " 9.999998378232716e-05,\n",
       " -9.99999837822394e-05,\n",
       " 9.999998378232716e-05,\n",
       " -9.99999837822394e-05,\n",
       " 9.999998378232716e-05,\n",
       " -9.99999837822394e-05,\n",
       " 9.999998378232716e-05,\n",
       " -9.99999837822394e-05,\n",
       " 9.999998378232716e-05,\n",
       " -9.99999837822394e-05,\n",
       " 9.999998378232716e-05,\n",
       " -9.99999837822394e-05,\n",
       " 9.999998378232716e-05,\n",
       " -9.99999837822394e-05,\n",
       " 9.999998378232716e-05,\n",
       " -9.99999837822394e-05,\n",
       " 9.999998378232716e-05,\n",
       " -9.99999837822394e-05,\n",
       " 9.999998378232716e-05,\n",
       " -9.99999837822394e-05,\n",
       " 9.999998378232716e-05,\n",
       " -9.99999837822394e-05,\n",
       " 9.999998378232716e-05,\n",
       " -9.99999837822394e-05,\n",
       " 9.999998378232716e-05,\n",
       " -9.99999837822394e-05,\n",
       " 9.999998378232716e-05,\n",
       " -9.99999837822394e-05,\n",
       " 9.999998378232716e-05,\n",
       " -9.99999837822394e-05,\n",
       " 9.999998378232716e-05,\n",
       " -9.99999837822394e-05,\n",
       " 9.999998378232716e-05,\n",
       " -9.99999837822394e-05,\n",
       " 9.999998378232716e-05,\n",
       " -9.99999837822394e-05,\n",
       " 9.999998378232716e-05,\n",
       " -9.99999837822394e-05,\n",
       " 9.999998378232716e-05,\n",
       " -9.99999837822394e-05,\n",
       " 9.999998378232716e-05,\n",
       " -9.99999837822394e-05,\n",
       " 9.999998378232716e-05,\n",
       " -9.99999837822394e-05,\n",
       " 9.999998378232716e-05,\n",
       " -9.99999837822394e-05,\n",
       " 9.999998378232716e-05,\n",
       " -9.99999837822394e-05,\n",
       " 9.999998378232716e-05,\n",
       " -9.99999837822394e-05,\n",
       " 9.999998378232716e-05,\n",
       " -9.99999837822394e-05,\n",
       " 9.999998378232716e-05,\n",
       " -9.99999837822394e-05,\n",
       " 9.999998378232716e-05,\n",
       " -9.99999837822394e-05,\n",
       " 9.999998378232716e-05,\n",
       " -9.99999837822394e-05,\n",
       " 9.999998378232716e-05,\n",
       " -9.99999837822394e-05,\n",
       " 9.999998378232716e-05,\n",
       " -9.99999837822394e-05,\n",
       " 9.999998378232716e-05,\n",
       " -9.99999837822394e-05,\n",
       " 9.999998378232716e-05,\n",
       " -9.99999837822394e-05,\n",
       " 9.999998378232716e-05,\n",
       " -9.99999837822394e-05,\n",
       " 9.999998378232716e-05,\n",
       " -9.99999837822394e-05,\n",
       " 9.999998378232716e-05,\n",
       " -9.99999837822394e-05,\n",
       " 9.999998378232716e-05,\n",
       " -9.99999837822394e-05,\n",
       " 9.999998378232716e-05,\n",
       " -9.99999837822394e-05,\n",
       " 9.999998378232716e-05,\n",
       " -9.99999837822394e-05,\n",
       " 9.999998378232716e-05,\n",
       " -9.99999837822394e-05,\n",
       " 9.999998378232716e-05,\n",
       " -9.99999837822394e-05,\n",
       " 9.999998378232716e-05,\n",
       " -9.99999837822394e-05,\n",
       " 9.999998378232716e-05,\n",
       " -9.99999837822394e-05,\n",
       " 9.999998378232716e-05,\n",
       " -9.99999837822394e-05,\n",
       " 9.999998378232716e-05,\n",
       " -9.99999837822394e-05,\n",
       " 9.999998378232716e-05,\n",
       " -9.99999837822394e-05,\n",
       " 9.999998378232716e-05,\n",
       " -9.99999837822394e-05,\n",
       " 9.999998378232716e-05,\n",
       " -9.99999837822394e-05,\n",
       " 9.999998378232716e-05,\n",
       " -9.99999837822394e-05,\n",
       " 9.999998378232716e-05,\n",
       " -9.99999837822394e-05,\n",
       " 9.999998378232716e-05,\n",
       " -9.99999837822394e-05,\n",
       " 9.999998378232716e-05,\n",
       " -9.99999837822394e-05,\n",
       " 9.999998378232716e-05,\n",
       " -9.99999837822394e-05,\n",
       " 9.999998378232716e-05,\n",
       " -9.99999837822394e-05,\n",
       " 9.999998378232716e-05,\n",
       " -9.99999837822394e-05,\n",
       " 9.999998378232716e-05,\n",
       " -9.99999837822394e-05,\n",
       " 9.999998378232716e-05,\n",
       " -9.99999837822394e-05,\n",
       " 9.999998378232716e-05,\n",
       " -9.99999837822394e-05,\n",
       " 9.999998378232716e-05,\n",
       " -9.99999837822394e-05,\n",
       " 9.999998378232716e-05,\n",
       " -9.99999837822394e-05,\n",
       " 9.999998378232716e-05,\n",
       " -9.99999837822394e-05,\n",
       " 9.999998378232716e-05,\n",
       " -9.99999837822394e-05,\n",
       " 9.999998378232716e-05,\n",
       " -9.99999837822394e-05,\n",
       " 9.999998378232716e-05,\n",
       " -9.99999837822394e-05,\n",
       " 9.999998378232716e-05,\n",
       " -9.99999837822394e-05,\n",
       " 9.999998378232716e-05,\n",
       " -9.99999837822394e-05,\n",
       " 9.999998378232716e-05,\n",
       " -9.99999837822394e-05,\n",
       " 9.999998378232716e-05,\n",
       " -9.99999837822394e-05,\n",
       " 9.999998378232716e-05,\n",
       " -9.99999837822394e-05,\n",
       " 9.999998378232716e-05,\n",
       " -9.99999837822394e-05,\n",
       " 9.999998378232716e-05,\n",
       " -9.99999837822394e-05,\n",
       " 9.999998378232716e-05,\n",
       " -9.99999837822394e-05,\n",
       " 9.999998378232716e-05,\n",
       " -9.99999837822394e-05,\n",
       " 9.999998378232716e-05,\n",
       " -9.99999837822394e-05,\n",
       " 9.999998378232716e-05,\n",
       " -9.99999837822394e-05,\n",
       " 9.999998378232716e-05,\n",
       " -9.99999837822394e-05,\n",
       " 9.999998378232716e-05,\n",
       " -9.99999837822394e-05,\n",
       " 9.999998378232716e-05,\n",
       " -9.99999837822394e-05,\n",
       " 9.999998378232716e-05,\n",
       " -9.99999837822394e-05,\n",
       " 9.999998378232716e-05,\n",
       " -9.99999837822394e-05,\n",
       " 9.999998378232716e-05,\n",
       " -9.99999837822394e-05,\n",
       " 9.999998378232716e-05,\n",
       " -9.99999837822394e-05,\n",
       " 9.999998378232716e-05,\n",
       " -9.99999837822394e-05,\n",
       " 9.999998378232716e-05,\n",
       " -9.99999837822394e-05,\n",
       " 9.999998378232716e-05,\n",
       " -9.99999837822394e-05,\n",
       " 9.999998378232716e-05,\n",
       " -9.99999837822394e-05,\n",
       " 9.999998378232716e-05,\n",
       " -9.99999837822394e-05,\n",
       " 9.999998378232716e-05,\n",
       " -9.99999837822394e-05,\n",
       " 9.999998378232716e-05,\n",
       " -9.99999837822394e-05,\n",
       " 9.999998378232716e-05,\n",
       " -9.99999837822394e-05,\n",
       " 9.999998378232716e-05,\n",
       " -9.99999837822394e-05,\n",
       " 9.999998378232716e-05,\n",
       " -9.99999837822394e-05,\n",
       " 9.999998378232716e-05,\n",
       " -9.99999837822394e-05,\n",
       " 9.999998378232716e-05,\n",
       " -9.99999837822394e-05,\n",
       " 9.999998378232716e-05,\n",
       " -9.99999837822394e-05,\n",
       " 9.999998378232716e-05,\n",
       " -9.99999837822394e-05,\n",
       " 9.999998378232716e-05,\n",
       " -9.99999837822394e-05,\n",
       " 9.999998378232716e-05,\n",
       " -9.99999837822394e-05,\n",
       " 9.999998378232716e-05,\n",
       " -9.99999837822394e-05,\n",
       " 9.999998378232716e-05,\n",
       " -9.99999837822394e-05,\n",
       " 9.999998378232716e-05,\n",
       " -9.99999837822394e-05,\n",
       " 9.999998378232716e-05,\n",
       " -9.99999837822394e-05,\n",
       " 9.999998378232716e-05,\n",
       " -9.99999837822394e-05,\n",
       " 9.999998378232716e-05,\n",
       " -9.99999837822394e-05,\n",
       " 9.999998378232716e-05,\n",
       " -9.99999837822394e-05,\n",
       " 9.999998378232716e-05,\n",
       " -9.99999837822394e-05,\n",
       " 9.999998378232716e-05,\n",
       " -9.99999837822394e-05,\n",
       " 9.999998378232716e-05,\n",
       " -9.99999837822394e-05,\n",
       " 9.999998378232716e-05,\n",
       " -9.99999837822394e-05,\n",
       " 9.999998378232716e-05,\n",
       " -9.99999837822394e-05,\n",
       " 9.999998378232716e-05,\n",
       " -9.99999837822394e-05,\n",
       " 9.999998378232716e-05,\n",
       " -9.99999837822394e-05,\n",
       " 9.999998378232716e-05,\n",
       " -9.99999837822394e-05,\n",
       " 9.999998378232716e-05,\n",
       " -9.99999837822394e-05,\n",
       " 9.999998378232716e-05,\n",
       " -9.99999837822394e-05,\n",
       " 9.999998378232716e-05,\n",
       " -9.99999837822394e-05,\n",
       " 9.999998378232716e-05,\n",
       " -9.99999837822394e-05,\n",
       " 9.999998378232716e-05,\n",
       " -9.99999837822394e-05,\n",
       " 9.999998378232716e-05,\n",
       " -9.99999837822394e-05,\n",
       " 9.999998378232716e-05,\n",
       " -9.99999837822394e-05,\n",
       " 9.999998378232716e-05,\n",
       " -9.99999837822394e-05,\n",
       " 9.999998378232716e-05,\n",
       " -9.99999837822394e-05,\n",
       " 9.999998378232716e-05,\n",
       " -9.99999837822394e-05,\n",
       " 9.999998378232716e-05,\n",
       " -9.99999837822394e-05,\n",
       " 9.999998378232716e-05,\n",
       " -9.99999837822394e-05,\n",
       " 9.999998378232716e-05,\n",
       " -9.99999837822394e-05,\n",
       " 9.999998378232716e-05,\n",
       " -9.99999837822394e-05,\n",
       " 9.999998378232716e-05,\n",
       " -9.99999837822394e-05,\n",
       " 9.999998378232716e-05,\n",
       " -9.99999837822394e-05,\n",
       " 9.999998378232716e-05,\n",
       " -9.99999837822394e-05,\n",
       " 9.999998378232716e-05,\n",
       " -9.99999837822394e-05,\n",
       " 9.999998378232716e-05,\n",
       " -9.99999837822394e-05,\n",
       " 9.999998378232716e-05,\n",
       " -9.99999837822394e-05,\n",
       " 9.999998378232716e-05,\n",
       " -9.99999837822394e-05,\n",
       " 9.999998378232716e-05,\n",
       " -9.99999837822394e-05,\n",
       " 9.999998378232716e-05,\n",
       " -9.99999837822394e-05,\n",
       " 9.999998378232716e-05,\n",
       " -9.99999837822394e-05,\n",
       " 9.999998378232716e-05,\n",
       " -9.99999837822394e-05,\n",
       " 9.999998378232716e-05,\n",
       " -9.99999837822394e-05,\n",
       " 9.999998378232716e-05,\n",
       " -9.99999837822394e-05,\n",
       " 9.999998378232716e-05,\n",
       " -9.99999837822394e-05,\n",
       " 9.999998378232716e-05,\n",
       " -9.99999837822394e-05,\n",
       " 9.999998378232716e-05,\n",
       " -9.99999837822394e-05,\n",
       " 9.999998378232716e-05,\n",
       " -9.99999837822394e-05,\n",
       " 9.999998378232716e-05,\n",
       " -9.99999837822394e-05,\n",
       " 9.999998378232716e-05,\n",
       " -9.99999837822394e-05,\n",
       " 9.999998378232716e-05,\n",
       " -9.99999837822394e-05,\n",
       " 9.999998378232716e-05,\n",
       " -9.99999837822394e-05,\n",
       " 9.999998378232716e-05,\n",
       " -9.99999837822394e-05,\n",
       " 9.999998378232716e-05,\n",
       " -9.99999837822394e-05,\n",
       " 9.999998378232716e-05,\n",
       " -9.99999837822394e-05,\n",
       " 9.999998378232716e-05,\n",
       " -9.99999837822394e-05,\n",
       " 9.999998378232716e-05,\n",
       " -9.99999837822394e-05,\n",
       " 9.999998378232716e-05,\n",
       " -9.99999837822394e-05,\n",
       " 9.999998378232716e-05,\n",
       " -9.99999837822394e-05,\n",
       " 9.999998378232716e-05,\n",
       " -9.99999837822394e-05,\n",
       " 9.999998378232716e-05,\n",
       " -9.99999837822394e-05,\n",
       " 9.999998378232716e-05,\n",
       " -9.99999837822394e-05,\n",
       " 9.999998378232716e-05,\n",
       " -9.99999837822394e-05,\n",
       " 9.999998378232716e-05,\n",
       " -9.99999837822394e-05,\n",
       " 9.999998378232716e-05,\n",
       " -9.99999837822394e-05,\n",
       " 9.999998378232716e-05,\n",
       " -9.99999837822394e-05,\n",
       " 9.999998378232716e-05,\n",
       " -9.99999837822394e-05,\n",
       " 9.999998378232716e-05,\n",
       " -9.99999837822394e-05,\n",
       " 9.999998378232716e-05,\n",
       " -9.99999837822394e-05,\n",
       " 9.999998378232716e-05,\n",
       " -9.99999837822394e-05,\n",
       " 9.999998378232716e-05,\n",
       " -9.99999837822394e-05,\n",
       " 9.999998378232716e-05,\n",
       " -9.99999837822394e-05,\n",
       " 9.999998378232716e-05,\n",
       " -9.99999837822394e-05,\n",
       " 9.999998378232716e-05,\n",
       " -9.99999837822394e-05,\n",
       " 9.999998378232716e-05,\n",
       " -9.99999837822394e-05,\n",
       " 9.999998378232716e-05,\n",
       " -9.99999837822394e-05,\n",
       " 9.999998378232716e-05,\n",
       " -9.99999837822394e-05,\n",
       " 9.999998378232716e-05,\n",
       " -9.99999837822394e-05,\n",
       " 9.999998378232716e-05,\n",
       " -9.99999837822394e-05,\n",
       " 9.999998378232716e-05,\n",
       " -9.99999837822394e-05,\n",
       " 9.999998378232716e-05,\n",
       " -9.99999837822394e-05,\n",
       " 9.999998378232716e-05,\n",
       " -9.99999837822394e-05,\n",
       " 9.999998378232716e-05,\n",
       " -9.99999837822394e-05,\n",
       " 9.999998378232716e-05,\n",
       " -9.99999837822394e-05,\n",
       " 9.999998378232716e-05,\n",
       " -9.99999837822394e-05,\n",
       " 9.999998378232716e-05,\n",
       " -9.99999837822394e-05,\n",
       " 9.999998378232716e-05,\n",
       " -9.99999837822394e-05,\n",
       " 9.999998378232716e-05,\n",
       " -9.99999837822394e-05,\n",
       " 9.999998378232716e-05,\n",
       " -9.99999837822394e-05,\n",
       " 9.999998378232716e-05,\n",
       " -9.99999837822394e-05,\n",
       " 9.999998378232716e-05,\n",
       " -9.99999837822394e-05,\n",
       " 9.999998378232716e-05,\n",
       " -9.99999837822394e-05,\n",
       " 9.999998378232716e-05,\n",
       " -9.99999837822394e-05,\n",
       " 9.999998378232716e-05,\n",
       " -9.99999837822394e-05,\n",
       " 9.999998378232716e-05,\n",
       " -9.99999837822394e-05,\n",
       " 9.999998378232716e-05,\n",
       " -9.99999837822394e-05,\n",
       " 9.999998378232716e-05,\n",
       " -9.99999837822394e-05,\n",
       " 9.999998378232716e-05,\n",
       " -9.99999837822394e-05,\n",
       " 9.999998378232716e-05,\n",
       " -9.99999837822394e-05,\n",
       " 9.999998378232716e-05,\n",
       " -9.99999837822394e-05,\n",
       " 9.999998378232716e-05,\n",
       " -9.99999837822394e-05,\n",
       " 9.999998378232716e-05,\n",
       " -9.99999837822394e-05,\n",
       " 9.999998378232716e-05,\n",
       " -9.99999837822394e-05,\n",
       " 9.999998378232716e-05,\n",
       " -9.99999837822394e-05,\n",
       " 9.999998378232716e-05,\n",
       " -9.99999837822394e-05,\n",
       " 9.999998378232716e-05,\n",
       " -9.99999837822394e-05,\n",
       " 9.999998378232716e-05,\n",
       " -9.99999837822394e-05,\n",
       " 9.999998378232716e-05,\n",
       " -9.99999837822394e-05,\n",
       " 9.999998378232716e-05,\n",
       " -9.99999837822394e-05,\n",
       " 9.999998378232716e-05,\n",
       " -9.99999837822394e-05,\n",
       " 9.999998378232716e-05,\n",
       " -9.99999837822394e-05,\n",
       " 9.999998378232716e-05,\n",
       " -9.99999837822394e-05,\n",
       " 9.999998378232716e-05,\n",
       " -9.99999837822394e-05,\n",
       " 9.999998378232716e-05,\n",
       " -9.99999837822394e-05,\n",
       " 9.999998378232716e-05,\n",
       " -9.99999837822394e-05,\n",
       " 9.999998378232716e-05,\n",
       " -9.99999837822394e-05,\n",
       " 9.999998378232716e-05,\n",
       " -9.99999837822394e-05,\n",
       " 9.999998378232716e-05,\n",
       " -9.99999837822394e-05,\n",
       " 9.999998378232716e-05,\n",
       " -9.99999837822394e-05,\n",
       " 9.999998378232716e-05,\n",
       " -9.99999837822394e-05,\n",
       " 9.999998378232716e-05,\n",
       " -9.99999837822394e-05,\n",
       " 9.999998378232716e-05,\n",
       " -9.99999837822394e-05,\n",
       " 9.999998378232716e-05,\n",
       " -9.99999837822394e-05,\n",
       " 9.999998378232716e-05,\n",
       " -9.99999837822394e-05,\n",
       " 9.999998378232716e-05,\n",
       " -9.99999837822394e-05,\n",
       " 9.999998378232716e-05,\n",
       " -9.99999837822394e-05,\n",
       " 9.999998378232716e-05,\n",
       " -9.99999837822394e-05,\n",
       " 9.999998378232716e-05,\n",
       " -9.99999837822394e-05,\n",
       " 9.999998378232716e-05,\n",
       " -9.99999837822394e-05,\n",
       " 9.999998378232716e-05,\n",
       " -9.99999837822394e-05,\n",
       " 9.999998378232716e-05,\n",
       " -9.99999837822394e-05,\n",
       " 9.999998378232716e-05,\n",
       " -9.99999837822394e-05,\n",
       " 9.999998378232716e-05,\n",
       " -9.99999837822394e-05,\n",
       " 9.999998378232716e-05,\n",
       " -9.99999837822394e-05,\n",
       " 9.999998378232716e-05,\n",
       " -9.99999837822394e-05,\n",
       " 9.999998378232716e-05,\n",
       " -9.99999837822394e-05,\n",
       " 9.999998378232716e-05,\n",
       " -9.99999837822394e-05,\n",
       " 9.999998378232716e-05,\n",
       " -9.99999837822394e-05,\n",
       " 9.999998378232716e-05,\n",
       " -9.99999837822394e-05,\n",
       " 9.999998378232716e-05,\n",
       " -9.99999837822394e-05,\n",
       " 9.999998378232716e-05,\n",
       " -9.99999837822394e-05,\n",
       " 9.999998378232716e-05,\n",
       " -9.99999837822394e-05,\n",
       " 9.999998378232716e-05,\n",
       " -9.99999837822394e-05,\n",
       " 9.999998378232716e-05,\n",
       " -9.99999837822394e-05,\n",
       " 9.999998378232716e-05,\n",
       " -9.99999837822394e-05,\n",
       " 9.999998378232716e-05,\n",
       " -9.99999837822394e-05,\n",
       " 9.999998378232716e-05,\n",
       " -9.99999837822394e-05,\n",
       " 9.999998378232716e-05,\n",
       " -9.99999837822394e-05,\n",
       " 9.999998378232716e-05,\n",
       " -9.99999837822394e-05,\n",
       " 9.999998378232716e-05,\n",
       " -9.99999837822394e-05,\n",
       " 9.999998378232716e-05,\n",
       " -9.99999837822394e-05,\n",
       " 9.999998378232716e-05,\n",
       " -9.99999837822394e-05,\n",
       " 9.999998378232716e-05,\n",
       " -9.99999837822394e-05,\n",
       " 9.999998378232716e-05,\n",
       " -9.99999837822394e-05,\n",
       " 9.999998378232716e-05,\n",
       " -9.99999837822394e-05,\n",
       " 9.999998378232716e-05,\n",
       " -9.99999837822394e-05,\n",
       " 9.999998378232716e-05,\n",
       " -9.99999837822394e-05,\n",
       " 9.999998378232716e-05,\n",
       " -9.99999837822394e-05,\n",
       " 9.999998378232716e-05,\n",
       " -9.99999837822394e-05,\n",
       " 9.999998378232716e-05,\n",
       " -9.99999837822394e-05,\n",
       " 9.999998378232716e-05,\n",
       " -9.99999837822394e-05,\n",
       " 9.999998378232716e-05,\n",
       " -9.99999837822394e-05,\n",
       " 9.999998378232716e-05,\n",
       " -9.99999837822394e-05,\n",
       " 9.999998378232716e-05,\n",
       " -9.99999837822394e-05,\n",
       " 9.999998378232716e-05,\n",
       " -9.99999837822394e-05,\n",
       " 9.999998378232716e-05,\n",
       " -9.99999837822394e-05,\n",
       " 9.999998378232716e-05,\n",
       " -9.99999837822394e-05,\n",
       " 9.999998378232716e-05,\n",
       " -9.99999837822394e-05,\n",
       " 9.999998378232716e-05,\n",
       " -9.99999837822394e-05,\n",
       " 9.999998378232716e-05,\n",
       " -9.99999837822394e-05,\n",
       " 9.999998378232716e-05,\n",
       " -9.99999837822394e-05,\n",
       " 9.999998378232716e-05,\n",
       " -9.99999837822394e-05,\n",
       " 9.999998378232716e-05,\n",
       " -9.99999837822394e-05,\n",
       " 9.999998378232716e-05,\n",
       " -9.99999837822394e-05,\n",
       " 9.999998378232716e-05,\n",
       " -9.99999837822394e-05,\n",
       " 9.999998378232716e-05,\n",
       " -9.99999837822394e-05,\n",
       " 9.999998378232716e-05,\n",
       " -9.99999837822394e-05,\n",
       " 9.999998378232716e-05,\n",
       " -9.99999837822394e-05,\n",
       " 9.999998378232716e-05,\n",
       " -9.99999837822394e-05,\n",
       " 9.999998378232716e-05,\n",
       " -9.99999837822394e-05,\n",
       " 9.999998378232716e-05,\n",
       " -9.99999837822394e-05,\n",
       " 9.999998378232716e-05,\n",
       " -9.99999837822394e-05,\n",
       " 9.999998378232716e-05,\n",
       " -9.99999837822394e-05,\n",
       " 9.999998378232716e-05,\n",
       " -9.99999837822394e-05,\n",
       " 9.999998378232716e-05,\n",
       " -9.99999837822394e-05,\n",
       " 9.999998378232716e-05,\n",
       " -9.99999837822394e-05,\n",
       " 9.999998378232716e-05,\n",
       " -9.99999837822394e-05,\n",
       " 9.999998378232716e-05,\n",
       " -9.99999837822394e-05,\n",
       " 9.999998378232716e-05,\n",
       " -9.99999837822394e-05,\n",
       " 9.999998378232716e-05,\n",
       " -9.99999837822394e-05,\n",
       " 9.999998378232716e-05,\n",
       " -9.99999837822394e-05,\n",
       " 9.999998378232716e-05,\n",
       " -9.99999837822394e-05,\n",
       " 9.999998378232716e-05,\n",
       " -9.99999837822394e-05,\n",
       " 9.999998378232716e-05,\n",
       " -9.99999837822394e-05,\n",
       " 9.999998378232716e-05,\n",
       " -9.99999837822394e-05,\n",
       " 9.999998378232716e-05,\n",
       " -9.99999837822394e-05,\n",
       " 9.999998378232716e-05,\n",
       " -9.99999837822394e-05,\n",
       " 9.999998378232716e-05,\n",
       " -9.99999837822394e-05,\n",
       " 9.999998378232716e-05,\n",
       " -9.99999837822394e-05,\n",
       " 9.999998378232716e-05,\n",
       " -9.99999837822394e-05,\n",
       " 9.999998378232716e-05,\n",
       " -9.99999837822394e-05,\n",
       " 9.999998378232716e-05,\n",
       " -9.99999837822394e-05,\n",
       " 9.999998378232716e-05,\n",
       " -9.99999837822394e-05,\n",
       " 9.999998378232716e-05,\n",
       " -9.99999837822394e-05,\n",
       " 9.999998378232716e-05,\n",
       " -9.99999837822394e-05,\n",
       " 9.999998378232716e-05,\n",
       " -9.99999837822394e-05,\n",
       " 9.999998378232716e-05,\n",
       " -9.99999837822394e-05,\n",
       " 9.999998378232716e-05,\n",
       " -9.99999837822394e-05,\n",
       " 9.999998378232716e-05,\n",
       " -9.99999837822394e-05,\n",
       " 9.999998378232716e-05,\n",
       " -9.99999837822394e-05,\n",
       " 9.999998378232716e-05,\n",
       " -9.99999837822394e-05,\n",
       " 9.999998378232716e-05,\n",
       " -9.99999837822394e-05,\n",
       " 9.999998378232716e-05,\n",
       " -9.99999837822394e-05,\n",
       " 9.999998378232716e-05,\n",
       " -9.99999837822394e-05]"
      ]
     },
     "execution_count": 43,
     "metadata": {},
     "output_type": "execute_result"
    }
   ],
   "source": [
    "eigs"
   ]
  },
  {
   "cell_type": "markdown",
   "metadata": {
    "id": "mxphsSxyNPd8"
   },
   "source": [
    "Видно, что оценки собственных значений чередуются между -9.99999837822394e-05 и 9.999998378232716e-05. Это произошло потому перед тем как использовать степенной метод с адаптацией сдвига, нужно иметь хорошую оценку на соответствующее собственное значение. Эта оценка как раз и находилась степенным методом с фиксированным сдвигом, но в данном случае мы не сделали ни одной итерации метода с фиксированным сдвигом (num_iter_fix=0), поэтому метод в итоге не сошелся"
   ]
  },
  {
   "cell_type": "markdown",
   "metadata": {
    "id": "ru70NGUlOGIy"
   },
   "source": [
    "## Задача 3 (25 pts)\n",
    "\n",
    "## PageRank для DBLP\n",
    "\n",
    "\n",
    "#### Введение дэмпфирующего фактора\n",
    "\n",
    "* (5 pts) Напишите функцию ```pagerank_matrix(G)```, которая из поданной на вход матрицы смежности $G$ (в плотном или разреженном форматах) создаёт и возвращает матрицу PageRank'a $A$."
   ]
  },
  {
   "cell_type": "code",
   "execution_count": null,
   "metadata": {
    "id": "L0tBVW2kSVCC"
   },
   "outputs": [],
   "source": [
    "# INPUT:  G - np.ndarray or sparse matrix\n",
    "# OUTPUT: A - np.ndarray (of size G.shape) or sparse matrix\n",
    "def pagerank_matrix(G):\n",
    "    if type(G).__module__ == np.__name__:\n",
    "        A = G.T\n",
    "        B = np.array(G.sum(axis=1))\n",
    "        A = A/np.repeat(B, G.shape[0], axis=1).T\n",
    "    \n",
    "    else:\n",
    "        A = G.T\n",
    "        B = np.array(G.sum(axis=1)).reshape(-1)\n",
    "        rep = np.diff(G.indptr)\n",
    "        A.data /= np.repeat(B, rep)\n",
    "    \n",
    "    return A"
   ]
  },
  {
   "cell_type": "markdown",
   "metadata": {
    "id": "oE-h9_RlSVCC"
   },
   "source": [
    "* (5 pts) Реализуйте степенной метод для заданной матрицы $A$, начального вектора $x_0$ и числа итераций```num_iter``` в соответствии с прототипом ниже. Функция возвращает оценку собственного вектора, собственного значения и нормы невязки при сходимости. Проверьте, что ваша реализация сходится для матрицы $\\begin{bmatrix} 2 & -1 \\\\ -1 & 2 \\end{bmatrix}$."
   ]
  },
  {
   "cell_type": "code",
   "execution_count": null,
   "metadata": {
    "id": "dqgqByxZSVCC"
   },
   "outputs": [],
   "source": [
    "# INPUT:  A - np.ndarray (2D), x0 - np.ndarray (1D), num_iter - integer (positive)\n",
    "# OUTPUT: x - np.ndarray (of size x0), l - float, res - np.ndarray (of size num_iter + 1 [include initial guess])\n",
    "def power_method(A, x0, num_iter): # 5 pts\n",
    "    x = x0.copy()\n",
    "    res = []\n",
    "    for i in range(num_iter):\n",
    "        x_new = A @ x\n",
    "        x_new = x_new / np.linalg.norm(x_new)\n",
    "        x = x_new\n",
    "        l = x @ (A @ x)\n",
    "        res.append(np.linalg.norm(A @ x - l * x))\n",
    "        \n",
    "    return x, l, res"
   ]
  },
  {
   "cell_type": "code",
   "execution_count": null,
   "metadata": {
    "id": "odmMQGGGIe2U"
   },
   "outputs": [],
   "source": [
    "A = np.array([[2, -1], [-1, 2]])\n",
    "x0 = np.random.randn(2)\n",
    "x, l, res = power_method(A, x0, 50)"
   ]
  },
  {
   "cell_type": "code",
   "execution_count": null,
   "metadata": {
    "id": "pZ53IohVIe2U",
    "outputId": "24371e43-7f5b-451a-d635-910b9ee5c37f"
   },
   "outputs": [
    {
     "data": {
      "text/plain": [
       "array([ 0.70710678, -0.70710678])"
      ]
     },
     "execution_count": 713,
     "metadata": {},
     "output_type": "execute_result"
    }
   ],
   "source": [
    "x"
   ]
  },
  {
   "cell_type": "code",
   "execution_count": null,
   "metadata": {
    "id": "pu9S5w-8Ie2U",
    "outputId": "f644ba05-d60f-414a-9cc2-da6600e41699"
   },
   "outputs": [
    {
     "data": {
      "text/plain": [
       "3.0"
      ]
     },
     "execution_count": 714,
     "metadata": {},
     "output_type": "execute_result"
    }
   ],
   "source": [
    "l"
   ]
  },
  {
   "cell_type": "code",
   "execution_count": null,
   "metadata": {
    "id": "vURT89SoIe2U",
    "outputId": "71f31f05-ec8d-499b-863c-f5c3bf8a0fe6"
   },
   "outputs": [
    {
     "data": {
      "text/plain": [
       "[<matplotlib.lines.Line2D at 0x7fc79c4bfdc0>]"
      ]
     },
     "execution_count": 715,
     "metadata": {},
     "output_type": "execute_result"
    },
    {
     "data": {
      "image/png": "[encoded data removed]",
      "text/plain": [
       "<Figure size 432x288 with 1 Axes>"
      ]
     },
     "metadata": {
      "needs_background": "light"
     },
     "output_type": "display_data"
    }
   ],
   "source": [
    "plt.plot(list(range(len(res)))[4:], res[4:])"
   ]
  },
  {
   "cell_type": "code",
   "execution_count": null,
   "metadata": {
    "id": "tMM-JYAWIe2U",
    "outputId": "536fbd9d-dd34-417d-9c45-dfe4601f3bf0"
   },
   "outputs": [
    {
     "data": {
      "text/plain": [
       "True"
      ]
     },
     "execution_count": 716,
     "metadata": {},
     "output_type": "execute_result"
    }
   ],
   "source": [
    "np.allclose(A @ x, 3*x)"
   ]
  },
  {
   "cell_type": "code",
   "execution_count": null,
   "metadata": {
    "id": "yVc83aG7Ie2V",
    "outputId": "85f3e46b-1890-4f48-ea73-bb6c77900d7e"
   },
   "outputs": [
    {
     "data": {
      "text/plain": [
       "array([3., 1.])"
      ]
     },
     "execution_count": 717,
     "metadata": {},
     "output_type": "execute_result"
    }
   ],
   "source": [
    "np.linalg.eigvals(A)"
   ]
  },
  {
   "cell_type": "markdown",
   "metadata": {
    "id": "SDv5UVTISVCD"
   },
   "source": [
    "Для избежания проблем со сходимостью степенного метода, обсуждённых на семинаре, можно ввести дэмпфирующий фактор и преобразовать матрицу PageRank'a следующим образом:\n",
    "\n",
    "$$\n",
    "A_d = dA + \\frac{1-d}{N} \\begin{pmatrix} 1 & \\dots & 1 \\\\ \\vdots & & \\vdots \\\\ 1 & \\dots & 1 \\end{pmatrix},\n",
    "$$\n",
    "\n",
    "где $d$ малый параметр из отрезка $[0,1]$ (обычно $d=0.85$), который называется **демпфирующим фактором**, $A$ размера $N\\times N$. После такого преобразования максимальное собственное значение матрицы $A_d$ обладает кратностью равной 1. \n",
    "\n",
    "Именно это [предложили](http://ilpubs.stanford.edu:8090/422/1/1999-66.pdf) сделать Ларри Пейдж и Сергей Брин для получения своего алгоритма ранжирвания веб-страниц.\n",
    "\n",
    "\n",
    "* (4 pts) Реализуйте функцию быстрого умножения матрицы $A_d$ на вектор в соответствии с прототипом ниже ```pagerank_matvec(A, d, x)```. На вход функция принимает  матрицу PageRank'a $A$ (в разреженном формате, например ```csr_matrix```), демпфирующий фактор $d$ и начальный вектор $x$, а возвращает $A_dx$. "
   ]
  },
  {
   "cell_type": "code",
   "execution_count": null,
   "metadata": {
    "id": "21VJHMOKSVCD"
   },
   "outputs": [],
   "source": [
    "# INPUT:  A - np.ndarray (2D), d - float (from 0.0 to 1.0), x - np.ndarray (1D, size of A.shape[0/1])\n",
    "# OUTPUT: y - np.ndarray (1D, size of x)\n",
    "def pagerank_matvec(A, d, x): # 2 pts\n",
    "    y = d * A.dot(x) + (1-d)/A.shape[0] * np.sum(x) * np.ones(A.shape[0])\n",
    "    return y"
   ]
  },
  {
   "cell_type": "markdown",
   "metadata": {
    "id": "Vfnp3TGhSVCD"
   },
   "source": [
    "* (2 pts) Сгенерируйте случайную матрицу смежности $1000 \\times 1000$ (если помещается в память, то увеличьте размер до $10000 \\times 10000$) со 100 ненулевыми элементами и сравните время вычисления произведения матрицы и случайного вектора с помощью ```pagerank_matvec``` и явным вычислением $A_dx$.\n",
    "    \n",
    "Загрузите данные [отсюда](https://goo.gl/oZVxEa), разархивируйте и поместите файлы `dblp_authors.npz`  и `dblp_graph.npz` в папку рядом с этим ноутбуком. Каждое значение (имя автора) из `dblp_authors.npz` соответствует строке/столбцу в матрице из  `dblp_graph.npz`. Значения в строке `i` и столбце `j` матрицы `dblp_graph.npz` соответствуют числу раз, которое автор `i` цитировал статьи автора `j`. Давайте теперь найдём наиболее влиятельных авторов по величине Pagerank'a на основе данных DBLP.\n",
    "\n",
    "* (5 pts) Загрузите взвешенную матрицу смежности и список авторов с помощью функции ```load_dblp(...)```. Выведите её плотность, то есть отношение числа ненулевых элементов к общему числу элементов. Найдите top-10 наиболее цитируемых авторов по значениям элементов этой матрицы. Далее сделайте все элементы равными 1 для простоты. Получите матрицу Pagerank'a из матрицы смежности и проверьте её стохастичность (сумма элементов по строкам/столбцам равна 1).\n",
    " \n",
    "* (1 pts) Для того чтобы передать функцию ```pagerank_matvec``` в функцию ```power_method``` для быстрого вычисления матрично-векторного произведения $A_dx$, вы можете сделать ```LinearOperator```: \n",
    "```python\n",
    "L = scipy.sparse.linalg.LinearOperator(A.shape, matvec=lambda x, A=A, d=d: pagerank_matvec(A, d, x))\n",
    "```\n",
    "Вызов ```L@x``` или ```L.dot(x)``` будет реализован путём вызова функции ```pagerank_matvec(A, d, x)```, таким образом, вы можете передать $L$ вместо матрицы $A$ в функцию ```power_method``` напрямую.\n",
    "\n",
    "\n",
    "* (2 pts) Запустите степенной метод начиная с вектора из всех 1 и нарисуйте норму невязок $\\|A_dx_k - \\lambda_k x_k\\|_2$  как функцию от $k$ для $d=0.85$.\n",
    "\n",
    "\n",
    "* (1 pts) Выведите имена top-10 авторов по величине PageRank'a на основании графа DBLP с $d=0.85$. Прокомментируйте результат и сарвните его со списком наиболее цитируемых авторов."
   ]
  },
  {
   "cell_type": "code",
   "execution_count": null,
   "metadata": {
    "id": "PPGZs5F2Ie2V"
   },
   "outputs": [],
   "source": [
    "N = A.shape[0]"
   ]
  },
  {
   "cell_type": "code",
   "execution_count": null,
   "metadata": {
    "id": "8oXjgG4MIe2V"
   },
   "outputs": [],
   "source": [
    "index_i = np.random.randint(low=0, high=N, size=50)\n",
    "index_j = np.random.randint(low=0, high=N, size=50)"
   ]
  },
  {
   "cell_type": "code",
   "execution_count": null,
   "metadata": {
    "id": "x1gKUKDvIe2V"
   },
   "outputs": [],
   "source": [
    "N = 1000\n",
    "d = 0.85\n",
    "A = np.zeros((N, N))\n",
    "A[index_i, index_j] = 1\n",
    "A[index_j, index_i] = 1\n",
    "A = spsp.csr_matrix(A)"
   ]
  },
  {
   "cell_type": "code",
   "execution_count": null,
   "metadata": {
    "id": "t9wmdhwJIe2V"
   },
   "outputs": [],
   "source": [
    "x0 = np.random.randn(N)"
   ]
  },
  {
   "cell_type": "code",
   "execution_count": null,
   "metadata": {
    "id": "91Db_TIoIe2V"
   },
   "outputs": [],
   "source": [
    "A_d = d*A + (1-d)/N * np.ones((N, N))\n",
    "A_d = spsp.csr_matrix(A_d)"
   ]
  },
  {
   "cell_type": "code",
   "execution_count": null,
   "metadata": {
    "id": "mE_-ezKaIe2W",
    "outputId": "fc8689d0-0a2e-4643-bf6c-f5b895d51cf8"
   },
   "outputs": [
    {
     "name": "stdout",
     "output_type": "stream",
     "text": [
      "919 µs ± 2.46 µs per loop (mean ± std. dev. of 7 runs, 1000 loops each)\n"
     ]
    }
   ],
   "source": [
    "%timeit A_d.dot(x0)"
   ]
  },
  {
   "cell_type": "code",
   "execution_count": null,
   "metadata": {
    "id": "qQPB64T5Ie2W",
    "outputId": "77c836e1-e566-4ee4-c4cb-e956f6289a01"
   },
   "outputs": [
    {
     "name": "stdout",
     "output_type": "stream",
     "text": [
      "26.4 µs ± 463 ns per loop (mean ± std. dev. of 7 runs, 10000 loops each)\n"
     ]
    }
   ],
   "source": [
    "%timeit pagerank_matvec(A, d, x0)"
   ]
  },
  {
   "cell_type": "code",
   "execution_count": null,
   "metadata": {
    "id": "L5ZnW7m-OGIz"
   },
   "outputs": [],
   "source": [
    "from scipy.sparse import load_npz\n",
    "import numpy as np\n",
    "def load_dblp(path_auth, path_graph):\n",
    "    G = load_npz(path_graph).astype(float)\n",
    "    with np.load(path_auth) as data: authors = data['authors']\n",
    "    return G, authors\n",
    "G, authors = load_dblp('dblp_authors.npz', 'dblp_graph.npz')"
   ]
  },
  {
   "cell_type": "code",
   "execution_count": null,
   "metadata": {
    "id": "Nhq0HJXuIe2W",
    "outputId": "aa31063b-9672-4f30-fe59-58535a89a60d"
   },
   "outputs": [
    {
     "data": {
      "text/plain": [
       "4.4986518152305776e-05"
      ]
     },
     "execution_count": 728,
     "metadata": {},
     "output_type": "execute_result"
    }
   ],
   "source": [
    "G.data.shape[0]/(G.shape[0]*G.shape[1]) # плотность"
   ]
  },
  {
   "cell_type": "code",
   "execution_count": null,
   "metadata": {
    "id": "MXndvw9IIe2W",
    "outputId": "e641e8e9-10b9-445d-938f-29dc9887b964"
   },
   "outputs": [
    {
     "name": "stdout",
     "output_type": "stream",
     "text": [
      "Scott Shenker\n",
      "Andrew Zisserman\n",
      "Hari Balakrishnan\n",
      "Jiawei Han\n",
      "Anil K. Jain\n",
      "Cordelia Schmid\n",
      "Jitendra Malik\n",
      "Ion Stoica\n",
      "David E. Culler\n",
      "David G. Lowe\n"
     ]
    }
   ],
   "source": [
    "top_authors = authors[np.argsort(np.array(G.sum(axis=0))[0])[::-1][:10]]\n",
    "for author in top_authors:\n",
    "    print(author)"
   ]
  },
  {
   "cell_type": "code",
   "execution_count": null,
   "metadata": {
    "id": "A4IPDzxMIe2X"
   },
   "outputs": [],
   "source": [
    "G.data = np.ones(G.data.shape[0])"
   ]
  },
  {
   "cell_type": "code",
   "execution_count": null,
   "metadata": {
    "id": "FzksoT-JIe2X",
    "outputId": "418c0e1c-e690-4f01-bb25-40ab66bc1a6e"
   },
   "outputs": [
    {
     "data": {
      "text/plain": [
       "<1766547x1766547 sparse matrix of type '<class 'numpy.float64'>'\n",
       "\twith 140388901 stored elements in Compressed Sparse Column format>"
      ]
     },
     "execution_count": 731,
     "metadata": {},
     "output_type": "execute_result"
    }
   ],
   "source": [
    "G.T"
   ]
  },
  {
   "cell_type": "code",
   "execution_count": null,
   "metadata": {
    "id": "ID9l6he5Ie2X"
   },
   "outputs": [],
   "source": [
    "A = pagerank_matrix(G)"
   ]
  },
  {
   "cell_type": "code",
   "execution_count": null,
   "metadata": {
    "id": "5MgzgMNDIe2X",
    "outputId": "d382a8fe-d4ed-4ce6-a224-b252995eec3f"
   },
   "outputs": [
    {
     "data": {
      "text/plain": [
       "<1766547x1766547 sparse matrix of type '<class 'numpy.float64'>'\n",
       "\twith 140388901 stored elements in Compressed Sparse Column format>"
      ]
     },
     "execution_count": 733,
     "metadata": {},
     "output_type": "execute_result"
    }
   ],
   "source": [
    "A"
   ]
  },
  {
   "cell_type": "code",
   "execution_count": null,
   "metadata": {
    "id": "9AUYJ4WOIe2X",
    "outputId": "175429a8-0fa4-4fff-8082-6db15a34f190"
   },
   "outputs": [
    {
     "data": {
      "text/plain": [
       "True"
      ]
     },
     "execution_count": 734,
     "metadata": {},
     "output_type": "execute_result"
    }
   ],
   "source": [
    "np.all(np.array((np.isclose(A.sum(axis=0), 1) | np.isclose(A.sum(axis=0), 0)))[0])"
   ]
  },
  {
   "cell_type": "code",
   "execution_count": null,
   "metadata": {
    "id": "D2trw2GyIe2X"
   },
   "outputs": [],
   "source": [
    "d = 0.85"
   ]
  },
  {
   "cell_type": "code",
   "execution_count": null,
   "metadata": {
    "id": "1DD4g-eXIe2X"
   },
   "outputs": [],
   "source": [
    "L = scipy.sparse.linalg.LinearOperator(A.shape, matvec=lambda x, A=A, d=d: pagerank_matvec(A, d, x))"
   ]
  },
  {
   "cell_type": "code",
   "execution_count": null,
   "metadata": {
    "id": "_CSHR7UmIe2X"
   },
   "outputs": [],
   "source": [
    "x0 = np.ones(A.shape[1])\n",
    "x, l, res = power_method(L, x0, 40)"
   ]
  },
  {
   "cell_type": "code",
   "execution_count": null,
   "metadata": {
    "id": "ayLPDG34Ie2Y",
    "outputId": "2c8c0ae8-40ca-4810-a492-2ed042a7bf5f"
   },
   "outputs": [
    {
     "data": {
      "text/plain": [
       "Text(0, 0.5, '$\\\\|A_dx_k - \\\\lambda_k x_k\\\\|_2$')"
      ]
     },
     "execution_count": 744,
     "metadata": {},
     "output_type": "execute_result"
    },
    {
     "data": {
      "image/png": "[encoded data removed]",
      "text/plain": [
       "<Figure size 432x288 with 1 Axes>"
      ]
     },
     "metadata": {
      "needs_background": "light"
     },
     "output_type": "display_data"
    }
   ],
   "source": [
    "plt.plot(list(range(len(res))), res)\n",
    "plt.xlabel(\"k\")\n",
    "plt.ylabel(\"$\\|A_dx_k - \\lambda_k x_k\\|_2$\")"
   ]
  },
  {
   "cell_type": "code",
   "execution_count": null,
   "metadata": {
    "id": "WMTHPApLIe2Y",
    "outputId": "5ef7e28b-967c-4e9b-8554-28333c357f78"
   },
   "outputs": [
    {
     "data": {
      "text/plain": [
       "0.9623531221277111"
      ]
     },
     "execution_count": 739,
     "metadata": {},
     "output_type": "execute_result"
    }
   ],
   "source": [
    "l"
   ]
  },
  {
   "cell_type": "code",
   "execution_count": null,
   "metadata": {
    "id": "0nioIVi_Ie2Y",
    "outputId": "2b340bff-abde-4c7b-d5d3-9491d1d627f8"
   },
   "outputs": [
    {
     "name": "stdout",
     "output_type": "stream",
     "text": [
      "David E. Goldberg\n",
      "Richard M. Karp\n",
      "John E. Hopcroft\n",
      "Azriel Rosenfeld\n",
      "Ronald L. Rivest\n",
      "Anil K. Jain\n",
      "Takeo Kanade\n",
      "Alfred V. Aho\n",
      "Robert Endre Tarjan\n",
      "Gerard Salton\n"
     ]
    }
   ],
   "source": [
    "top_authors = authors[np.argsort(x)[::-1][:10]]\n",
    "for author in top_authors:\n",
    "    print(author)"
   ]
  },
  {
   "cell_type": "markdown",
   "metadata": {
    "id": "fXOO2VczIe2Y"
   },
   "source": [
    "В полученных списках ровно один общий автор - Anil K. Jain. Возможно такое различие в списке авторов связано с тем, что в PageRank учитывается не только количество ссылок (в данном случае цитирований), но и приоритет того автора, который процитровал какого-то другого автора"
   ]
  },
  {
   "cell_type": "markdown",
   "metadata": {
    "id": "IokrzsgNSVCE"
   },
   "source": [
    "## Решение треугольных разреженных систем (30 pts)\n",
    "\n",
    "В этой задаче рассмотрим более детально методы решения треугольных (нижне или верхне) линейных систем при условии, что матрицы этих систем разрежены. С этой задачей вы столкнётесь после того, как выполните разреженное LU разложение и получите желаемые *разреженные* треугольные факторы.\n",
    "\n",
    "- (5 pts) Реализуйте классический метод решения треугольной линейной системы, однако учтите, что матрица у вас разреженная. Какой формат хранения разреженной матрицы будет предпочтительным для такого метода решения?\n",
    "\n",
    "- (10 pts) В пункте выше не предполагались никакие специфичные свойства правой части. Однако если предположить, что правая часть является разреженным вектором, то можно предложить более эффективный метод решения такой линейной системы. Основная идея состоит в том, чтобы преобразовать метод из предыдущего пункта из построчного заполнения решения в итерирование по **столбцам** матрицы и соответствующего обновления решения. Какой формат хранения матриы является предпочтительным для такого метода решения? Перепишите метод из предыдущего пункта, так чтобы итерирование происходило по столбцам матрицы, и реализуйте его.\n",
    "\n",
    "- (15 pts) Дальнейшим развитием является предположение, что помимо разреженной правой части **само решения** также является разреженным. В этом случае можно дополнительно ускорить метод, если рассматривать не все столбцы матрицы, а только те, что действительно влияют на заполненность решения. Для определения таких столбцов необходимо выяснить какие элементы решения окажутся ненулевыми, если в правой части есть ненулевой элемент на позиции $i$? Для ответа на этот вопрос вам поможет графовая интерпретация разреженной матрицы и понятие топологической сортировки. Реализуйте метод решения треугольной разреженной системы в таких предположениях.\n",
    "\n",
    "- (10 pts) Проведите сравнение реализованных выше методов на разреженных треугольных (верхне и нижне) матрицах и правых частях удовлестворяющих перечисленным выше свойствам. Экспериментально проверьте, в каких случаях, какой метод является предпочтительным. Приведите теоретическую оценку сложности каждого из методов."
   ]
  },
  {
   "cell_type": "markdown",
   "metadata": {
    "id": "mIIZC_P2Ie2Y"
   },
   "source": [
    "В данной задаче мы будем итерироваться по столбцам, и при этом в некоторых столбцах смотреть на ненулевые элементы, поэтому наиболее удобным форматом хранения матрицы является формат csc"
   ]
  },
  {
   "cell_type": "code",
   "execution_count": null,
   "metadata": {
    "id": "DgXQIayqSVCE"
   },
   "outputs": [],
   "source": [
    "# Example of triangular sparse matrix generation\n",
    "import numpy as np\n",
    "import scipy.sparse as spsp\n",
    "import scipy.sparse.linalg as spsplin\n",
    "import matplotlib.pyplot as plt"
   ]
  },
  {
   "cell_type": "code",
   "execution_count": null,
   "metadata": {
    "id": "c-i1RqVySVCE",
    "outputId": "8448cb9e-003a-4e73-a26d-f84c6ce09cbe"
   },
   "outputs": [
    {
     "data": {
      "image/png": "[encoded data removed]",
      "text/plain": [
       "<Figure size 432x288 with 1 Axes>"
      ]
     },
     "metadata": {
      "needs_background": "light"
     },
     "output_type": "display_data"
    },
    {
     "data": {
      "image/png": "[encoded data removed]",
      "text/plain": [
       "<Figure size 432x288 with 1 Axes>"
      ]
     },
     "metadata": {
      "needs_background": "light"
     },
     "output_type": "display_data"
    },
    {
     "data": {
      "image/png": "[encoded data removed]",
      "text/plain": [
       "<Figure size 432x288 with 1 Axes>"
      ]
     },
     "metadata": {
      "needs_background": "light"
     },
     "output_type": "display_data"
    }
   ],
   "source": [
    "n = 700\n",
    "A = spsp.rand(n, n, density=0.005).tocsc()\n",
    "plt.spy(A, markersize=1)\n",
    "plt.show()\n",
    "L = spsp.tril(A) + spsp.eye(n)\n",
    "U = spsp.triu(A) + spsp.eye(n)\n",
    "plt.spy(L, markersize=1)\n",
    "plt.show()\n",
    "plt.spy(U, markersize=1)\n",
    "plt.show()"
   ]
  },
  {
   "cell_type": "markdown",
   "metadata": {
    "id": "YZmi3x_2Ie2Z"
   },
   "source": [
    "### 1)."
   ]
  },
  {
   "cell_type": "code",
   "execution_count": null,
   "metadata": {
    "id": "8hGNs7ExSVCF"
   },
   "outputs": [],
   "source": [
    "def lower_triangular_solver(A, f):\n",
    "    \n",
    "    L = A.copy()\n",
    "    b = np.copy(f)\n",
    "    L = L.tocsc()\n",
    "    \n",
    "    for i in range(len(L.indptr)-1):\n",
    "        ind1 = L.indptr[i]\n",
    "        ind2 = L.indptr[i+1]\n",
    "\n",
    "        if ind1 == ind2:\n",
    "            continue\n",
    "\n",
    "        for j in range(ind1+1, ind2):\n",
    "            b[L.indices[j]] -= b[L.indices[ind1]] * (L.data[j] / L.data[ind1])\n",
    "            L.data[j] -= L.data[ind1] * (L.data[j] / L.data[ind1])\n",
    "\n",
    "\n",
    "        b[L.indices[ind1]] /= L.data[ind1]\n",
    "        L.data[ind1] = 1.\n",
    "        \n",
    "    return b"
   ]
  },
  {
   "cell_type": "code",
   "execution_count": null,
   "metadata": {
    "id": "kCoUOpqqIe2Z"
   },
   "outputs": [],
   "source": [
    "x = np.random.rand(n)\n",
    "b = L.dot(x)"
   ]
  },
  {
   "cell_type": "code",
   "execution_count": null,
   "metadata": {
    "id": "4r-MaqscIe2Z"
   },
   "outputs": [],
   "source": [
    "x1 = lower_triangular_solver(L, b)"
   ]
  },
  {
   "cell_type": "code",
   "execution_count": null,
   "metadata": {
    "id": "D8xOFpd3Ie2Z",
    "outputId": "29675833-a7c0-4c18-e251-10a56a7ba8be"
   },
   "outputs": [
    {
     "data": {
      "text/plain": [
       "True"
      ]
     },
     "execution_count": 306,
     "metadata": {},
     "output_type": "execute_result"
    }
   ],
   "source": [
    "np.allclose(x, x1)"
   ]
  },
  {
   "cell_type": "code",
   "execution_count": null,
   "metadata": {
    "id": "kSx86syMIe2Z"
   },
   "outputs": [],
   "source": [
    "def upper_triangular_solver(A, f):\n",
    "    \n",
    "    U = A.copy()\n",
    "    b = np.copy(f)\n",
    "    U = U.tocsc()\n",
    "    \n",
    "    for i in range(len(U.indptr)-1, 0, -1):\n",
    "        ind1 = U.indptr[i]\n",
    "        ind2 = U.indptr[i-1]\n",
    "\n",
    "        if ind1 == ind2:\n",
    "            continue\n",
    "\n",
    "        for j in range(ind2, ind1-1):\n",
    "            b[U.indices[j]] -= b[U.indices[ind1-1]] * (U.data[j] / U.data[ind1-1])\n",
    "            U.data[j] -= U.data[ind1-1] * (U.data[j] / U.data[ind1-1])\n",
    "\n",
    "\n",
    "        b[U.indices[ind1-1]] /= U.data[ind1-1]\n",
    "        U.data[ind1-1] = 1.\n",
    "        \n",
    "    return b"
   ]
  },
  {
   "cell_type": "code",
   "execution_count": null,
   "metadata": {
    "id": "lNShs-FBIe2a"
   },
   "outputs": [],
   "source": [
    "x = np.random.rand(n)\n",
    "b = U.dot(x)"
   ]
  },
  {
   "cell_type": "code",
   "execution_count": null,
   "metadata": {
    "id": "cu18uGZqIe2a"
   },
   "outputs": [],
   "source": [
    "x1 = upper_triangular_solver(U, b)"
   ]
  },
  {
   "cell_type": "code",
   "execution_count": null,
   "metadata": {
    "id": "iSGxshzGIe2a",
    "outputId": "e9ef6d61-1056-4df1-fb3d-b1e15d5bac3b"
   },
   "outputs": [
    {
     "data": {
      "text/plain": [
       "True"
      ]
     },
     "execution_count": 310,
     "metadata": {},
     "output_type": "execute_result"
    }
   ],
   "source": [
    "np.allclose(x, x1)"
   ]
  },
  {
   "cell_type": "markdown",
   "metadata": {
    "id": "A3AHh37uIe2a"
   },
   "source": [
    "### 2)."
   ]
  },
  {
   "cell_type": "code",
   "execution_count": null,
   "metadata": {
    "id": "RHVVrf1lIe2a"
   },
   "outputs": [],
   "source": [
    "def lower_triangular_solver2(A, f):\n",
    "    \n",
    "    L = A.copy()\n",
    "    b = np.copy(f)\n",
    "    L = L.tocsc()\n",
    "    \n",
    "    for i in range(len(L.indptr)-1):\n",
    "        \n",
    "        ind1 = L.indptr[i]\n",
    "        ind2 = L.indptr[i+1]\n",
    "        \n",
    "        if b[L.indices[ind1]] == 0:\n",
    "            continue\n",
    "\n",
    "        if ind1 == ind2:\n",
    "            continue\n",
    "\n",
    "        for j in range(ind1+1, ind2):\n",
    "            b[L.indices[j]] -= b[L.indices[ind1]] * (L.data[j] / L.data[ind1])\n",
    "            L.data[j] -= L.data[ind1] * (L.data[j] / L.data[ind1])\n",
    "\n",
    "\n",
    "        b[L.indices[ind1]] /= L.data[ind1]\n",
    "        L.data[ind1] = 1.\n",
    "        \n",
    "    return b"
   ]
  },
  {
   "cell_type": "code",
   "execution_count": null,
   "metadata": {
    "id": "Ql5sSlfqIe2a"
   },
   "outputs": [],
   "source": [
    "b = spsp.rand(1, n, density=0.005)"
   ]
  },
  {
   "cell_type": "code",
   "execution_count": null,
   "metadata": {
    "id": "YmGSVglGIe2a"
   },
   "outputs": [],
   "source": [
    "b = b.toarray()[0]"
   ]
  },
  {
   "cell_type": "code",
   "execution_count": null,
   "metadata": {
    "id": "VCUJpJv4Ie2a"
   },
   "outputs": [],
   "source": [
    "x = sp.sparse.linalg.spsolve(L, b)"
   ]
  },
  {
   "cell_type": "code",
   "execution_count": null,
   "metadata": {
    "id": "zzNa_2ThIe2a"
   },
   "outputs": [],
   "source": [
    "x1 = lower_triangular_solver2(L, b)"
   ]
  },
  {
   "cell_type": "code",
   "execution_count": null,
   "metadata": {
    "id": "HB-anSr0Ie2a",
    "outputId": "a929df09-6e09-412c-9ff9-e3b037868bc6"
   },
   "outputs": [
    {
     "data": {
      "text/plain": [
       "True"
      ]
     },
     "execution_count": 386,
     "metadata": {},
     "output_type": "execute_result"
    }
   ],
   "source": [
    "np.allclose(x, x1)"
   ]
  },
  {
   "cell_type": "code",
   "execution_count": null,
   "metadata": {
    "id": "34GnmO5eIe2b"
   },
   "outputs": [],
   "source": [
    "def upper_triangular_solver2(A, f):\n",
    "    \n",
    "    U = A.copy()\n",
    "    b = np.copy(f)\n",
    "    U = U.tocsc()\n",
    "    \n",
    "    for i in range(len(U.indptr)-1, 0, -1):\n",
    "             \n",
    "        ind1 = U.indptr[i]\n",
    "        ind2 = U.indptr[i-1]\n",
    "        \n",
    "        if b[U.indices[ind1-1]] == 0:\n",
    "            continue\n",
    "\n",
    "        if ind1 == ind2:\n",
    "            continue\n",
    "\n",
    "        for j in range(ind2, ind1-1):\n",
    "            b[U.indices[j]] -= b[U.indices[ind1-1]] * (U.data[j] / U.data[ind1-1])\n",
    "            U.data[j] -= U.data[ind1-1] * (U.data[j] / U.data[ind1-1])\n",
    "\n",
    "\n",
    "        b[U.indices[ind1-1]] /= U.data[ind1-1]\n",
    "        U.data[ind1-1] = 1.\n",
    "        \n",
    "    return b"
   ]
  },
  {
   "cell_type": "code",
   "execution_count": null,
   "metadata": {
    "id": "YtsHyHCWIe2b"
   },
   "outputs": [],
   "source": [
    "x = sp.sparse.linalg.spsolve(U, b)"
   ]
  },
  {
   "cell_type": "code",
   "execution_count": null,
   "metadata": {
    "id": "BOkMAzlvIe2b"
   },
   "outputs": [],
   "source": [
    "x1 = upper_triangular_solver2(U, b)"
   ]
  },
  {
   "cell_type": "code",
   "execution_count": null,
   "metadata": {
    "id": "0eQVpPYDIe2b",
    "outputId": "4e12d257-cb60-43a9-cb8e-9d805f4cbeae"
   },
   "outputs": [
    {
     "data": {
      "text/plain": [
       "True"
      ]
     },
     "execution_count": 390,
     "metadata": {},
     "output_type": "execute_result"
    }
   ],
   "source": [
    "np.allclose(x, x1)"
   ]
  },
  {
   "cell_type": "markdown",
   "metadata": {
    "id": "KXr4FzrTIe2b"
   },
   "source": [
    "### 3)."
   ]
  },
  {
   "cell_type": "code",
   "execution_count": null,
   "metadata": {
    "id": "feJbULKHIe2b"
   },
   "outputs": [],
   "source": [
    "def dfs(cur, A, visited, top, res):\n",
    "    visited[cur] = 1\n",
    "    \n",
    "    for i in range(A.indptr[cur], A.indptr[cur+1]):\n",
    "        \n",
    "        if visited[A.indices[i]] != 0:\n",
    "            continue\n",
    "           \n",
    "        #print(cur)\n",
    "        top = dfs(A.indices[i], A, visited, top, res)\n",
    "        \n",
    "    res[top] = cur\n",
    "    top += 1\n",
    "    return top"
   ]
  },
  {
   "cell_type": "code",
   "execution_count": null,
   "metadata": {
    "id": "_sfF25naIe2b"
   },
   "outputs": [],
   "source": [
    "def columns(A, b, res, visited):\n",
    "    N = len(A.indptr) - 1\n",
    "    \n",
    "    top = 0\n",
    "    \n",
    "    for i in range(len(b)):\n",
    "        \n",
    "        #print(visited[b[i]])\n",
    "        if visited[b[i]] != 0:\n",
    "            continue\n",
    "            \n",
    "        top = dfs(b[i], A, visited, top, res)\n",
    "        \n",
    "    return top\n",
    "        "
   ]
  },
  {
   "cell_type": "code",
   "execution_count": null,
   "metadata": {
    "id": "3er_1ibkIe2b"
   },
   "outputs": [],
   "source": [
    "def lower_triangular_solver3(A, f):\n",
    "    A = A.tocsc()\n",
    "    b = np.where(f != 0)[0]\n",
    "    res = np.zeros(A.shape[0])\n",
    "    visited = np.zeros(len(A.data))\n",
    "    top = columns(A, b, res, visited)\n",
    "    x = np.copy(f)\n",
    "    for i in range(top-1, -1, -1):\n",
    "        j = res[i]\n",
    "        x[int(j)] /= A.data[A.indptr[int(j)]]\n",
    "        \n",
    "        for p in range(A.indptr[int(j)]+1, A.indptr[int(j)+1]):\n",
    "            x[A.indices[p]] -= A.data[p] * x[int(j)]\n",
    "            \n",
    "    return x"
   ]
  },
  {
   "cell_type": "code",
   "execution_count": null,
   "metadata": {
    "id": "1GjTR_tGIe2b"
   },
   "outputs": [],
   "source": [
    "b = spsp.rand(1, n, density=0.005)\n",
    "b = b.toarray()[0]\n",
    "x = sp.sparse.linalg.spsolve(L, b)"
   ]
  },
  {
   "cell_type": "code",
   "execution_count": null,
   "metadata": {
    "id": "Ra71TRpmIe2c"
   },
   "outputs": [],
   "source": [
    "x1 = lower_triangular_solver3(L, b)"
   ]
  },
  {
   "cell_type": "code",
   "execution_count": null,
   "metadata": {
    "id": "oY3mpMHjIe2c",
    "outputId": "c0a43f5b-fc53-4f86-e014-a623b4454637"
   },
   "outputs": [
    {
     "data": {
      "text/plain": [
       "True"
      ]
     },
     "execution_count": 555,
     "metadata": {},
     "output_type": "execute_result"
    }
   ],
   "source": [
    "np.allclose(x, x1)"
   ]
  },
  {
   "cell_type": "code",
   "execution_count": null,
   "metadata": {
    "id": "MihryhzTIe2c"
   },
   "outputs": [],
   "source": [
    "def dfs1(cur, A, visited, top, res):\n",
    "    visited[cur] = 1\n",
    "    \n",
    "    for i in range(A.indptr[cur+1]-1, A.indptr[cur]-1, -1):\n",
    "        #print(A.indices[i])\n",
    "        if visited[A.indices[i]] != 0:\n",
    "            continue\n",
    "           \n",
    "        #print(cur)\n",
    "        top = dfs1(A.indices[i], A, visited, top, res)\n",
    "        \n",
    "    res[top] = cur\n",
    "    top += 1\n",
    "    return top"
   ]
  },
  {
   "cell_type": "code",
   "execution_count": null,
   "metadata": {
    "id": "C3ABBJRgIe2c"
   },
   "outputs": [],
   "source": [
    "def columns1(A, b, res, visited):\n",
    "    N = len(A.indptr) - 1\n",
    "    \n",
    "    top = 0\n",
    "    \n",
    "    for i in range(len(b)-1, -1, -1):\n",
    "        \n",
    "        #print(b[i])\n",
    "        if int(visited[b[i]]) != 0:\n",
    "            continue\n",
    "            \n",
    "        top = dfs1(b[i], A, visited, top, res)\n",
    "        \n",
    "    return top        "
   ]
  },
  {
   "cell_type": "code",
   "execution_count": null,
   "metadata": {
    "id": "NrwyoorLIe2c"
   },
   "outputs": [],
   "source": [
    "def upper_triangular_solver3(A, f):\n",
    "    A = A.tocsc()\n",
    "    b = np.where(f != 0)[0]\n",
    "    res = np.zeros(A.shape[0])\n",
    "    visited = np.zeros(len(A.data))\n",
    "    top = columns1(A, b, res, visited)\n",
    "    x = np.copy(f)\n",
    "    #print(x)\n",
    "    for i in range(top-1, -1, -1):\n",
    "        j = res[i]\n",
    "        x[int(j)] /= A.data[A.indptr[int(j)+1]-1]\n",
    "        #print(x[int(j)])\n",
    "        for p in range(A.indptr[int(j)+1]-2, A.indptr[int(j)]-1, -1):\n",
    "            #print(int(p))\n",
    "            #print(x[int(j)])\n",
    "            x[A.indices[p]] -= A.data[p] * x[int(j)]\n",
    "            \n",
    "    return x"
   ]
  },
  {
   "cell_type": "code",
   "execution_count": null,
   "metadata": {
    "id": "mjDPzyDaIe2c"
   },
   "outputs": [],
   "source": [
    "b = spsp.rand(1, n, density=0.005)\n",
    "b = b.toarray()[0]\n",
    "x = sp.sparse.linalg.spsolve(U, b)"
   ]
  },
  {
   "cell_type": "code",
   "execution_count": null,
   "metadata": {
    "id": "7RN7dxweIe2c"
   },
   "outputs": [],
   "source": [
    "x1 = upper_triangular_solver3(U, b)"
   ]
  },
  {
   "cell_type": "code",
   "execution_count": null,
   "metadata": {
    "id": "Y-h--s66Ie2c",
    "outputId": "1d2ee771-300a-4860-d6f3-700ad7c67b36"
   },
   "outputs": [
    {
     "data": {
      "text/plain": [
       "True"
      ]
     },
     "execution_count": 697,
     "metadata": {},
     "output_type": "execute_result"
    }
   ],
   "source": [
    "np.allclose(x, x1)"
   ]
  },
  {
   "cell_type": "markdown",
   "metadata": {
    "id": "e4dorYjAIe2c"
   },
   "source": [
    "### 4)."
   ]
  },
  {
   "cell_type": "code",
   "execution_count": null,
   "metadata": {
    "id": "NqLoceWIIe2c",
    "outputId": "191f5137-70da-4645-8ef4-fa275b89b1e2"
   },
   "outputs": [
    {
     "data": {
      "image/png": "[encoded data removed]",
      "text/plain": [
       "<Figure size 432x288 with 1 Axes>"
      ]
     },
     "metadata": {
      "needs_background": "light"
     },
     "output_type": "display_data"
    },
    {
     "data": {
      "image/png": "[encoded data removed]",
      "text/plain": [
       "<Figure size 432x288 with 1 Axes>"
      ]
     },
     "metadata": {
      "needs_background": "light"
     },
     "output_type": "display_data"
    },
    {
     "data": {
      "image/png": "[encoded data removed]",
      "text/plain": [
       "<Figure size 432x288 with 1 Axes>"
      ]
     },
     "metadata": {
      "needs_background": "light"
     },
     "output_type": "display_data"
    }
   ],
   "source": [
    "n = 10000\n",
    "A = spsp.rand(n, n, density=0.00001).tocsc()\n",
    "plt.spy(A, markersize=1)\n",
    "plt.show()\n",
    "L = spsp.tril(A) + spsp.eye(n)\n",
    "U = spsp.triu(A) + spsp.eye(n)\n",
    "plt.spy(L, markersize=1)\n",
    "plt.show()\n",
    "plt.spy(U, markersize=1)\n",
    "plt.show()"
   ]
  },
  {
   "cell_type": "code",
   "execution_count": null,
   "metadata": {
    "id": "hMy03KeLIe2c"
   },
   "outputs": [],
   "source": [
    "x = np.random.rand(n)\n",
    "b = L.dot(x)"
   ]
  },
  {
   "cell_type": "code",
   "execution_count": null,
   "metadata": {
    "id": "_wZoCovSIe2d",
    "outputId": "5cd8812d-a63c-4165-9ce4-55e23a74f1fe"
   },
   "outputs": [
    {
     "name": "stdout",
     "output_type": "stream",
     "text": [
      "31.2 ms ± 194 µs per loop (mean ± std. dev. of 7 runs, 10 loops each)\n"
     ]
    }
   ],
   "source": [
    "%%timeit\n",
    "x1 = lower_triangular_solver(L, b)"
   ]
  },
  {
   "cell_type": "code",
   "execution_count": null,
   "metadata": {
    "id": "IDVrL_05Ie2d",
    "outputId": "38726474-e3f2-42e7-e377-9566dfe62ae0"
   },
   "outputs": [
    {
     "name": "stdout",
     "output_type": "stream",
     "text": [
      "36.6 ms ± 387 µs per loop (mean ± std. dev. of 7 runs, 10 loops each)\n"
     ]
    }
   ],
   "source": [
    "%%timeit\n",
    "x1 = lower_triangular_solver2(L, b)"
   ]
  },
  {
   "cell_type": "code",
   "execution_count": null,
   "metadata": {
    "id": "1uHmNudDIe2d",
    "outputId": "39fe68f0-9fdd-443e-e4d3-fa1a2a0939e0"
   },
   "outputs": [
    {
     "name": "stdout",
     "output_type": "stream",
     "text": [
      "54.9 ms ± 857 µs per loop (mean ± std. dev. of 7 runs, 10 loops each)\n"
     ]
    }
   ],
   "source": [
    "%%timeit\n",
    "x1 = lower_triangular_solver3(L, b)"
   ]
  },
  {
   "cell_type": "markdown",
   "metadata": {
    "id": "X4Qb5oD7Ie2d"
   },
   "source": [
    "Видим, что время +- одинаковое в первых 2х методах, если правая часть не разреженая, что вполне логично, так как 2й метод работает быстрее 1го, если в правой части много нулей"
   ]
  },
  {
   "cell_type": "markdown",
   "metadata": {
    "id": "uDHx6bPpIe2d"
   },
   "source": [
    "3й метод работает чуть быстрее первых двух, так правая часть не разряженная и мы не получаем выгоду от использования dfs, наоборот он отнимает лишнее время"
   ]
  },
  {
   "cell_type": "markdown",
   "metadata": {
    "id": "_PjpmclcIe2d"
   },
   "source": [
    "Теперь рассмторим случай с разряженой правой частью"
   ]
  },
  {
   "cell_type": "code",
   "execution_count": null,
   "metadata": {
    "id": "5aQrvEIeIe2e"
   },
   "outputs": [],
   "source": [
    "b = spsp.rand(1, n, density=0.00001)\n",
    "b = b.toarray()[0]\n",
    "x = sp.sparse.linalg.spsolve(L, b)"
   ]
  },
  {
   "cell_type": "code",
   "execution_count": null,
   "metadata": {
    "id": "Cgi0qGynIe2e",
    "outputId": "ad02219d-931d-4621-b3f8-ef04d1df41b4"
   },
   "outputs": [
    {
     "name": "stdout",
     "output_type": "stream",
     "text": [
      "32.3 ms ± 839 µs per loop (mean ± std. dev. of 7 runs, 10 loops each)\n"
     ]
    }
   ],
   "source": [
    "%%timeit\n",
    "x1 = lower_triangular_solver(L, b)"
   ]
  },
  {
   "cell_type": "code",
   "execution_count": null,
   "metadata": {
    "id": "3nUm6Rw8Ie2e",
    "outputId": "d9472acc-2992-4b06-9477-d5c3ae335218"
   },
   "outputs": [
    {
     "name": "stdout",
     "output_type": "stream",
     "text": [
      "7.46 ms ± 52.5 µs per loop (mean ± std. dev. of 7 runs, 100 loops each)\n"
     ]
    }
   ],
   "source": [
    "%%timeit\n",
    "x1 = lower_triangular_solver2(L, b)"
   ]
  },
  {
   "cell_type": "code",
   "execution_count": null,
   "metadata": {
    "id": "6yx3P2fzIe2e",
    "outputId": "c6d75714-bf6d-4227-c09f-faa1e326dea7"
   },
   "outputs": [
    {
     "name": "stdout",
     "output_type": "stream",
     "text": [
      "88.8 µs ± 1.97 µs per loop (mean ± std. dev. of 7 runs, 10000 loops each)\n"
     ]
    }
   ],
   "source": [
    "%%timeit\n",
    "x1 = lower_triangular_solver3(L, b)"
   ]
  },
  {
   "cell_type": "markdown",
   "metadata": {
    "id": "I8YZA_7WIe2e"
   },
   "source": [
    "Видно, если правая часть разреженая, то 2й метод работает существенно быстрее 1го, а 3й работает быстрее первых двух, что соответствует ожиданиям"
   ]
  },
  {
   "cell_type": "markdown",
   "metadata": {
    "id": "vfW5ODeqIe2e"
   },
   "source": [
    "#### Теоретические оценки"
   ]
  },
  {
   "cell_type": "markdown",
   "metadata": {
    "id": "UsXcCIKYIe2g"
   },
   "source": [
    "1й метод работает за $O(k)$, где $k$ - количество ненулевых элементов, так как мы проходим по каждому столбцу, а затем внутри столбца проходим все ненулевые элементы"
   ]
  },
  {
   "cell_type": "markdown",
   "metadata": {
    "id": "Dti4WdMZIe2h"
   },
   "source": [
    "2й метод работает также за $O(k)$, так как в худшем случае мы будем проходить все ненулевые элементы каждого столбца"
   ]
  },
  {
   "cell_type": "markdown",
   "metadata": {
    "id": "Ci0GlKvFIe2j"
   },
   "source": [
    "3й метод работает за $O(N)$, где $N$ - количество строк (и столбцов) в исходной матрице, так как сначала мы делаем поиск в глубину в разреженом графе (это стоит $O(N)$), а затем заполняем вектор $x$, это также стоит $O(N)$"
   ]
  }
 ],
 "metadata": {
  "colab": {
   "collapsed_sections": [],
   "name": "hw2-3.ipynb",
   "provenance": []
  },
  "kernelspec": {
   "display_name": "Python 3 (ipykernel)",
   "language": "python",
   "name": "python3"
  },
  "language_info": {
   "codemirror_mode": {
    "name": "ipython",
    "version": 3
   },
   "file_extension": ".py",
   "mimetype": "text/x-python",
   "name": "python",
   "nbconvert_exporter": "python",
   "pygments_lexer": "ipython3",
   "version": "3.8.12"
  }
 },
 "nbformat": 4,
 "nbformat_minor": 1
}
