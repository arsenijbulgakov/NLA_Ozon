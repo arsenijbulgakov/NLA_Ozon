{
 "cells": [
  {
   "cell_type": "markdown",
   "metadata": {},
   "source": [
    "# Домашнее задание 1 (25 + 30 + 27 + 30 = 112 pts)"
   ]
  },
  {
   "cell_type": "markdown",
   "metadata": {},
   "source": [
    "## Булгаков Арсений"
   ]
  },
  {
   "cell_type": "markdown",
   "metadata": {},
   "source": [
    "## Задача 1 (25 pts)\n",
    "\n",
    "- (3 pts) Докажите, что $\\| A \\|_F \\le \\sqrt{\\mathrm{rank}(A)} \\| A \\|_2$.\n",
    "- (3 pts) Покажите, что для любых $m, n$ и $k \\le \\min(m, n)$ существует $A \\in \\mathbb{R}^{m \\times n}: \\mathrm{rank}(A) = k$, такая что $\\| A \\|_F = \\sqrt{\\mathrm{rank}(A)} \\| A \\|_2$.\n",
    "- (3 pts) Докажите, что $\\| A B \\|_F \\le \\| A \\|_2 \\| B \\|_F$.\n",
    "- (2 pts) Докажите, что для любой эрмитовой матрицы сингулярные числа совпадают с абсолютными значениями собственных значений. Выполнено ли это для произвольной матрицы? Докажите, что выполнено или приведите контрпример.\n",
    "\n",
    "- (3 pts) Найдите аналитически скелетное разложение матрицы $\\begin{pmatrix} 1 & -2 & 5 \\\\ 5 & 3 & 9 \\\\ 3 & 7 & -1\\end{pmatrix}$.\n",
    "\n",
    "- (1 pts) Покажите, что если матрица $A$ обратима, то $\\|A^{-1}\\|_F \\geq \\frac{\\sqrt{n}}{\\|A\\|_F}$\n",
    "\n",
    "- (3 pts) Рассмотрим матрицу $A = \\begin{bmatrix} I & a \\\\ a^{\\top} & 0 \\end{bmatrix}$. Когда она является обратимой? Пусть она обратима, тогда найдите выражение для $A^{-1}$\n",
    "\n",
    "- (3 pts) Пусть матрица $A$ ортогональна и все её элементы неотрицательны, то есть $a_{ij} \\geq 0$. Покажите, что тогда $A$ есть матрица перестановки  \n",
    "\n",
    "- (2 pts) Пусть матрица $A \\in \\mathbb{C}^{n \\times n}$ и её сингулярное разложение $A = U\\Sigma V^*$. Найдите спектральное разложение (разложение по собственным векторам) матрицы $\\begin{bmatrix} 0 & A^* \\\\ A & 0 \\end{bmatrix}$ размера $2n \\times 2n$\n",
    "\n",
    "- (2 pts) Рассмотрим матрицу $\\begin{bmatrix} A_1 \\\\ A_2 \\end{bmatrix}$, где матрица $A_1$ невырождена и размера $n \\times n$, а матрица $A_2$ произвольная размера $(m - n) \\times n$. Докажите, что $\\|A^{\\dagger}\\|_2 \\leq \\|A^{-1}_1\\|_2$"
   ]
  },
  {
   "cell_type": "markdown",
   "metadata": {},
   "source": [
    "Докажите, что $\\| A \\|_F \\le \\sqrt{\\mathrm{rank}(A)} \\| A \\|_2$.\n",
    "\n",
    "$\\| A \\|_F \\leq \\sqrt{\\mathrm{rank}(A)} \\| A \\|_2 \\iff \\| A \\|_F^2 \\leq {\\mathrm{rank}(A)} \\| A \\|_2^2$ в силу\n",
    "неотрицательности норм. Докажем последнее неравенство\n",
    "\n",
    "Пусть $rank(A) = r, \\ \\rho_1, \\rho_2, ... , \\rho_r - $ сингулярные числа матрицы $A$\n",
    "\n",
    "$\\| A \\|_F^2 = \\sum_{i=1}^{r} \\rho_i^2 \\leq \\sum_{i=1}^{r} \\rho_1^2 = r \\cdot \\rho_1^2 = rank(A) \\cdot \\| A \\|_2^2$\n",
    "\n",
    "$\\Rightarrow \\| A \\|_F \\le \\sqrt{\\mathrm{rank}(A)} \\| A \\|_2$"
   ]
  },
  {
   "cell_type": "markdown",
   "metadata": {},
   "source": [
    "Покажите, что для любых $m, n$ и $k \\le \\min(m, n)$ существует $A \\in \\mathbb{R}^{m \\times n}: \\mathrm{rank}(A) = k$, такая что $\\| A \\|_F = \\sqrt{\\mathrm{rank}(A)} \\| A \\|_2$.\n",
    "\n",
    "Пусть $A = \\begin{bmatrix} I_{k * k} & 0 \\\\ 0 & 0 \\end{bmatrix}$. Тогда очевидно $\\mathrm{rank}(A) = k$ и \n",
    "$\\| A \\|_F = \\sqrt{1+1+...+1} = \\sqrt{k}$\n",
    "\n",
    "При этом $A^{T}A = \\begin{bmatrix} I_{k * k} & 0 \\\\ 0 & 0 \\end{bmatrix} \\Rightarrow$ максимальное сингулярное\n",
    "число матрицы $A \\ \\ \\rho_{max} = 1 \\Rightarrow \\| A \\|_2 = 1$\n",
    "\n",
    "$\\Rightarrow \\| A \\|_F = \\sqrt{rank(A)} \\| A \\|_2$."
   ]
  },
  {
   "cell_type": "markdown",
   "metadata": {},
   "source": [
    "Докажите, что $\\| A B \\|_F \\le \\| A \\|_2 \\| B \\|_F$.\n",
    "\n",
    "Запишем $B$ по столбцам: $B = [b_1 \\  b_2 \\ ... \\ b_n]$. Тогда $AB = [Ab_1 \\  Ab_2 \\ ... \\ Ab_n]$.\n",
    "\n",
    "$\\Rightarrow \\| AB \\|_F^2 = \\| [Ab_1 \\  Ab_2 \\ ... \\ Ab_n] \\|_F^2 = \\sum_{i=1}^{n} \\| Ab_i \\|_2^2 \\leq$\n",
    "$\\sum_{i=1}^{n} \\| A \\|_2^2 \\| b_i \\|_2^2 = \\| A \\|_2^2 \\sum_{i=1}^{n}  \\| b_i \\|_2^2 = \\| A \\|_2^2 \\| B \\|_F^2$\n",
    "\n",
    "$\\Rightarrow \\| A B \\|_F^2 \\le \\| A \\|_2^2 \\| B \\|_F^2 \\Rightarrow \\| A B \\|_F \\le \\| A \\|_2 \\| B \\|_F$."
   ]
  },
  {
   "cell_type": "markdown",
   "metadata": {},
   "source": [
    "Докажите, что для любой эрмитовой матрицы сингулярные числа совпадают с абсолютными значениями собственных значений. Выполнено ли это для произвольной матрицы? Докажите, что выполнено или приведите контрпример.\n",
    "\n",
    "Так как матрица $A$ эрмитова, то она унитарно подобна диагональной матрице, на диагонале которой стоят\n",
    "вещественные числа.\n",
    "\n",
    "$A = T^H S T$, где $S = \\begin{pmatrix}\n",
    "  \\lambda_1 & 0 & \\cdots & 0 \\\\\n",
    "  0 & \\lambda_2 & \\cdots & 0 \\\\\n",
    "  \\vdots  & \\vdots  & \\ddots & \\vdots  \\\\\n",
    "  0 & 0 & \\cdots & \\lambda_n \n",
    " \\end{pmatrix}$, $\\ \\ T^H T = I$\n",
    " \n",
    "$A^H A = A^2 = T^H S T T^H S T = T^H S^2 T \\Rightarrow$ собственные значения матрицы $A^H A$ равны\n",
    "$\\lambda_1^2, \\lambda_2^2, ... , \\lambda_n^2 \\Rightarrow$ сингулярные числа матрицы $A$ равны\n",
    "\n",
    "$\\rho_i = \\sqrt\\lambda_i^2 = | \\lambda_i |, i = 1...n$\n",
    "\n",
    "Данное свойство выполнено не для любых матриц.\n",
    "\n",
    "Например пусть $A = \\begin{bmatrix} 0 & -5 \\\\ 1 & 0 \\end{bmatrix}, \\ det(A-\\lambda I) = \\lambda^2 + 5 \\Rightarrow$\n",
    "$\\lambda = \\pm i \\sqrt5$\n",
    "\n",
    "При этом $A^T A = \\begin{bmatrix} 1 & 0 \\\\ 0 & 25 \\end{bmatrix} \\Rightarrow$ собственные значения матрицы $A^T A$\n",
    "$\\lambda_1 = 1, \\ \\lambda_2 = 25 \\Rightarrow \\rho_1 = 1, \\ \\rho_2 = 5$\n",
    "\n",
    "В данном случае сингулярные числа не совпадают с абсолютными значениями собственных значений."
   ]
  },
  {
   "cell_type": "markdown",
   "metadata": {},
   "source": [
    "Найдите аналитически скелетное разложение матрицы $\\begin{pmatrix} 1 & -2 & 5 \\\\ 5 & 3 & 9 \\\\ 3 & 7 & -1\\end{pmatrix}$\n",
    "\n",
    "$A = \\begin{pmatrix} 1 & -2 & 5 \\\\ 5 & 3 & 9 \\\\ 3 & 7 & -1\\end{pmatrix} \\rightarrow$\n",
    "$\\begin{pmatrix} 1 & 0 & 0 \\\\ 5 & 13 & -16 \\\\ 3 & 13 & -16\\end{pmatrix} \\rightarrow$\n",
    "$\\begin{pmatrix} 1 & 0 & 0 \\\\ 5 & 1 & 0 \\\\ 3 & 1 & 0\\end{pmatrix} \\Rightarrow$\n",
    "В качестве базисных стобцов можно взять 1-й и 2-й.\n",
    "\n",
    "$C = \\begin{pmatrix} 1 & -2 \\\\ 5 & 3 \\\\ 3 & 7 \\end{pmatrix},$\n",
    "$B = \\begin{pmatrix} b_{11} & b_{12} & b_{13} \\\\ b_{21} & b_{22} & b_{23} \\end{pmatrix}, A = CB$\n",
    "\n",
    "Решая линейную систему на $b_{ij}$, получаем $A = \\begin{pmatrix} 1 & -2 \\\\ 5 & 3 \\\\ 3 & 7 \\end{pmatrix}$\n",
    "$\\begin{pmatrix} 1 & 0 & \\frac{33}{13} \\\\ 0 & 1 & \\frac{-16}{33} \\end{pmatrix}$"
   ]
  },
  {
   "cell_type": "markdown",
   "metadata": {},
   "source": [
    "Покажите, что если матрица $A$ обратима, то $\\|A^{-1}\\|_F \\geq \\frac{\\sqrt{n}}{\\|A\\|_F}$\n",
    "\n",
    "$\\sqrt n = \\|I\\|_F = \\|A A^{-1}\\|_F \\leq \\|A^{-1}\\|_F \\|A\\|_F \\Rightarrow \\|A^{-1}\\|_F \\geq \\frac{\\sqrt{n}}{\\|A\\|_F}$"
   ]
  },
  {
   "cell_type": "markdown",
   "metadata": {},
   "source": [
    "Рассмотрим матрицу $A = \\begin{bmatrix} I & a \\\\ a^{\\top} & 0 \\end{bmatrix}$. Когда она является обратимой? Пусть она обратима, тогда найдите выражение для $A^{-1}$\n",
    "\n",
    "$A = \\begin{pmatrix}\n",
    "  \\ 1 & 0 & 0 & \\cdots & 0 & a_1 \\\\\n",
    "  0 & 1 & 0 & \\cdots & 0 & a_2\\\\\n",
    "  0 & 0 & 1 & \\cdots & 0 & a_3\\\\\n",
    "  \\vdots  & \\vdots  &  \\vdots & \\ddots & \\vdots & \\vdots \\\\\n",
    "  0 & 0 & 0 &\\cdots & 1 & a_n \\\\\n",
    "  a_1 & a_2 & a_3 & \\cdots & a_n & 0\n",
    " \\end{pmatrix}$\n",
    " \n",
    "Вычтем из последней строки $i$-й, умноженные на $a_i$. Получим\n",
    "\n",
    "$A' = \\begin{pmatrix}\n",
    "  \\ 1 & 0 & 0 & \\cdots & 0 & a_1 \\\\\n",
    "  0 & 1 & 0 & \\cdots & 0 & a_2\\\\\n",
    "  0 & 0 & 1 & \\cdots & 0 & a_3\\\\\n",
    "  \\vdots  & \\vdots  &  \\vdots & \\ddots & \\vdots & \\vdots \\\\\n",
    "  0 & 0 & 0 &\\cdots & 1 & a_n \\\\\n",
    "  0 & 0 & 0 & \\cdots & 0 & - \\|a\\|_2^2\n",
    " \\end{pmatrix}$\n",
    " \n",
    "$det(A) = det(A') = -\\|a\\|_2^2 \\neq 0 \\iff a$- ненулевой вектор\n",
    "\n",
    "Матрица $A$ обратима\n",
    "$\\iff a$- ненулевой вектор\n",
    "\n",
    "Воспользуемся методом Жордана Гаусса для нахождения обратной\n",
    "\n",
    "$\\begin{vmatrix}\n",
    "  \\ 1 & 0 & 0 & \\cdots & 0 & a_1 \\\\\n",
    "  0 & 1 & 0 & \\cdots & 0 & a_2\\\\\n",
    "  0 & 0 & 1 & \\cdots & 0 & a_3\\\\\n",
    "  \\vdots  & \\vdots  &  \\vdots & \\ddots & \\vdots & \\vdots \\\\\n",
    "  0 & 0 & 0 &\\cdots & 1 & a_n \\\\\n",
    "  a_1 & a_2 & a_3 & \\cdots & a_n & 0\n",
    " \\end{vmatrix} \\begin{vmatrix}\n",
    "  \\ 1 & 0 & 0 & \\cdots & 0 & 0 \\\\\n",
    "  0 & 1 & 0 & \\cdots & 0 & 0\\\\\n",
    "  0 & 0 & 1 & \\cdots & 0 & 0\\\\\n",
    "  \\vdots  & \\vdots  &  \\vdots & \\ddots & \\vdots & \\vdots \\\\\n",
    "  0 & 0 & 0 &\\cdots & 1 & 0 \\\\\n",
    "  0 & 0 & 0 & \\cdots & 0 & 1\n",
    " \\end{vmatrix} \\rightarrow \\begin{vmatrix}\n",
    "  \\ 1 & 0 & 0 & \\cdots & 0 & a_1 \\\\\n",
    "  0 & 1 & 0 & \\cdots & 0 & a_2\\\\\n",
    "  0 & 0 & 1 & \\cdots & 0 & a_3\\\\\n",
    "  \\vdots  & \\vdots  &  \\vdots & \\ddots & \\vdots & \\vdots \\\\\n",
    "  0 & 0 & 0 &\\cdots & 1 & a_n \\\\\n",
    "  0 & 0 & 0 & \\cdots & 0 & 1\n",
    " \\end{vmatrix} \n",
    " \\begin{vmatrix}\n",
    "  \\ 1 & 0 & 0 & \\cdots & 0 & 0 \\\\\n",
    "  0 & 1 & 0 & \\cdots & 0 & 0\\\\\n",
    "  0 & 0 & 1 & \\cdots & 0 & 0\\\\\n",
    "  \\vdots  & \\vdots  &  \\vdots & \\ddots & \\vdots & \\vdots \\\\\n",
    "  0 & 0 & 0 &\\cdots & 1 & 0 \\\\\n",
    "  \\frac{a_1}{\\|a\\|_2^2} & \\frac{a_2}{\\|a\\|_2^2} & \\frac{a_3}{\\|a\\|_2^2} & \\cdots & \\frac{a_n}{\\|a\\|_2^2} & \\frac{-1}{\\|a\\|_2^2}\n",
    " \\end{vmatrix} \\rightarrow$\n",
    " \n",
    " \n",
    "$\\rightarrow \\begin{vmatrix}\n",
    "  \\ 1 & 0 & 0 & \\cdots & 0 & 0 \\\\\n",
    "  0 & 1 & 0 & \\cdots & 0 & 0\\\\\n",
    "  0 & 0 & 1 & \\cdots & 0 & 0\\\\\n",
    "  \\vdots  & \\vdots  &  \\vdots & \\ddots & \\vdots & \\vdots \\\\\n",
    "  0 & 0 & 0 &\\cdots & 1 & 0 \\\\\n",
    "  0 & 0 & 0 & \\cdots & 0 & 1\n",
    " \\end{vmatrix} \n",
    " \\begin{vmatrix}\n",
    "  \\ 1-\\frac{a_{1}^2}{\\|a\\|_2^2} & \\frac{a_1 a_2}{\\|a\\|_2^2} & \\frac{a_1 a_3}{\\|a\\|_2^2} & \\cdots & \\frac{a_1 a_n}{\\|a\\|_2^2} & \\frac{a_{1}}{\\|a\\|_2^2} \\\\\n",
    "  \\frac{a_2 a_1}{\\|a\\|_2^2} & 1-\\frac{a_{2}^2}{\\|a\\|_2^2} & \\frac{a_2 a_3}{\\|a\\|_2^2} & \\cdots & \\frac{a_2 a_n}{\\|a\\|_2^2} & \\frac{a_2}{\\|a\\|_2^2}\\\\\n",
    "  \\frac{a_3 a_1}{\\|a\\|_2^2} & \\frac{a_3 a_2}{\\|a\\|_2^2} & 1-\\frac{a_{3}^2}{\\|a\\|_2^2} & \\cdots & \\frac{a_3 a_n}{\\|a\\|_2^2} & \\frac{a_3}{\\|a\\|_2^2}\\\\\n",
    "  \\vdots  & \\vdots  &  \\vdots & \\ddots & \\vdots & \\vdots \\\\\n",
    "  \\frac{a_n a_1}{\\|a\\|_2^2} & \\frac{a_n a_2}{\\|a\\|_2^2} & \\frac{a_n a_3}{\\|a\\|_2^2} &\\cdots & 1-\\frac{a_{n}^2}{\\|a\\|_2^2} & \\frac{a_n}{\\|a\\|_2^2} \\\\\n",
    "  \\frac{a_1}{\\|a\\|_2^2} & \\frac{a_2}{\\|a\\|_2^2} & \\frac{a_3}{\\|a\\|_2^2} & \\cdots & \\frac{a_n}{\\|a\\|_2^2} & \\frac{-1}{\\|a\\|_2^2}\n",
    " \\end{vmatrix}$\n",
    "\n",
    "\n",
    "$\\Rightarrow A^{-1} = \\begin{pmatrix} I - \\frac{a a^T}{\\|a\\|_2^2} & \\frac{a}{\\|a\\|_2^2} \\\\ \\frac{a^T}{\\|a\\|_2^2} & \\frac{-1}{\\|a\\|_2^2} \\end{pmatrix}$"
   ]
  },
  {
   "cell_type": "markdown",
   "metadata": {},
   "source": [
    "Пусть матрица $A$ ортогональна и все её элементы неотрицательны, то есть $a_{ij} \\geq 0$. Покажите, что тогда $A$ есть матрица перестановки  \n",
    "\n",
    "В матрице $A$ все элементы неотрицательны $\\Rightarrow$ в $A^T$ также все элементы неотрицательны\n",
    "\n",
    "Пусть в $i$-м столбце есть хотя бы 2 положительных элемента $a_{ki}, a_{ji}$. Тогда $\\{A A^T\\}_{jk} = \\sum_{s=1}^{n}$\n",
    "$a_{js} a_{sk}^t \\geq a_{ji} a_{ik}^t = a_{ji} a_{ki} > 0$, но $\\{A A^T\\}_{jk} = \\{I\\}_{jk} = 0$, противоречие.\n",
    "\n",
    "Следовательно, в каждом столбце матрицы $A$ ровно один ненулевой элемент. Рассуждая аналогично для $A^T$, получим,\n",
    "что в каждом столбце матрицы $A^T$ также ровно один положительный элемент.\n",
    "Пусть $a_{ij} \\neq 0$, тогда\n",
    "$\\{A A^T\\}_{ii} = \\sum_{s=1}^{n} a_{is} a_{si}^t = \\sum_{s=1}^{n} a_{is} a_{is} = a_{ij}^2 = 1 \\Rightarrow$\n",
    "\n",
    "$a_{ij} = 1 \\Rightarrow A$- матрица перестановки "
   ]
  },
  {
   "cell_type": "markdown",
   "metadata": {},
   "source": [
    "Пусть матрица $A \\in \\mathbb{C}^{n \\times n}$ и её сингулярное разложение $A = U\\Sigma V^*$. Найдите спектральное разложение (разложение по собственным векторам) матрицы $\\begin{bmatrix} 0 & A^* \\\\ A & 0 \\end{bmatrix}$ размера $2n \\times 2n$\n",
    "\n",
    "$\\begin{bmatrix} 0 & A^* \\\\ A & 0 \\end{bmatrix} = \\begin{bmatrix} V & 0 \\\\ 0 & U \\end{bmatrix}$\n",
    "$\\begin{bmatrix} 0 & \\Sigma \\\\ \\Sigma & 0 \\end{bmatrix} \\begin{bmatrix} V^* & 0 \\\\ 0 & U^* \\end{bmatrix}$\n",
    "\n",
    "Заметим, что $\\begin{bmatrix} 0 & \\Sigma \\\\ \\Sigma & 0 \\end{bmatrix} \\begin{bmatrix} I & I \\\\ I & -I \\end{bmatrix}$\n",
    "$= \\begin{bmatrix} \\Sigma & -\\Sigma \\\\ \\Sigma & \\Sigma \\end{bmatrix}$, те столбцы матрицы $\\begin{bmatrix} I & I \\\\ I & -I \\end{bmatrix}$ являются собственными векторами матрицы $\\begin{bmatrix} 0 & \\Sigma \\\\ \\Sigma & 0 \\end{bmatrix}$ с собственными значениями $\\rho_1, ..., \\rho_n, -\\rho_1, ... , -\\rho_n$ соответственно.\n",
    "\n",
    "Следовательно, $\\begin{bmatrix} 0 & \\Sigma \\\\ \\Sigma & 0 \\end{bmatrix} = \\begin{bmatrix} I & I \\\\ I & -I \\end{bmatrix} \\begin{bmatrix}\n",
    "  \\rho_1 & 0 & \\cdots & 0 \\\\\n",
    "  0 & \\rho_2 & \\cdots & 0 \\\\\n",
    "  \\vdots  & \\vdots  & \\ddots & \\vdots  \\\\\n",
    "  0 & 0 & \\cdots & -\\rho_n \n",
    " \\end{bmatrix} \\begin{bmatrix} I & I \\\\ I & -I \\end{bmatrix}^{-1} = \\begin{bmatrix} I & I \\\\ I & -I \\end{bmatrix} \\begin{bmatrix}\n",
    "  \\rho_1 & 0 & \\cdots & 0 \\\\\n",
    "  0 & \\rho_2 & \\cdots & 0 \\\\\n",
    "  \\vdots  & \\vdots  & \\ddots & \\vdots  \\\\\n",
    "  0 & 0 & \\cdots & -\\rho_n \n",
    " \\end{bmatrix} \\begin{bmatrix} I/2 & I/2 \\\\ I/2 & -I/2 \\end{bmatrix}$\n",
    " \n",
    "Cледовательно, $\\begin{bmatrix} 0 & A^* \\\\ A & 0 \\end{bmatrix} = \\begin{bmatrix} V & 0 \\\\ 0 & U \\end{bmatrix}$\n",
    "$  \\begin{bmatrix} I & I \\\\ I & -I \\end{bmatrix} \\begin{bmatrix}\n",
    "  \\rho_1 & 0 & \\cdots & 0 \\\\\n",
    "  0 & \\rho_2 & \\cdots & 0 \\\\\n",
    "  \\vdots  & \\vdots  & \\ddots & \\vdots  \\\\\n",
    "  0 & 0 & \\cdots & -\\rho_n \n",
    " \\end{bmatrix} \\begin{bmatrix} I/2 & I/2 \\\\ I/2 & -I/2 \\end{bmatrix} \\begin{bmatrix} V^* & 0 \\\\ 0 & U^* \\end{bmatrix} =$ \n",
    " \n",
    "$= \\begin{bmatrix} V & V \\\\ U & -U \\end{bmatrix} \\begin{bmatrix}\n",
    "  \\rho_1 & 0 & \\cdots & 0 \\\\\n",
    "  0 & \\rho_2 & \\cdots & 0 \\\\\n",
    "  \\vdots  & \\vdots  & \\ddots & \\vdots  \\\\\n",
    "  0 & 0 & \\cdots & -\\rho_n \n",
    " \\end{bmatrix} \\begin{bmatrix} \\frac{V^*}{2} & \\frac{U^*}{2} \\\\ \\frac{V^*}{2} & \\frac{-U^*}{2} \\end{bmatrix}$"
   ]
  },
  {
   "cell_type": "markdown",
   "metadata": {},
   "source": [
    "## Задача 2. LU разложение (30 pts)"
   ]
  },
  {
   "cell_type": "markdown",
   "metadata": {},
   "source": [
    "### 1. LU разложение для ленточных матриц (7 pts)\n",
    "\n",
    "Сложность вычисления LU разложения для матрицы размера $n\\times n$ – $\\mathcal{O}(n^3)$.\n",
    "Существенного уменьшения сложности можно добиться для матриц определённой структуры, например разреженных. \n",
    "В этой задаче рассмотрим специальный класс разреженных матриц, а именно ленточные матрицы с шириной ленты 3 и 5, которые называются трёхдиагональными и пятидиагональными, соответственно.\n",
    "\n",
    "- (5 pts) Реализуйте функцию ```band_lu(diag_broadcast, n)```, которая вычисляет LU разложение для пяти- или трёхдиагональной матрицы, на основании данных значений на диагоналях. Предполагается, что на главной диагонали фактора ```L``` стоят 1.\n",
    "Например, входные параметры ```(diag_broadcast = [3,-5,4], n = 4)``` означают, что необходимо найти LU разложение для трёхдиагональной матрицы вида:\n",
    "\n",
    "$$A = \\begin{pmatrix}\n",
    "-5 & 4 & 0 & 0\\\\\n",
    "3 & -5 & 4 & 0 \\\\\n",
    "0 & 3 & -5 & 4 \\\\\n",
    "0 & 0 & 3 & -5 \\\\\n",
    "\\end{pmatrix}.$$\n",
    "\n",
    "Функция должна возвращать двумерные NumPy массивы ```L``` и ```U```, в которых хранятся диагонали факторов. Например, ```L[0]``` содержит первую под-диагональ (поскольку на главной диагонали стоят 1, то её возвращать не нужно), ```L[1]``` – вторую под-диагональ и т.д.), аналогично для $U$ (```U[:,0]``` содержит главную диагональ, ```U[:,1]``` содержит первую над-диагональ и т.д.). Прототип функции приведён ниже и не должен меняться.\n",
    "- (2 pts) Сравните время вычисления LU разложения с помощью стандартной функции в ```scipy```, которая ничего не знает о структуре матрицы, и вашей реализацией LU разложения для ленточной матрицы. Объясните результат. Постройте график зависимости времени факторизации от размерности факторизуемой матрицы. Выберите интервал размерностей факторизуемой матрицы так, чтобы динамика зависимости времени от размерности была различима. При необходимости используйте логарифмический масштаб по оси ```y```."
   ]
  },
  {
   "cell_type": "code",
   "execution_count": 2,
   "metadata": {},
   "outputs": [],
   "source": [
    "import numpy as np\n",
    "from scipy import linalg\n",
    "from scipy.sparse import diags\n",
    "from datetime import datetime\n",
    "import time\n",
    "import matplotlib.pyplot as plt\n",
    "import seaborn as sns\n",
    "sns.set() \n",
    "%matplotlib inline"
   ]
  },
  {
   "cell_type": "code",
   "execution_count": 2,
   "metadata": {},
   "outputs": [],
   "source": [
    "# INPUT : diag_broadcast - list of diagonals value to broadcast, length equal to 3 or 5; n - integer, band matrix shape.\n",
    "# OUTPUT : L - 2D np.ndarray, L.shape[0] depends on bandwidth, L.shape[1] = n-1, do not store main diagonal, where all ones;                  add zeros to the right side of rows to handle with changing length of diagonals.\n",
    "#          U - 2D np.ndarray, U.shape[0] = n, U.shape[1] depends on bandwidth;\n",
    "#              add zeros to the bottom of columns to handle with changing length of diagonals.\n",
    "def band_lu(diag_broadcast, n):\n",
    "    if len(diag_broadcast) == 3:\n",
    "        \n",
    "        l = np.zeros((2, n-1))\n",
    "        u = np.zeros((n, 2))\n",
    "\n",
    "        u[0,0] = diag_broadcast[1]\n",
    "        u[0,1] = diag_broadcast[2]\n",
    "\n",
    "        l[0,0] = 1\n",
    "        l[1,0] = diag_broadcast[0]/u[0,0]\n",
    "\n",
    "        for i in range(1, n-1):\n",
    "\n",
    "            u[i,0] = diag_broadcast[1] - l[1,i-1]*u[i-1,1]\n",
    "            u[i,1] = diag_broadcast[2]\n",
    "\n",
    "            l[0,i] = 1\n",
    "            l[1,i] = diag_broadcast[0]/u[i,0]\n",
    "\n",
    "        u[n-1,0] = diag_broadcast[1] - l[1,n-2]*u[n-2,1]\n",
    "        l = l[1:]\n",
    "        u[n-1,1] = None\n",
    "        return (l, u)\n",
    "    \n",
    "    else:\n",
    "        \n",
    "        l = np.zeros((3, n-1))\n",
    "        u = np.zeros((n, 3))\n",
    "        \n",
    "        u[0,0] = diag_broadcast[2]\n",
    "        u[0,1] = diag_broadcast[3]\n",
    "        u[0,2] = diag_broadcast[4]\n",
    "        \n",
    "        l[0,0] = 1\n",
    "        l[1,0] = diag_broadcast[1]/u[0,0]\n",
    "        l[2,0] = diag_broadcast[0]/u[0,0]\n",
    "        \n",
    "        for i in range(1, n-2):\n",
    "            \n",
    "            if i == 1:\n",
    "                u[i,0] = diag_broadcast[2] - l[1,i-1]*u[i-1,1]\n",
    "            else:\n",
    "                u[i,0] = diag_broadcast[2] - l[1,i-1]*u[i-1,1] - l[2,i-2]*u[i-2,2]\n",
    "                \n",
    "            u[i,1] = diag_broadcast[3] - l[1,i-1]*u[i-1,2]\n",
    "            u[i,2] = diag_broadcast[4]\n",
    "            \n",
    "            l[0,i] = 1\n",
    "            l[1,i] = (diag_broadcast[1] - l[2,i-1]*u[i-1,1])/u[i,0]\n",
    "            l[2,i] = diag_broadcast[0]/u[i,0]\n",
    "            \n",
    "        \n",
    "        u[n-2,0] = diag_broadcast[2] - l[1,n-3]*u[n-3,1] - l[2,n-4]*u[n-4,2]\n",
    "        u[n-2,1] = diag_broadcast[3] - l[1,n-3]*u[n-3,2]\n",
    "        \n",
    "        l[0,n-2] = 1\n",
    "        l[1,n-2] = (diag_broadcast[1] - l[2,n-3]*u[n-3,1])/u[n-2,0]\n",
    "        \n",
    "        u[n-1,0] = diag_broadcast[2] - l[1,n-2]*u[n-2,1] - l[2,n-3]*u[n-3,2]\n",
    "            \n",
    "        l = l[1:] \n",
    "        l[1, n-2] = None\n",
    "        u[n-1,1] = None\n",
    "        u[n-1,2] = None\n",
    "        u[n-2,2] = None\n",
    "        return (l, u)"
   ]
  },
  {
   "cell_type": "markdown",
   "metadata": {},
   "source": [
    "Проверим band_lu на нескольких примерах"
   ]
  },
  {
   "cell_type": "code",
   "execution_count": 3,
   "metadata": {},
   "outputs": [],
   "source": [
    "A = np.array([\n",
    "    [15, 4, 0, 0],\n",
    "    [3, 15, 4, 0],\n",
    "    [0, 3, 15, 4],\n",
    "    [0, 0, 3, 15]\n",
    "])"
   ]
  },
  {
   "cell_type": "code",
   "execution_count": 4,
   "metadata": {},
   "outputs": [],
   "source": [
    "p, l, u = linalg.lu(A)\n",
    "L, U = band_lu(diag_broadcast = [3,15,4], n = 4)"
   ]
  },
  {
   "cell_type": "code",
   "execution_count": 5,
   "metadata": {},
   "outputs": [
    {
     "data": {
      "text/plain": [
       "array([[1., 0., 0., 0.],\n",
       "       [0., 1., 0., 0.],\n",
       "       [0., 0., 1., 0.],\n",
       "       [0., 0., 0., 1.]])"
      ]
     },
     "execution_count": 5,
     "metadata": {},
     "output_type": "execute_result"
    }
   ],
   "source": [
    "p"
   ]
  },
  {
   "cell_type": "code",
   "execution_count": 6,
   "metadata": {},
   "outputs": [
    {
     "data": {
      "text/plain": [
       "array([[1.        , 0.        , 0.        , 0.        ],\n",
       "       [0.2       , 1.        , 0.        , 0.        ],\n",
       "       [0.        , 0.21126761, 1.        , 0.        ],\n",
       "       [0.        , 0.        , 0.2119403 , 1.        ]])"
      ]
     },
     "execution_count": 6,
     "metadata": {},
     "output_type": "execute_result"
    }
   ],
   "source": [
    "l"
   ]
  },
  {
   "cell_type": "code",
   "execution_count": 7,
   "metadata": {},
   "outputs": [
    {
     "data": {
      "text/plain": [
       "array([[0.2       , 0.21126761, 0.2119403 ]])"
      ]
     },
     "execution_count": 7,
     "metadata": {},
     "output_type": "execute_result"
    }
   ],
   "source": [
    "L"
   ]
  },
  {
   "cell_type": "code",
   "execution_count": 8,
   "metadata": {},
   "outputs": [
    {
     "data": {
      "text/plain": [
       "array([[15.        ,  4.        ,  0.        ,  0.        ],\n",
       "       [ 0.        , 14.2       ,  4.        ,  0.        ],\n",
       "       [ 0.        ,  0.        , 14.15492958,  4.        ],\n",
       "       [ 0.        ,  0.        ,  0.        , 14.15223881]])"
      ]
     },
     "execution_count": 8,
     "metadata": {},
     "output_type": "execute_result"
    }
   ],
   "source": [
    "u"
   ]
  },
  {
   "cell_type": "code",
   "execution_count": 9,
   "metadata": {},
   "outputs": [
    {
     "data": {
      "text/plain": [
       "array([[15.        ,  4.        ],\n",
       "       [14.2       ,  4.        ],\n",
       "       [14.15492958,  4.        ],\n",
       "       [14.15223881,         nan]])"
      ]
     },
     "execution_count": 9,
     "metadata": {},
     "output_type": "execute_result"
    }
   ],
   "source": [
    "U"
   ]
  },
  {
   "cell_type": "code",
   "execution_count": 10,
   "metadata": {},
   "outputs": [],
   "source": [
    "A = np.array([\n",
    "    [7, 2, 0, 0, 0],\n",
    "    [1, 7, 2, 0, 0],\n",
    "    [0, 1, 7, 2, 0],\n",
    "    [0, 0, 1, 7, 2],\n",
    "    [0, 0, 0, 1, 7]\n",
    "])"
   ]
  },
  {
   "cell_type": "code",
   "execution_count": 13,
   "metadata": {},
   "outputs": [],
   "source": [
    "p, l, u = linalg.lu(A)\n",
    "L, U = band_lu(diag_broadcast = [1,7,2], n = 5)"
   ]
  },
  {
   "cell_type": "code",
   "execution_count": 14,
   "metadata": {},
   "outputs": [
    {
     "data": {
      "text/plain": [
       "array([[1., 0., 0., 0., 0.],\n",
       "       [0., 1., 0., 0., 0.],\n",
       "       [0., 0., 1., 0., 0.],\n",
       "       [0., 0., 0., 1., 0.],\n",
       "       [0., 0., 0., 0., 1.]])"
      ]
     },
     "execution_count": 14,
     "metadata": {},
     "output_type": "execute_result"
    }
   ],
   "source": [
    "p"
   ]
  },
  {
   "cell_type": "code",
   "execution_count": 15,
   "metadata": {},
   "outputs": [
    {
     "data": {
      "text/plain": [
       "array([[1.        , 0.        , 0.        , 0.        , 0.        ],\n",
       "       [0.14285714, 1.        , 0.        , 0.        , 0.        ],\n",
       "       [0.        , 0.14893617, 1.        , 0.        , 0.        ],\n",
       "       [0.        , 0.        , 0.14920635, 1.        , 0.        ],\n",
       "       [0.        , 0.        , 0.        , 0.14921838, 1.        ]])"
      ]
     },
     "execution_count": 15,
     "metadata": {},
     "output_type": "execute_result"
    }
   ],
   "source": [
    "l"
   ]
  },
  {
   "cell_type": "code",
   "execution_count": 16,
   "metadata": {},
   "outputs": [
    {
     "data": {
      "text/plain": [
       "array([[0.14285714, 0.14893617, 0.14920635, 0.14921838]])"
      ]
     },
     "execution_count": 16,
     "metadata": {},
     "output_type": "execute_result"
    }
   ],
   "source": [
    "L"
   ]
  },
  {
   "cell_type": "code",
   "execution_count": 17,
   "metadata": {},
   "outputs": [
    {
     "data": {
      "text/plain": [
       "array([[7.        , 2.        , 0.        , 0.        , 0.        ],\n",
       "       [0.        , 6.71428571, 2.        , 0.        , 0.        ],\n",
       "       [0.        , 0.        , 6.70212766, 2.        , 0.        ],\n",
       "       [0.        , 0.        , 0.        , 6.7015873 , 2.        ],\n",
       "       [0.        , 0.        , 0.        , 0.        , 6.70156324]])"
      ]
     },
     "execution_count": 17,
     "metadata": {},
     "output_type": "execute_result"
    }
   ],
   "source": [
    "u"
   ]
  },
  {
   "cell_type": "code",
   "execution_count": 18,
   "metadata": {},
   "outputs": [
    {
     "data": {
      "text/plain": [
       "array([[7.        , 2.        ],\n",
       "       [6.71428571, 2.        ],\n",
       "       [6.70212766, 2.        ],\n",
       "       [6.7015873 , 2.        ],\n",
       "       [6.70156324,        nan]])"
      ]
     },
     "execution_count": 18,
     "metadata": {},
     "output_type": "execute_result"
    }
   ],
   "source": [
    "U"
   ]
  },
  {
   "cell_type": "code",
   "execution_count": 42,
   "metadata": {},
   "outputs": [],
   "source": [
    "A = np.array([\n",
    "    [13,1,5,0,0,0],\n",
    "    [3,13,1,5,0,0],\n",
    "    [1,3,13,1,5,0],\n",
    "    [0,1,3,13,1,5],\n",
    "    [0,0,1,3,13,1],\n",
    "    [0,0,0,1,3,13]\n",
    "])"
   ]
  },
  {
   "cell_type": "code",
   "execution_count": 20,
   "metadata": {},
   "outputs": [],
   "source": [
    "p, l, u = linalg.lu(A)\n",
    "L, U = band_lu([1,3,13,1,5], 6)"
   ]
  },
  {
   "cell_type": "code",
   "execution_count": 21,
   "metadata": {},
   "outputs": [
    {
     "data": {
      "text/plain": [
       "array([[1., 0., 0., 0., 0., 0.],\n",
       "       [0., 1., 0., 0., 0., 0.],\n",
       "       [0., 0., 1., 0., 0., 0.],\n",
       "       [0., 0., 0., 1., 0., 0.],\n",
       "       [0., 0., 0., 0., 1., 0.],\n",
       "       [0., 0., 0., 0., 0., 1.]])"
      ]
     },
     "execution_count": 21,
     "metadata": {},
     "output_type": "execute_result"
    }
   ],
   "source": [
    "p"
   ]
  },
  {
   "cell_type": "code",
   "execution_count": 23,
   "metadata": {},
   "outputs": [
    {
     "name": "stdout",
     "output_type": "stream",
     "text": [
      "[[1.         0.         0.         0.         0.         0.        ]\n",
      " [0.23076923 1.         0.         0.         0.         0.        ]\n",
      " [0.07692308 0.22891566 1.         0.         0.         0.        ]\n",
      " [0.         0.07831325 0.23809524 1.         0.         0.        ]\n",
      " [0.         0.         0.07904762 0.23819209 1.         0.        ]\n",
      " [0.         0.         0.         0.07909605 0.23834265 1.        ]]\n"
     ]
    }
   ],
   "source": [
    "print(l)"
   ]
  },
  {
   "cell_type": "code",
   "execution_count": 24,
   "metadata": {},
   "outputs": [
    {
     "data": {
      "text/plain": [
       "array([[0.23076923, 0.22891566, 0.23809524, 0.23819209, 0.23834265],\n",
       "       [0.07692308, 0.07831325, 0.07904762, 0.07909605,        nan]])"
      ]
     },
     "execution_count": 24,
     "metadata": {},
     "output_type": "execute_result"
    }
   ],
   "source": [
    "L"
   ]
  },
  {
   "cell_type": "code",
   "execution_count": 25,
   "metadata": {},
   "outputs": [
    {
     "name": "stdout",
     "output_type": "stream",
     "text": [
      "[[13.          1.          5.          0.          0.          0.        ]\n",
      " [ 0.         12.76923077 -0.15384615  5.          0.          0.        ]\n",
      " [ 0.          0.         12.65060241 -0.14457831  5.          0.        ]\n",
      " [ 0.          0.          0.         12.64285714 -0.19047619  5.        ]\n",
      " [ 0.          0.          0.          0.         12.65013183 -0.19096045]\n",
      " [ 0.          0.          0.          0.          0.         12.65003379]]\n"
     ]
    }
   ],
   "source": [
    "print(u)"
   ]
  },
  {
   "cell_type": "code",
   "execution_count": 26,
   "metadata": {},
   "outputs": [
    {
     "data": {
      "text/plain": [
       "array([[13.        ,  1.        ,  5.        ],\n",
       "       [12.76923077, -0.15384615,  5.        ],\n",
       "       [12.65060241, -0.14457831,  5.        ],\n",
       "       [12.64285714, -0.19047619,  5.        ],\n",
       "       [12.65013183, -0.19096045,         nan],\n",
       "       [12.65003379,         nan,         nan]])"
      ]
     },
     "execution_count": 26,
     "metadata": {},
     "output_type": "execute_result"
    }
   ],
   "source": [
    "U"
   ]
  },
  {
   "cell_type": "markdown",
   "metadata": {},
   "source": [
    "Сравним время вычисления LU разложения для ленточной матрицы для стандартной функции,\n",
    "которая ничего не знает про исходную матрицу и специальной функции band_lu"
   ]
  },
  {
   "cell_type": "code",
   "execution_count": 31,
   "metadata": {},
   "outputs": [],
   "source": [
    "x = []\n",
    "y = []\n",
    "z = []\n",
    "\n",
    "for i in range(200, 4000, 100):\n",
    "    x.append(i)\n",
    "    n = i\n",
    "    k = list([np.ones(n-1),-2*np.ones(n),np.ones(n-1)])\n",
    "    offset = [-1,0,1]\n",
    "    A = diags(k,offset).toarray()\n",
    "    \n",
    "    t_0 = time.time()\n",
    "    l, u = band_lu([1,-2,1], n = 2000)\n",
    "    y.append(time.time() - t_0)\n",
    "    \n",
    "    t_0 = time.time()\n",
    "    p, l, u = linalg.lu(A)\n",
    "    z.append(time.time() - t_0)"
   ]
  },
  {
   "cell_type": "code",
   "execution_count": 33,
   "metadata": {},
   "outputs": [],
   "source": [
    "y = np.array(y)\n",
    "z = np.array(z)"
   ]
  },
  {
   "cell_type": "code",
   "execution_count": 35,
   "metadata": {},
   "outputs": [
    {
     "data": {
      "text/plain": [
       "<AxesSubplot:>"
      ]
     },
     "execution_count": 35,
     "metadata": {},
     "output_type": "execute_result"
    },
    {
     "data": {
      "image/png": "[encoded data removed]",
      "text/plain": [
       "<Figure size 432x288 with 1 Axes>"
      ]
     },
     "metadata": {
      "needs_background": "light"
     },
     "output_type": "display_data"
    }
   ],
   "source": [
    "sns.lineplot(x = x, y = np.log(y), label = \"band lu\")\n",
    "sns.lineplot(x = x, y = np.log(z), label = \"numpy lu\")"
   ]
  },
  {
   "cell_type": "markdown",
   "metadata": {},
   "source": [
    "Как и ожидалось band_lu работает существенно быстрее(где-то начиная с размера матриц \n",
    "1000 * 1000). Данный результат обусловлен тем, что стандартная функция ничего не знает\n",
    "о структуре матрицы и поэтому выполняет $O(n^3)$ операций, в то время как в band_lu\n",
    "существенно используется тот факт, что если отступить от диагонали больше чем на полуширину\n",
    "ленты, то элементы там будут нулевые и следовательно можно не делать много лишних\n",
    "вычислений. Как видно из реализации, требуется всего лишь один цикл и поэтому\n",
    "сложность алгоритма $O(n)$."
   ]
  },
  {
   "cell_type": "markdown",
   "metadata": {},
   "source": [
    "### 2. Устойчивость LU разложения (13 pts)\n",
    "\n",
    "Рассмотрим матрицу вида\n",
    "$A = \\begin{pmatrix}\n",
    "\\varepsilon & 1 & 0\\\\\n",
    "1 & 1 & 1 \\\\\n",
    "0 & 1 & 1\n",
    "\\end{pmatrix}.$ \n",
    "* (7 pts) Реализуйте алгоритм вычисления LU разложения без выбора ведущего элемента и с выбором (выберете один из способов, рассмотренных на лекции). \n",
    "* (3 pts) Покажите, что ваши реализации работают корректно и согласуются с теорией, то есть вычислите выражение $\\| A - PLUQ\\|_F$ для тестовых примеров (один их них приведён выше)\n",
    "* (3 pts) Объясните, почему алгоритм вычисления LU разложения без выбора ведущего элемента плохо аппроксимирует факторы $L$ и $U$ для $|\\varepsilon|\\ll 1$ в приведённой выше матрице в машинной арифметике? Покажите это явным вычислением."
   ]
  },
  {
   "cell_type": "markdown",
   "metadata": {},
   "source": [
    "$\\begin{pmatrix}\n",
    "\\varepsilon & 1 & 0\\\\\n",
    "1 & 1 & 1 \\\\\n",
    "0 & 1 & 1\n",
    "\\end{pmatrix} \\rightarrow \\begin{pmatrix}\n",
    "\\varepsilon & 1 & 0\\\\\n",
    "0 & \\frac{\\epsilon-1}{\\epsilon} & 1 \\\\\n",
    "0 & 1 & 1\n",
    "\\end{pmatrix} \\rightarrow \\begin{pmatrix}\n",
    "\\varepsilon & 1 & 0\\\\\n",
    "0 & \\frac{\\epsilon-1}{\\epsilon} & 1 \\\\\n",
    "0 & 0 & \\frac{-1}{\\epsilon-1}\n",
    "\\end{pmatrix}$, получили матрицу $U$. Записывая соответсвующие преобразования в матрицу $L$, получаем\n",
    "$\\begin{pmatrix}\n",
    "\\varepsilon & 1 & 0\\\\\n",
    "1 & 1 & 1 \\\\\n",
    "0 & 1 & 1\n",
    "\\end{pmatrix} = \\begin{pmatrix}\n",
    "1 & 0 & 0\\\\\n",
    "\\frac{1}{\\varepsilon} & 1 & 0 \\\\\n",
    "0 & \\frac{\\varepsilon}{\\varepsilon-1} & 1\n",
    "\\end{pmatrix} \\begin{pmatrix}\n",
    "\\varepsilon & 1 & 0\\\\\n",
    "0 & \\frac{\\epsilon-1}{\\epsilon} & 1 \\\\\n",
    "0 & 0 & \\frac{-1}{\\epsilon-1}\n",
    "\\end{pmatrix}$\n",
    "\n",
    "Без выбора ведущего элемента в процессе вычисления $LU$ разложения происходит деление на $\\epsilon$ и\n",
    "\n",
    "соответственно в матрице $L$ появляется эелемент, обратный $\\epsilon$. То есть из-за малости $\\epsilon$ в\n",
    "\n",
    "матрице $L$ есть большие по модулю числа $\\Rightarrow$ возникает неустойчивость."
   ]
  },
  {
   "cell_type": "code",
   "execution_count": 140,
   "metadata": {},
   "outputs": [],
   "source": [
    "def lu(a): #обычное lu разложение\n",
    "    a = np.copy(a)\n",
    "    n = a.shape[0]\n",
    "    \n",
    "    l = np.eye(a.shape[0])\n",
    "    u = np.zeros(a.shape)\n",
    "    \n",
    "    \n",
    "    for k in range(n):\n",
    "        u[k,k] = a[k,k]\n",
    "        for i in range(k+1,n):\n",
    "            l[i,k] = a[i,k]/a[k,k]\n",
    "            u[k,i] = a[k,i]\n",
    "            \n",
    "        for i in range(k+1, n):\n",
    "            for j in range(k+1, n):\n",
    "                a[i,j] -= l[i,k]*u[k,j]\n",
    "            \n",
    "    return (l,u)"
   ]
  },
  {
   "cell_type": "code",
   "execution_count": 141,
   "metadata": {},
   "outputs": [],
   "source": [
    "A = np.array([\n",
    "    [13,1,5,0,0,0],\n",
    "    [3,13,1,5,0,0],\n",
    "    [1,3,13,1,5,0],\n",
    "    [0,1,3,13,1,5],\n",
    "    [0,0,1,3,13,1],\n",
    "    [0,0,0,1,3,13]\n",
    "], dtype = \"float\")"
   ]
  },
  {
   "cell_type": "code",
   "execution_count": 142,
   "metadata": {},
   "outputs": [],
   "source": [
    "L, U = lu(A)"
   ]
  },
  {
   "cell_type": "code",
   "execution_count": 143,
   "metadata": {},
   "outputs": [
    {
     "name": "stdout",
     "output_type": "stream",
     "text": [
      "[[1.         0.         0.         0.         0.         0.        ]\n",
      " [0.23076923 1.         0.         0.         0.         0.        ]\n",
      " [0.07692308 0.22891566 1.         0.         0.         0.        ]\n",
      " [0.         0.07831325 0.23809524 1.         0.         0.        ]\n",
      " [0.         0.         0.07904762 0.23819209 1.         0.        ]\n",
      " [0.         0.         0.         0.07909605 0.23834265 1.        ]]\n"
     ]
    }
   ],
   "source": [
    "print(L)"
   ]
  },
  {
   "cell_type": "code",
   "execution_count": 144,
   "metadata": {},
   "outputs": [
    {
     "name": "stdout",
     "output_type": "stream",
     "text": [
      "[[13.          1.          5.          0.          0.          0.        ]\n",
      " [ 0.         12.76923077 -0.15384615  5.          0.          0.        ]\n",
      " [ 0.          0.         12.65060241 -0.14457831  5.          0.        ]\n",
      " [ 0.          0.          0.         12.64285714 -0.19047619  5.        ]\n",
      " [ 0.          0.          0.          0.         12.65013183 -0.19096045]\n",
      " [ 0.          0.          0.          0.          0.         12.65003379]]\n"
     ]
    }
   ],
   "source": [
    "print(U)"
   ]
  },
  {
   "cell_type": "code",
   "execution_count": 146,
   "metadata": {},
   "outputs": [
    {
     "data": {
      "text/plain": [
       "True"
      ]
     },
     "execution_count": 146,
     "metadata": {},
     "output_type": "execute_result"
    }
   ],
   "source": [
    "np.allclose(L@U - A, np.zeros(A.shape[0]))"
   ]
  },
  {
   "cell_type": "code",
   "execution_count": 155,
   "metadata": {},
   "outputs": [],
   "source": [
    "A = np.array([\n",
    "    [10,1,5,0],\n",
    "    [0.02,0,1,0],\n",
    "    [1,-33,133,1],\n",
    "    [0,1,4,10]\n",
    "], dtype = \"float\")"
   ]
  },
  {
   "cell_type": "code",
   "execution_count": 156,
   "metadata": {},
   "outputs": [],
   "source": [
    "L, U = lu(A)"
   ]
  },
  {
   "cell_type": "code",
   "execution_count": 157,
   "metadata": {},
   "outputs": [
    {
     "name": "stdout",
     "output_type": "stream",
     "text": [
      "[[ 1.00000000e+00  0.00000000e+00  0.00000000e+00  0.00000000e+00]\n",
      " [ 2.00000000e-03  1.00000000e+00  0.00000000e+00  0.00000000e+00]\n",
      " [ 1.00000000e-01  1.65500000e+04  1.00000000e+00  0.00000000e+00]\n",
      " [ 0.00000000e+00 -5.00000000e+02 -3.07039134e-02  1.00000000e+00]]\n"
     ]
    }
   ],
   "source": [
    "print(L)"
   ]
  },
  {
   "cell_type": "code",
   "execution_count": 158,
   "metadata": {},
   "outputs": [
    {
     "name": "stdout",
     "output_type": "stream",
     "text": [
      "[[ 1.00000000e+01  1.00000000e+00  5.00000000e+00  0.00000000e+00]\n",
      " [ 0.00000000e+00 -2.00000000e-03  9.90000000e-01  0.00000000e+00]\n",
      " [ 0.00000000e+00  0.00000000e+00 -1.62520000e+04  1.00000000e+00]\n",
      " [ 0.00000000e+00  0.00000000e+00  0.00000000e+00  1.00307039e+01]]\n"
     ]
    }
   ],
   "source": [
    "print(U)"
   ]
  },
  {
   "cell_type": "code",
   "execution_count": 159,
   "metadata": {},
   "outputs": [
    {
     "data": {
      "text/plain": [
       "True"
      ]
     },
     "execution_count": 159,
     "metadata": {},
     "output_type": "execute_result"
    }
   ],
   "source": [
    "np.allclose(L@U - A, np.zeros(A.shape[0]))"
   ]
  },
  {
   "cell_type": "code",
   "execution_count": 172,
   "metadata": {},
   "outputs": [],
   "source": [
    "A = np.array([\n",
    "    [0.000000000000000001, 1, 0],\n",
    "    [1, 1, 1],\n",
    "    [0, 1, 1]\n",
    "])"
   ]
  },
  {
   "cell_type": "code",
   "execution_count": 173,
   "metadata": {},
   "outputs": [],
   "source": [
    "L, U = lu(A)"
   ]
  },
  {
   "cell_type": "code",
   "execution_count": 163,
   "metadata": {},
   "outputs": [
    {
     "data": {
      "text/plain": [
       "array([[ 1.e+00,  0.e+00,  0.e+00],\n",
       "       [ 1.e+10,  1.e+00,  0.e+00],\n",
       "       [ 0.e+00, -1.e-10,  1.e+00]])"
      ]
     },
     "execution_count": 163,
     "metadata": {},
     "output_type": "execute_result"
    }
   ],
   "source": [
    "L"
   ]
  },
  {
   "cell_type": "code",
   "execution_count": 164,
   "metadata": {},
   "outputs": [
    {
     "data": {
      "text/plain": [
       "array([[ 1.e-10,  1.e+00,  0.e+00],\n",
       "       [ 0.e+00, -1.e+10,  1.e+00],\n",
       "       [ 0.e+00,  0.e+00,  1.e+00]])"
      ]
     },
     "execution_count": 164,
     "metadata": {},
     "output_type": "execute_result"
    }
   ],
   "source": [
    "U"
   ]
  },
  {
   "cell_type": "code",
   "execution_count": 174,
   "metadata": {},
   "outputs": [
    {
     "data": {
      "text/plain": [
       "False"
      ]
     },
     "execution_count": 174,
     "metadata": {},
     "output_type": "execute_result"
    }
   ],
   "source": [
    "np.allclose(L@U - A, np.zeros(A.shape[0]))"
   ]
  },
  {
   "cell_type": "markdown",
   "metadata": {},
   "source": [
    "Как видим, что если на диагонали стоит очень маленькое число, то алгоритм плохо вычисляет L и U.\n",
    "Далее реализация с выбором ведущего элемента в столбце"
   ]
  },
  {
   "cell_type": "code",
   "execution_count": 182,
   "metadata": {},
   "outputs": [],
   "source": [
    "def plu(A): # plu разложение с выбором ведущего элемента в столбце\n",
    "    # возращает P, L, U: PLU = A\n",
    "    n = A.shape[0]\n",
    "    a = np.copy(A)\n",
    "    l = np.eye(n)\n",
    "    u = np.zeros(A.shape)\n",
    "    P = np.zeros(A.shape)\n",
    "    \n",
    "    p = np.arange(n)\n",
    "    \n",
    "    for k in range(n):\n",
    "        m = 0\n",
    "        index = -1\n",
    "        for i in range(k, n):\n",
    "            #print(i, k)\n",
    "            if abs(a[i,k] > m):\n",
    "                m = abs(a[i,k])\n",
    "                index = i\n",
    "                \n",
    "        p[index], p[k] = p[k], p[index]\n",
    "        \n",
    "        for i in range(n):\n",
    "            a[index,i], a[k,i] = a[k,i], a[index,i]\n",
    "            \n",
    "        for i in range(k+1, n):\n",
    "            a[i,k] /= a[k,k]\n",
    "            for j in range(k+1, n):\n",
    "                a[i,j] -= a[i,k]*a[k,j]\n",
    "                \n",
    "    for i in range(n):\n",
    "        P[i,p[i]] = 1\n",
    "        for j in range(n):\n",
    "            if i > j:\n",
    "                l[i,j] = a[i,j]\n",
    "            else:\n",
    "                u[i,j] = a[i,j]\n",
    "                \n",
    "                \n",
    "    return (P.T, l, u)"
   ]
  },
  {
   "cell_type": "code",
   "execution_count": 175,
   "metadata": {},
   "outputs": [],
   "source": [
    "A = np.array([\n",
    "    [0.000000000000000001, 1, 0],\n",
    "    [1, 1, 1],\n",
    "    [0, 1, 1]\n",
    "])"
   ]
  },
  {
   "cell_type": "code",
   "execution_count": 176,
   "metadata": {},
   "outputs": [
    {
     "data": {
      "text/plain": [
       "array([[1.e-18, 1.e+00, 0.e+00],\n",
       "       [1.e+00, 1.e+00, 1.e+00],\n",
       "       [0.e+00, 1.e+00, 1.e+00]])"
      ]
     },
     "execution_count": 176,
     "metadata": {},
     "output_type": "execute_result"
    }
   ],
   "source": [
    "A"
   ]
  },
  {
   "cell_type": "code",
   "execution_count": 177,
   "metadata": {},
   "outputs": [],
   "source": [
    "P, L, U = plu(A)"
   ]
  },
  {
   "cell_type": "code",
   "execution_count": 178,
   "metadata": {},
   "outputs": [
    {
     "data": {
      "text/plain": [
       "array([[0., 1., 0.],\n",
       "       [1., 0., 0.],\n",
       "       [0., 0., 1.]])"
      ]
     },
     "execution_count": 178,
     "metadata": {},
     "output_type": "execute_result"
    }
   ],
   "source": [
    "P"
   ]
  },
  {
   "cell_type": "code",
   "execution_count": 179,
   "metadata": {},
   "outputs": [
    {
     "data": {
      "text/plain": [
       "array([[1.e+00, 0.e+00, 0.e+00],\n",
       "       [1.e-18, 1.e+00, 0.e+00],\n",
       "       [0.e+00, 1.e+00, 1.e+00]])"
      ]
     },
     "execution_count": 179,
     "metadata": {},
     "output_type": "execute_result"
    }
   ],
   "source": [
    "L"
   ]
  },
  {
   "cell_type": "code",
   "execution_count": 180,
   "metadata": {},
   "outputs": [
    {
     "data": {
      "text/plain": [
       "array([[ 1.e+00,  1.e+00,  1.e+00],\n",
       "       [ 0.e+00,  1.e+00, -1.e-18],\n",
       "       [ 0.e+00,  0.e+00,  1.e+00]])"
      ]
     },
     "execution_count": 180,
     "metadata": {},
     "output_type": "execute_result"
    }
   ],
   "source": [
    "U"
   ]
  },
  {
   "cell_type": "code",
   "execution_count": 181,
   "metadata": {},
   "outputs": [
    {
     "data": {
      "text/plain": [
       "True"
      ]
     },
     "execution_count": 181,
     "metadata": {},
     "output_type": "execute_result"
    }
   ],
   "source": [
    "np.allclose(P@L@U - A, np.zeros(A.shape[0]))"
   ]
  },
  {
   "cell_type": "code",
   "execution_count": 82,
   "metadata": {},
   "outputs": [],
   "source": [
    "A = np.array([\n",
    "    [13,1,5,0,0,0],\n",
    "    [3,13,1,5,0,0],\n",
    "    [1,3,13,1,5,0],\n",
    "    [0,1,3,13,1,5],\n",
    "    [0,0,1,3,13,1],\n",
    "    [0,0,0,1,3,13]\n",
    "], dtype = \"float64\")"
   ]
  },
  {
   "cell_type": "code",
   "execution_count": 83,
   "metadata": {},
   "outputs": [],
   "source": [
    "P, L, U = plu(A)"
   ]
  },
  {
   "cell_type": "code",
   "execution_count": 84,
   "metadata": {},
   "outputs": [
    {
     "data": {
      "text/plain": [
       "array([[1., 0., 0., 0., 0., 0.],\n",
       "       [0., 1., 0., 0., 0., 0.],\n",
       "       [0., 0., 1., 0., 0., 0.],\n",
       "       [0., 0., 0., 1., 0., 0.],\n",
       "       [0., 0., 0., 0., 1., 0.],\n",
       "       [0., 0., 0., 0., 0., 1.]])"
      ]
     },
     "execution_count": 84,
     "metadata": {},
     "output_type": "execute_result"
    }
   ],
   "source": [
    "P"
   ]
  },
  {
   "cell_type": "code",
   "execution_count": 87,
   "metadata": {},
   "outputs": [
    {
     "name": "stdout",
     "output_type": "stream",
     "text": [
      "[[1.         0.         0.         0.         0.         0.        ]\n",
      " [0.23076923 1.         0.         0.         0.         0.        ]\n",
      " [0.07692308 0.22891566 1.         0.         0.         0.        ]\n",
      " [0.         0.07831325 0.23809524 1.         0.         0.        ]\n",
      " [0.         0.         0.07904762 0.23819209 1.         0.        ]\n",
      " [0.         0.         0.         0.07909605 0.23834265 1.        ]]\n"
     ]
    }
   ],
   "source": [
    "print(L)"
   ]
  },
  {
   "cell_type": "code",
   "execution_count": 88,
   "metadata": {},
   "outputs": [
    {
     "name": "stdout",
     "output_type": "stream",
     "text": [
      "[[13.          1.          5.          0.          0.          0.        ]\n",
      " [ 0.         12.76923077 -0.15384615  5.          0.          0.        ]\n",
      " [ 0.          0.         12.65060241 -0.14457831  5.          0.        ]\n",
      " [ 0.          0.          0.         12.64285714 -0.19047619  5.        ]\n",
      " [ 0.          0.          0.          0.         12.65013183 -0.19096045]\n",
      " [ 0.          0.          0.          0.          0.         12.65003379]]\n"
     ]
    }
   ],
   "source": [
    "print(U)"
   ]
  },
  {
   "cell_type": "code",
   "execution_count": 90,
   "metadata": {},
   "outputs": [
    {
     "data": {
      "text/plain": [
       "True"
      ]
     },
     "execution_count": 90,
     "metadata": {},
     "output_type": "execute_result"
    }
   ],
   "source": [
    "np.allclose(P@L@U - A, np.zeros(A.shape[0]))"
   ]
  },
  {
   "cell_type": "code",
   "execution_count": 91,
   "metadata": {},
   "outputs": [],
   "source": [
    "A = np.array([\n",
    "    [0,1,5,0,0,0],\n",
    "    [0.02,0,1,0,0,0],\n",
    "    [1,-33,133,1,53,0],\n",
    "    [0,1,4,10,1,5],\n",
    "    [33,1332,1,34,13,1],\n",
    "    [0,4,2,1,3,13]\n",
    "], dtype = \"float\")"
   ]
  },
  {
   "cell_type": "code",
   "execution_count": 92,
   "metadata": {},
   "outputs": [],
   "source": [
    "P, L, U = plu(A)"
   ]
  },
  {
   "cell_type": "code",
   "execution_count": 101,
   "metadata": {},
   "outputs": [
    {
     "data": {
      "text/plain": [
       "True"
      ]
     },
     "execution_count": 101,
     "metadata": {},
     "output_type": "execute_result"
    }
   ],
   "source": [
    "np.allclose(P@L@U - A, np.zeros(A.shape[0]))"
   ]
  },
  {
   "cell_type": "markdown",
   "metadata": {},
   "source": [
    "### 3. Блочное LU разложение (10 pts)\n",
    "\n",
    "Пусть $A = \\begin{bmatrix} A_{11} & A_{12} \\\\ A_{21} & A_{22} \\end{bmatrix}$ – блочная матрица. Необходимо решить систему линейных уравнений вида\n",
    "\n",
    "$$\n",
    "     \\begin{bmatrix} A_{11} & A_{12} \\\\ A_{21} & A_{22} \\end{bmatrix} \\begin{bmatrix} u_1 \\\\ u_2 \\end{bmatrix} = \\begin{bmatrix} f_1 \\\\ f_2 \\end{bmatrix}.\n",
    "$$\n",
    "\n",
    "* (2 pts) Используя процедуру блочного исключения, найдите матрицу $S$ и правую часть $\\hat{f_2}$ такую что $u_2$ может быть найден из системы $S u_2 = \\hat{f_2}$. Матрица $S$ называется <font color='red'> дополнением по Шуру </font> блока  $A_{11}$.\n",
    "* (4 pts) Используя свойства дополнения по Шуру докажите, что\n",
    "\n",
    "$$\\det(X+AB) = \\det(X)\\det(I+BX^{-1}A), $$\n",
    "\n",
    "\n",
    "где $X$ невырожденная квадратная матрица.\n",
    "* (4 pts) Пусть матрица $F \\in \\mathbb{R}^{m \\times n}$ и $G \\in \\mathbb{R}^{n \\times m}$. Докажите, что \n",
    "\n",
    "$$\\det(I_m - FG) = \\det(I_n - GF).$$"
   ]
  },
  {
   "cell_type": "markdown",
   "metadata": {},
   "source": [
    "$$\n",
    "     \\begin{bmatrix} A_{11} & A_{12} \\\\ A_{21} & A_{22} \\end{bmatrix} \\begin{bmatrix} u_1 \\\\ u_2 \\end{bmatrix} = \\begin{bmatrix} f_1 \\\\ f_2 \\end{bmatrix}.\n",
    "$$\n",
    "\n",
    "$A_{11}u_1 + A_{12}u_2 = f_1$\n",
    "\n",
    "$A_{21}u_1 + A_{22}u_2 = f_2$\n",
    "\n",
    "Выражая $u_1$ из первой системы, получаем $u_1 = A_{11}^{-1}(f_1-A_{12}u_{2})$. Подставим $u_1$ во вторую систему.\n",
    "\n",
    "$A_{21}A_{11}^{-1}(f_1-A_{12}u_{2}) + A_{22}u_2 = f_2 \\Rightarrow (A_{22} - A_{21}A_{11}^{-1}A_{12})u_2 = f_2 -$\n",
    "$A_{21}A_{11}^{-1}f_1 \\Rightarrow S = A_{22} - A_{21}A_{11}^{-1}A_{12}, \\hat{f_2} = f_2 - A_{21}A_{11}^{-1}f_1$"
   ]
  },
  {
   "cell_type": "markdown",
   "metadata": {},
   "source": [
    "$\\det(X+AB) = \\det(X)\\det(I+BX^{-1}A),$ $X$ невырожденная квадратная матрица\n",
    "\n",
    "Рассмотрим матрицу $C = \\begin{bmatrix} X & -A \\\\ B & I \\end{bmatrix} = \\begin{bmatrix} I & X^{-1}A \\\\ 0 & I \\end{bmatrix} \\begin{bmatrix} X & 0 \\\\ B & I+BX^{-1}A \\end{bmatrix}$\n",
    "\n",
    "$\\Rightarrow det(C) = det(X+BX^{-1}A)$\n",
    "\n",
    "С другой стороны, $\\begin{bmatrix} X & -A \\\\ B & I \\end{bmatrix} \\begin{bmatrix} I & 0 \\\\ -B & I \\end{bmatrix} \\begin{bmatrix} X + AB & -A \\\\ 0 & I \\end{bmatrix} \\Rightarrow det(C) = det(X+AB)$\n",
    "\n",
    "Следовательно, $\\det(X+AB) = \\det(X)\\det(I+BX^{-1}A)$"
   ]
  },
  {
   "cell_type": "markdown",
   "metadata": {},
   "source": [
    "Воспользуемся результатом предыдущего номера и возьмем $X = I_m, A = -F, B = G$, тогда получаем\n",
    "\n",
    "$\\det(I_m - FG) = \\det(I_n - GI_m^{-1}F) = \\det(I_n - GF)$."
   ]
  },
  {
   "cell_type": "markdown",
   "metadata": {},
   "source": [
    "## Задача 3:  QR разложение (27 pts)\n",
    "\n",
    "- (5 pts) Реализуйте метод Грама-Шмидта для вычисления QR разложения. На вход подаётся прямоугольная матрица, функция возвращает матрицы ```Q``` и ```R``` из QR разложения. Прототип приведён ниже и не должен изменяться "
   ]
  },
  {
   "cell_type": "code",
   "execution_count": 271,
   "metadata": {},
   "outputs": [],
   "source": [
    "# INPUT : rectangular matrix A\n",
    "# OUTPUT: matrices Q - orthogonal and R - upper triangular such that A = QR\n",
    "def gram_schmidt_qr(A):\n",
    "    n = A.shape[1]\n",
    "    def proj(x, y):\n",
    "        if np.dot(x, x) == 0:\n",
    "            return 0 * x\n",
    "        alpha = np.dot(x, y)/np.dot(x,x)\n",
    "        return alpha * x\n",
    "    \n",
    "    Q = np.zeros(A.shape)\n",
    "    Q[:,0] = np.copy(A[:,0])\n",
    "    \n",
    "    for i in range(1, n):\n",
    "        Q[:,i] = A[:,i]\n",
    "        for j in range(i):\n",
    "            Q[:,i] -= proj(Q[:,j], A[:, i])\n",
    "            \n",
    "    \n",
    "    for i in range(n):\n",
    "        if np.linalg.norm(Q[:,i]) == 0:\n",
    "            continue\n",
    "        Q[:,i] = Q[:,i]/np.linalg.norm(Q[:,i]) \n",
    "        \n",
    "    R = Q.T @ A\n",
    "    \n",
    "    return Q, R"
   ]
  },
  {
   "cell_type": "code",
   "execution_count": 251,
   "metadata": {},
   "outputs": [
    {
     "name": "stdout",
     "output_type": "stream",
     "text": [
      "True\n",
      "True\n"
     ]
    }
   ],
   "source": [
    "A = np.array([\n",
    "    [1,2,3,7],\n",
    "    [3,6,8,0],\n",
    "    [4,7,8,0],\n",
    "    [0,0,1,0]\n",
    "], dtype = \"float\")\n",
    "\n",
    "Q, R = gram_schmidt_qr(A)\n",
    "print(np.allclose(Q@Q.T, np.eye(4)))\n",
    "print(np.allclose(Q@R, A))"
   ]
  },
  {
   "cell_type": "code",
   "execution_count": 252,
   "metadata": {},
   "outputs": [
    {
     "name": "stdout",
     "output_type": "stream",
     "text": [
      "False\n",
      "True\n"
     ]
    }
   ],
   "source": [
    "A = np.array([\n",
    "    [16,2,3],\n",
    "    [3,6,8],\n",
    "    [4,7,8],\n",
    "    [90,0,1]\n",
    "], dtype = \"float\")\n",
    "\n",
    "Q, R = gram_schmidt_qr(A)\n",
    "print(np.allclose(Q@Q.T, np.eye(4)))\n",
    "print(np.allclose(Q@R, A))"
   ]
  },
  {
   "cell_type": "code",
   "execution_count": 253,
   "metadata": {},
   "outputs": [
    {
     "name": "stdout",
     "output_type": "stream",
     "text": [
      "False\n",
      "True\n"
     ]
    }
   ],
   "source": [
    "A = np.array([\n",
    "    [1,2,3],\n",
    "    [0,6,0],\n",
    "    [0,0,8],\n",
    "    [0,0,1]\n",
    "], dtype = \"float\")\n",
    "\n",
    "Q, R = gram_schmidt_qr(A)\n",
    "print(np.allclose(Q@Q.T, np.eye(4)))\n",
    "print(np.allclose(Q@R, A))"
   ]
  },
  {
   "cell_type": "markdown",
   "metadata": {},
   "source": [
    "- (5 pts) Реализуйте модифицированный метод Грама-Шмидта для вычисления QR разложения. На вход подаётся прямоугольная матрица, функция возвращает матрицы Q и R из QR разложения. Прототип приведён ниже и не должен изменяться"
   ]
  },
  {
   "cell_type": "code",
   "execution_count": 270,
   "metadata": {},
   "outputs": [],
   "source": [
    "# INPUT : rectangular matrix A\n",
    "# OUTPUT: matrices Q - orthogonal and R - upper triangular such that A = QR\n",
    "def modified_gram_schmidt_qr(A): # 5 pts\n",
    "    n = A.shape[1]\n",
    "    def proj(x, y):\n",
    "        if np.dot(x, x) == 0:\n",
    "            return 0 * x\n",
    "        alpha = np.dot(x, y)/np.dot(x,x)\n",
    "        return alpha * x\n",
    "    \n",
    "    Q = np.zeros(A.shape)\n",
    "    Q[:,0] = A[:,0]\n",
    "    \n",
    "    for i in range(1, n):\n",
    "        Q[:,i] = A[:,i]\n",
    "        for j in range(i):\n",
    "            Q[:,i] -= proj(Q[:,j], Q[:, i])\n",
    "            \n",
    "    \n",
    "    for i in range(n):\n",
    "        if np.linalg.norm(Q[:,i]) == 0:\n",
    "            continue\n",
    "        Q[:,i] = Q[:,i]/np.linalg.norm(Q[:,i]) \n",
    "        \n",
    "    R = Q.T @ A\n",
    "    \n",
    "    return Q, R\n",
    "    "
   ]
  },
  {
   "cell_type": "code",
   "execution_count": 254,
   "metadata": {},
   "outputs": [
    {
     "name": "stdout",
     "output_type": "stream",
     "text": [
      "True\n",
      "True\n"
     ]
    }
   ],
   "source": [
    "A = np.array([\n",
    "    [1,2,3,7],\n",
    "    [3,6,8,0],\n",
    "    [4,7,8,0],\n",
    "    [0,0,1,0]\n",
    "], dtype = \"float\")\n",
    "\n",
    "Q, R = modified_gram_schmidt_qr(A)\n",
    "print(np.allclose(Q@Q.T, np.eye(4)))\n",
    "print(np.allclose(Q@R, A))"
   ]
  },
  {
   "cell_type": "code",
   "execution_count": 231,
   "metadata": {},
   "outputs": [
    {
     "name": "stdout",
     "output_type": "stream",
     "text": [
      "[[ 5.09901951e+00  9.41357449e+00  1.15708520e+01  1.37281295e+00]\n",
      " [-1.77635684e-15  6.20173673e-01  1.73648628e+00  1.73648628e+00]\n",
      " [ 5.60782563e-15  1.03688064e-14  1.04880885e+00  2.00227144e+00]\n",
      " [-1.24070923e-15 -2.14348558e-15 -2.49800181e-15  6.33173824e+00]]\n"
     ]
    }
   ],
   "source": [
    "print(R)"
   ]
  },
  {
   "cell_type": "code",
   "execution_count": 255,
   "metadata": {},
   "outputs": [
    {
     "name": "stdout",
     "output_type": "stream",
     "text": [
      "False\n",
      "True\n"
     ]
    }
   ],
   "source": [
    "A = np.array([\n",
    "    [1,2,1],\n",
    "    [0,6,8],\n",
    "    [3,7,0],\n",
    "    [9,1,1]\n",
    "], dtype = \"float\")\n",
    "\n",
    "Q, R = modified_gram_schmidt_qr(A)\n",
    "print(np.allclose(Q@Q.T, np.eye(4)))\n",
    "print(np.allclose(Q@R, A))"
   ]
  },
  {
   "cell_type": "code",
   "execution_count": 228,
   "metadata": {},
   "outputs": [
    {
     "data": {
      "text/plain": [
       "array([[ 9.53939201e+00,  3.35451148e+00,  1.04828484e+00],\n",
       "       [-4.44089210e-16,  8.87396488e+00,  5.35087947e+00],\n",
       "       [ 4.44089210e-16,  8.60422844e-16,  6.02239054e+00]])"
      ]
     },
     "execution_count": 228,
     "metadata": {},
     "output_type": "execute_result"
    }
   ],
   "source": [
    "R"
   ]
  },
  {
   "cell_type": "markdown",
   "metadata": {},
   "source": [
    "- (7 pts) Реализуйте алгоритм вычисления QR разложения, основанный на преобразованиях Хаусхолдера. На вход подаётся прямоугольная матрица, функция возвращает матрицы Q и R из QR разложения. Прототип приведён ниже и не должен изменяться. Обратите внимание на эффективность реализации операции умножения матриц Хаусхолдера для получения матрицы ```Q```."
   ]
  },
  {
   "cell_type": "code",
   "execution_count": 269,
   "metadata": {},
   "outputs": [],
   "source": [
    "# INPUT : rectangular matrix A\n",
    "# OUTPUT: matrices Q - orthogonal and R - upper triangular such that A=QR\n",
    "def householder_qr(A): # 7 pts\n",
    "    def householder(a):\n",
    "        v = np.copy(a)\n",
    "        if np.all(a[1:] == 0):\n",
    "            v[0] = 0\n",
    "            return v\n",
    "        v[0] += np.linalg.norm(a) * np.sign(a[0])\n",
    "        v = v / np.linalg.norm(v)\n",
    "        return v[None, :]\n",
    "    \n",
    "    m, n = A.shape\n",
    "    R = np.copy(A)\n",
    "    \n",
    "    Q = np.eye(m)\n",
    "    for i in range(min(n, m)):\n",
    "        w = householder(R[i:, i])\n",
    "        if np.linalg.norm(w) == 0:\n",
    "            continue\n",
    "        R[i:, :] = R[i:, :] - 2 * w.T @ (w @ R[i:, :])\n",
    "        Q[:, i:] = Q[:, i:] - 2 * (Q[:, i:] @ w.T) @ w\n",
    "    \n",
    "    return Q, R"
   ]
  },
  {
   "cell_type": "code",
   "execution_count": 166,
   "metadata": {},
   "outputs": [
    {
     "name": "stdout",
     "output_type": "stream",
     "text": [
      "True\n",
      "True\n"
     ]
    }
   ],
   "source": [
    "A = np.array([\n",
    "    [1,2,3,7],\n",
    "    [3,6,8,0],\n",
    "    [4,7,8,0],\n",
    "    [0,0,1,0]\n",
    "], dtype = \"float\")\n",
    "\n",
    "Q, R = householder_qr(A)\n",
    "print(np.allclose(Q@Q.T, np.eye(4)))\n",
    "print(np.allclose(Q@R, A))"
   ]
  },
  {
   "cell_type": "code",
   "execution_count": 274,
   "metadata": {},
   "outputs": [],
   "source": [
    "A = np.array([\n",
    "    [1,1,1],\n",
    "    [3,3,3],\n",
    "    [8,8,10]\n",
    "], dtype = \"float\")"
   ]
  },
  {
   "cell_type": "code",
   "execution_count": 275,
   "metadata": {},
   "outputs": [],
   "source": [
    "Q, R = householder_qr(A)"
   ]
  },
  {
   "cell_type": "code",
   "execution_count": 276,
   "metadata": {},
   "outputs": [
    {
     "data": {
      "text/plain": [
       "array([[-0.11624764, -0.34874292, -0.92998111],\n",
       "       [-0.34874292,  0.89104423, -0.29054872],\n",
       "       [-0.92998111, -0.29054872,  0.22520341]])"
      ]
     },
     "execution_count": 276,
     "metadata": {},
     "output_type": "execute_result"
    }
   ],
   "source": [
    "Q"
   ]
  },
  {
   "cell_type": "code",
   "execution_count": 169,
   "metadata": {},
   "outputs": [
    {
     "data": {
      "text/plain": [
       "array([[ -8.60232527,  -8.60232527, -10.46228749],\n",
       "       [  0.        ,   0.        ,  -0.58109744],\n",
       "       [  0.        ,   0.        ,   0.45040682]])"
      ]
     },
     "execution_count": 169,
     "metadata": {},
     "output_type": "execute_result"
    }
   ],
   "source": [
    "R"
   ]
  },
  {
   "cell_type": "code",
   "execution_count": 170,
   "metadata": {},
   "outputs": [
    {
     "data": {
      "text/plain": [
       "array([[ 1.00000000e+00,  0.00000000e+00,  0.00000000e+00],\n",
       "       [ 0.00000000e+00,  1.00000000e+00, -2.77555756e-17],\n",
       "       [ 0.00000000e+00, -2.77555756e-17,  1.00000000e+00]])"
      ]
     },
     "execution_count": 170,
     "metadata": {},
     "output_type": "execute_result"
    }
   ],
   "source": [
    "Q @ Q.T"
   ]
  },
  {
   "cell_type": "code",
   "execution_count": 171,
   "metadata": {},
   "outputs": [
    {
     "data": {
      "text/plain": [
       "True"
      ]
     },
     "execution_count": 171,
     "metadata": {},
     "output_type": "execute_result"
    }
   ],
   "source": [
    "np.allclose(Q @ R, A)"
   ]
  },
  {
   "cell_type": "code",
   "execution_count": 187,
   "metadata": {},
   "outputs": [],
   "source": [
    "A = np.array([\n",
    "    [1,2,3,7,1],\n",
    "    [3,6,8,0,2],\n",
    "    [4,7,8,0,3],\n",
    "], dtype = \"float\")"
   ]
  },
  {
   "cell_type": "code",
   "execution_count": 189,
   "metadata": {},
   "outputs": [],
   "source": [
    "Q, R = householder_qr(A)"
   ]
  },
  {
   "cell_type": "code",
   "execution_count": 174,
   "metadata": {},
   "outputs": [
    {
     "data": {
      "text/plain": [
       "True"
      ]
     },
     "execution_count": 174,
     "metadata": {},
     "output_type": "execute_result"
    }
   ],
   "source": [
    "np.allclose(Q @ Q.T, np.eye(3))"
   ]
  },
  {
   "cell_type": "code",
   "execution_count": 175,
   "metadata": {},
   "outputs": [
    {
     "data": {
      "text/plain": [
       "True"
      ]
     },
     "execution_count": 175,
     "metadata": {},
     "output_type": "execute_result"
    }
   ],
   "source": [
    "np.allclose(Q @ R, A)"
   ]
  },
  {
   "cell_type": "code",
   "execution_count": 183,
   "metadata": {},
   "outputs": [],
   "source": [
    "A = np.array([\n",
    "    [1,2,3,7],\n",
    "    [3,6,8,0],\n",
    "    [4,7,8,0],\n",
    "    [0,0,1,0],\n",
    "    [1,4,8,9]\n",
    "], dtype = \"float\")"
   ]
  },
  {
   "cell_type": "code",
   "execution_count": 184,
   "metadata": {},
   "outputs": [],
   "source": [
    "Q, R = householder_qr(A)"
   ]
  },
  {
   "cell_type": "code",
   "execution_count": 185,
   "metadata": {},
   "outputs": [
    {
     "data": {
      "text/plain": [
       "True"
      ]
     },
     "execution_count": 185,
     "metadata": {},
     "output_type": "execute_result"
    }
   ],
   "source": [
    "np.allclose(Q @ Q.T, np.eye(5))"
   ]
  },
  {
   "cell_type": "code",
   "execution_count": 186,
   "metadata": {},
   "outputs": [
    {
     "name": "stdout",
     "output_type": "stream",
     "text": [
      "[[-5.19615242e+00 -1.00074047e+01 -1.28941560e+01 -3.07920144e+00]\n",
      " [ 0.00000000e+00 -2.20269196e+00 -5.88505484e+00 -8.70988117e+00]\n",
      " [ 0.00000000e+00  0.00000000e+00  1.05207900e+00  1.93727651e+00]\n",
      " [ 0.00000000e+00  0.00000000e+00  0.00000000e+00  6.39558037e+00]\n",
      " [ 0.00000000e+00  0.00000000e+00  0.00000000e+00 -4.44089210e-16]]\n"
     ]
    }
   ],
   "source": [
    "np.allclose(Q @ R, A)\n",
    "print(R)"
   ]
  },
  {
   "cell_type": "code",
   "execution_count": 258,
   "metadata": {},
   "outputs": [
    {
     "name": "stdout",
     "output_type": "stream",
     "text": [
      "True\n",
      "True\n"
     ]
    },
    {
     "data": {
      "text/plain": [
       "array([[-3.31662479e+00, -1.83921920e+01, -1.08544084e+01],\n",
       "       [ 0.00000000e+00,  5.29407903e+01,  3.12493189e+01],\n",
       "       [ 0.00000000e+00,  0.00000000e+00, -8.22568464e+00],\n",
       "       [ 0.00000000e+00,  0.00000000e+00,  2.22044605e-16]])"
      ]
     },
     "execution_count": 258,
     "metadata": {},
     "output_type": "execute_result"
    }
   ],
   "source": [
    "A = np.array([\n",
    "    [1,2,3],\n",
    "    [3,1,0],\n",
    "    [0,0,8],\n",
    "    [1,56,33]\n",
    "], dtype = \"float\")\n",
    "\n",
    "Q, R = householder_qr(A)\n",
    "print(np.allclose(Q@Q.T, np.eye(4)))\n",
    "print(np.allclose(Q@R, A))\n",
    "R\n"
   ]
  },
  {
   "cell_type": "markdown",
   "metadata": {},
   "source": [
    "- (2 pts) Сгенерируйте квадратную [матрицу Вандермонда](https://en.wikipedia.org/wiki/Vandermonde_matrix) $V\\in\\mathbb{R}^{n\\times n},\\ n = 20$ для вектора $x$: ```x = np.linspace(0,1,n)``` и вычислите QR разложение этой матрицы с помощью каждого из трёх реализованных вами алгоритмов. Вычислите насколько столбцы матрицы $Q$ ортогональны, то есть величину $\\|Q^{\\top}Q - I\\|_2$. Объясните полученный результат.\n",
    "\n",
    "- (3 pts) Изучите как скорость работы каждого из алгоритмов вычисления QR разложения зависит от числа строк и столбцов матрицы, для которой вычисляется QR разложение. Постройте два графика: на одном покажите зависимость времени вычисления от числа строк при фиксированном числе столбцов, а на другом, наоборот, зависимость времени вычисления от числа столбцов при неизменном числе строк. Выберите диапазоны изменения количества строк и столбцов такими, чтобы можно было увидеть асимптотическую скорость работы для больших матриц. \n",
    "\n",
    "- (5 pts) Пусть дано QR разложение матрицы $A$ размера $m \\times n, \\; m > n$. К матрице $A$ добавили ещё одну строку после последней, то есть теперь есть матрица $\\hat{A} = \\begin{bmatrix} A \\\\ a \\end{bmatrix}$ размера $(m+1) \\times n$. Покажите, как найти QR разложение матрицы $\\hat{A}$, используя QR разложения матрицы $A$. Сравните асимптотические сложности предложенного вами способа и метода, который не использует QR разложение матрицы $A$. Также экспериментально покажите, как время работы этих двух методов зависит от размерности по числу строк и столбцов матрицы."
   ]
  },
  {
   "cell_type": "code",
   "execution_count": 238,
   "metadata": {},
   "outputs": [],
   "source": [
    "n = 30\n",
    "x = np.linspace(0, 1, n)\n",
    "A = np.vander(x)"
   ]
  },
  {
   "cell_type": "code",
   "execution_count": 239,
   "metadata": {},
   "outputs": [
    {
     "name": "stdout",
     "output_type": "stream",
     "text": [
      "23.91370821752182\n"
     ]
    }
   ],
   "source": [
    "Q, R = gram_schmidt_qr(A)\n",
    "print(np.linalg.norm(Q.T @ Q - np.eye(Q.shape[1]), 2))"
   ]
  },
  {
   "cell_type": "code",
   "execution_count": 240,
   "metadata": {},
   "outputs": [
    {
     "name": "stdout",
     "output_type": "stream",
     "text": [
      "1.0000000036645889\n"
     ]
    }
   ],
   "source": [
    "Q, R = modified_gram_schmidt_qr(A)\n",
    "print(np.linalg.norm(Q.T @ Q - np.eye(Q.shape[1]), 2))"
   ]
  },
  {
   "cell_type": "code",
   "execution_count": 241,
   "metadata": {},
   "outputs": [
    {
     "name": "stdout",
     "output_type": "stream",
     "text": [
      "1.4654056992365498e-15\n"
     ]
    }
   ],
   "source": [
    "Q, R = householder_qr(A)\n",
    "print(np.linalg.norm(Q.T @ Q - np.eye(Q.shape[1]), 2))"
   ]
  },
  {
   "cell_type": "code",
   "execution_count": 261,
   "metadata": {},
   "outputs": [],
   "source": [
    "A = np.random.rand(10000, 10000)"
   ]
  },
  {
   "cell_type": "code",
   "execution_count": 262,
   "metadata": {},
   "outputs": [
    {
     "name": "stdout",
     "output_type": "stream",
     "text": [
      "1000\n",
      "2000\n",
      "3000\n",
      "4000\n",
      "5000\n",
      "6000\n",
      "7000\n",
      "8000\n",
      "9000\n"
     ]
    }
   ],
   "source": [
    "x = []\n",
    "y = []\n",
    "z = []\n",
    "t = []\n",
    "\n",
    "for i in range(1000, 10000 , 1000):\n",
    "    print(i)\n",
    "    x.append(i)\n",
    "    \n",
    "    t_0 = time.time()\n",
    "    q, r = gram_schmidt_qr(A[:i, :10])\n",
    "    y.append(time.time() - t_0)\n",
    "    \n",
    "    t_0 = time.time()\n",
    "    q, r = modified_gram_schmidt_qr(A[:i, :10])\n",
    "    z.append(time.time() - t_0)\n",
    "    \n",
    "    t_0 = time.time()\n",
    "    q, r = householder_qr(A[:i, :10])\n",
    "    t.append(time.time() - t_0)\n",
    "    \n"
   ]
  },
  {
   "cell_type": "code",
   "execution_count": 263,
   "metadata": {},
   "outputs": [
    {
     "data": {
      "text/plain": [
       "<AxesSubplot:>"
      ]
     },
     "execution_count": 263,
     "metadata": {},
     "output_type": "execute_result"
    },
    {
     "data": {
      "image/png": "[encoded data removed]",
      "text/plain": [
       "<Figure size 432x288 with 1 Axes>"
      ]
     },
     "metadata": {
      "needs_background": "light"
     },
     "output_type": "display_data"
    }
   ],
   "source": [
    "sns.lineplot(x = x, y = np.log(y), label = \"gram schmidt\")\n",
    "sns.lineplot(x = x, y = np.log(z), label = \"modified_gram_schmidt\")\n",
    "sns.lineplot(x = x, y = np.log(t), label = \"householder\")"
   ]
  },
  {
   "cell_type": "code",
   "execution_count": 272,
   "metadata": {},
   "outputs": [
    {
     "name": "stdout",
     "output_type": "stream",
     "text": [
      "100\n",
      "600\n",
      "1100\n",
      "1600\n",
      "2100\n",
      "2600\n"
     ]
    }
   ],
   "source": [
    "x = []\n",
    "y = []\n",
    "z = []\n",
    "t = []\n",
    "\n",
    "for i in range(100, 3000 , 500):\n",
    "    print(i)\n",
    "    x.append(i)\n",
    "    \n",
    "    t_0 = time.time()\n",
    "    q, r = gram_schmidt_qr(A[:10, :i])\n",
    "    y.append(time.time() - t_0)\n",
    "    \n",
    "    t_0 = time.time()\n",
    "    q, r = modified_gram_schmidt_qr(A[:10, :i])\n",
    "    z.append(time.time() - t_0)\n",
    "    \n",
    "    t_0 = time.time()\n",
    "    q, r = householder_qr(A[:10, :i])\n",
    "    t.append(time.time() - t_0)\n",
    "    \n",
    "\n"
   ]
  },
  {
   "cell_type": "code",
   "execution_count": 273,
   "metadata": {},
   "outputs": [
    {
     "data": {
      "text/plain": [
       "<AxesSubplot:>"
      ]
     },
     "execution_count": 273,
     "metadata": {},
     "output_type": "execute_result"
    },
    {
     "data": {
      "image/png": "[encoded data removed]",
      "text/plain": [
       "<Figure size 432x288 with 1 Axes>"
      ]
     },
     "metadata": {
      "needs_background": "light"
     },
     "output_type": "display_data"
    }
   ],
   "source": [
    "sns.lineplot(x = x, y = np.log(y), label = \"gram schmidt\")\n",
    "sns.lineplot(x = x, y = np.log(z), label = \"modified_gram_schmidt\")\n",
    "sns.lineplot(x = x, y = np.log(t), label = \"householder\")"
   ]
  },
  {
   "cell_type": "markdown",
   "metadata": {},
   "source": [
    "## Задача 4. Сжатие полносвязных слоёв в нейросети (30 pts)\n",
    "\n",
    "В этой задаче вам предлагается исследовать, как изменится точность предсказания нейросети, которая классифицирует изображения, если вместо полносвязных слоёв использовать их сжатое представление, полученное с помощью SVD. Результатом решения этой задачи должен быть график зависимости точности классификации на тестовой выборке от количества параметров нейронной сети."
   ]
  },
  {
   "cell_type": "markdown",
   "metadata": {},
   "source": [
    "#### Сначала скачаем данные CIFAR10"
   ]
  },
  {
   "cell_type": "code",
   "execution_count": 1,
   "metadata": {},
   "outputs": [
    {
     "name": "stdout",
     "output_type": "stream",
     "text": [
      "Files already downloaded and verified\n"
     ]
    }
   ],
   "source": [
    "import torch\n",
    "import torchvision\n",
    "import torchvision.transforms as transforms\n",
    "from torchvision import datasets, transforms\n",
    "import torch.nn as nn\n",
    "import torch.optim as optim\n",
    "import torch.nn.functional as F\n",
    "import matplotlib.pyplot as plt\n",
    "%matplotlib inline\n",
    "import numpy as np\n",
    "\n",
    "batch_size = 100\n",
    "\n",
    "transform = transforms.Compose(\n",
    "    [transforms.ToTensor(),\n",
    "     transforms.Normalize((0.5, 0.5, 0.5), (0.5, 0.5, 0.5))])\n",
    "\n",
    "train_loader = torch.utils.data.DataLoader(datasets.CIFAR10('./', train=True, download=True, transform=transform), \n",
    "                                        batch_size=batch_size, shuffle=True)\n",
    "\n",
    "test_loader = torch.utils.data.DataLoader(datasets.CIFAR10('./', train=False, transform=transform), \n",
    "                                          batch_size=batch_size, shuffle=True)\n",
    "\n",
    "classes = ('plane', 'car', 'bird', 'cat',\n",
    "           'deer', 'dog', 'frog', 'horse', 'ship', 'truck')"
   ]
  },
  {
   "cell_type": "markdown",
   "metadata": {},
   "source": [
    "#### Посмотрим, как выглядят изображения"
   ]
  },
  {
   "cell_type": "code",
   "execution_count": 2,
   "metadata": {},
   "outputs": [
    {
     "data": {
      "image/png": "[encoded data removed]",
      "text/plain": [
       "<Figure size 1440x720 with 1 Axes>"
      ]
     },
     "metadata": {
      "needs_background": "light"
     },
     "output_type": "display_data"
    },
    {
     "name": "stdout",
     "output_type": "stream",
     "text": [
      " frog truck   car  ship   dog  frog   car horse\n"
     ]
    }
   ],
   "source": [
    "def imshow(img):\n",
    "    img = img / 2 + 0.5     # unnormalize\n",
    "    npimg = img.numpy()\n",
    "    plt.figure(figsize=(20, 10))\n",
    "    plt.imshow(np.transpose(npimg, (1, 2, 0)))\n",
    "    plt.show()\n",
    "\n",
    "\n",
    "# get some random training images\n",
    "dataiter = iter(train_loader)\n",
    "images, labels = dataiter.next()\n",
    "\n",
    "# show images\n",
    "imshow(torchvision.utils.make_grid(images))\n",
    "# print labels\n",
    "print(' '.join('%5s' % classes[labels[j]] for j in range(8)))\n"
   ]
  },
  {
   "cell_type": "markdown",
   "metadata": {},
   "source": [
    "### Архитектура нейронной сети\n",
    "\n",
    "Для простоты и демонстрации принципа сжатия слоёв нейронных сетей рассмотрим архитектуру, состоящую только из полносвязных слоёв (то есть линейных преобразований) и стандартных ReLU-нелинейностей. Опять же для наглядности выбрали размерность 1000 для полносвязных слоёв. "
   ]
  },
  {
   "cell_type": "code",
   "execution_count": 3,
   "metadata": {},
   "outputs": [],
   "source": [
    "class Net(nn.Module):\n",
    "    def __init__(self):\n",
    "        super(Net, self).__init__()\n",
    "        self.fc1 = nn.Linear(3 * 32 * 32, 1000)\n",
    "        self.fc2 = nn.Linear(1000, 1000)\n",
    "        self.fc3 = nn.Linear(1000, 1000)\n",
    "        self.fc4 = nn.Linear(1000, 1000)\n",
    "        self.fc5 = nn.Linear(1000, 1000)\n",
    "        self.fc6 = nn.Linear(1000, 10)\n",
    "        self.ReLU = nn.ReLU()\n",
    "\n",
    "    def forward(self, x):\n",
    "        x = self.fc1(x.view(-1, 3 * 32*32))\n",
    "        x = self.ReLU(x)\n",
    "\n",
    "        y = self.fc2(x)\n",
    "        y = self.ReLU(y)\n",
    "        y = self.fc3(y)\n",
    "\n",
    "        x1 = self.ReLU(y + x)\n",
    "\n",
    "        \n",
    "        y1 = self.fc4(x1)\n",
    "        y1 = self.ReLU(y1)\n",
    "        y1 = self.fc5(y1)\n",
    "\n",
    "        x2 = self.ReLU(x1 + y1)\n",
    "\n",
    "        z = self.fc6(x2)\n",
    "        return F.log_softmax(z, dim=1)"
   ]
  },
  {
   "cell_type": "markdown",
   "metadata": {},
   "source": [
    "#### Функции для обучения и тестирования результата после каждого прохождения всех данных "
   ]
  },
  {
   "cell_type": "code",
   "execution_count": 5,
   "metadata": {},
   "outputs": [],
   "source": [
    "def train(model, train_loader, optimizer, epoch):\n",
    "    model.train()\n",
    "    for batch_idx, (data, target) in enumerate(train_loader):\n",
    "        optimizer.zero_grad()\n",
    "        output = model(data)\n",
    "        loss = F.nll_loss(output, target)\n",
    "        loss.backward()\n",
    "        optimizer.step()\n",
    "        if batch_idx % log_interval == 0:\n",
    "            print('Train Epoch: {} [{}/{} ({:.0f}%)]\\tLoss: {:.6f}'.format(\n",
    "                epoch, batch_idx * len(data), len(train_loader.dataset),\n",
    "                100. * batch_idx / len(train_loader), loss.item()))\n"
   ]
  },
  {
   "cell_type": "code",
   "execution_count": 6,
   "metadata": {},
   "outputs": [],
   "source": [
    "def test(model, test_loader):\n",
    "    model.eval()\n",
    "    test_loss = 0\n",
    "    correct = 0\n",
    "    with torch.no_grad():\n",
    "        for data, target in test_loader:\n",
    "#             data, target = data.to(device), target.to(device)\n",
    "            output = model(data)\n",
    "            #print(output.shape)\n",
    "            test_loss += F.nll_loss(output, target, reduction='sum').item() # sum up batch loss\n",
    "            pred = output.argmax(dim=1, keepdim=True) # get the index of the max log-probability\n",
    "            correct += pred.eq(target.view_as(pred)).sum().item()\n",
    "    test_loss /= len(test_loader.dataset)\n",
    "\n",
    "    print('\\nTest set: Average loss: {:.4f}, Accuracy: {}/{} ({:.0f}%)\\n'.format(\n",
    "        test_loss, correct, len(test_loader.dataset),\n",
    "        100. * correct / len(test_loader.dataset)))\n",
    "    return 100. * correct / len(test_loader.dataset)"
   ]
  },
  {
   "cell_type": "markdown",
   "metadata": {},
   "source": [
    "### Зададим параметры обучения и вывода промежуточных результатов"
   ]
  },
  {
   "cell_type": "code",
   "execution_count": 7,
   "metadata": {},
   "outputs": [],
   "source": [
    "log_interval = 50\n",
    "epochs = 7"
   ]
  },
  {
   "cell_type": "markdown",
   "metadata": {},
   "source": [
    "### Запускаем обучение с помощью метода оптимизации [Adam](https://arxiv.org/pdf/1412.6980.pdf%20%22%20entire%20document) \n",
    "Если у вас не очень мощный ноутбук, то придётся подождать некоторое время. "
   ]
  },
  {
   "cell_type": "code",
   "execution_count": 8,
   "metadata": {},
   "outputs": [
    {
     "name": "stdout",
     "output_type": "stream",
     "text": [
      "Train Epoch: 1 [0/50000 (0%)]\tLoss: 2.290524\n",
      "Train Epoch: 1 [5000/50000 (10%)]\tLoss: 1.938159\n",
      "Train Epoch: 1 [10000/50000 (20%)]\tLoss: 1.802682\n",
      "Train Epoch: 1 [15000/50000 (30%)]\tLoss: 1.394148\n",
      "Train Epoch: 1 [20000/50000 (40%)]\tLoss: 1.461678\n",
      "Train Epoch: 1 [25000/50000 (50%)]\tLoss: 1.586076\n",
      "Train Epoch: 1 [30000/50000 (60%)]\tLoss: 1.636681\n",
      "Train Epoch: 1 [35000/50000 (70%)]\tLoss: 1.682909\n",
      "Train Epoch: 1 [40000/50000 (80%)]\tLoss: 1.472204\n",
      "Train Epoch: 1 [45000/50000 (90%)]\tLoss: 1.447876\n",
      "\n",
      "Test set: Average loss: 1.4440, Accuracy: 4938/10000 (49%)\n",
      "\n",
      "Train Epoch: 2 [0/50000 (0%)]\tLoss: 1.289165\n",
      "Train Epoch: 2 [5000/50000 (10%)]\tLoss: 1.400211\n",
      "Train Epoch: 2 [10000/50000 (20%)]\tLoss: 1.394068\n",
      "Train Epoch: 2 [15000/50000 (30%)]\tLoss: 1.454077\n",
      "Train Epoch: 2 [20000/50000 (40%)]\tLoss: 1.293400\n",
      "Train Epoch: 2 [25000/50000 (50%)]\tLoss: 1.415248\n",
      "Train Epoch: 2 [30000/50000 (60%)]\tLoss: 1.289785\n",
      "Train Epoch: 2 [35000/50000 (70%)]\tLoss: 1.490434\n",
      "Train Epoch: 2 [40000/50000 (80%)]\tLoss: 1.252198\n",
      "Train Epoch: 2 [45000/50000 (90%)]\tLoss: 1.479523\n",
      "\n",
      "Test set: Average loss: 1.3836, Accuracy: 5184/10000 (52%)\n",
      "\n",
      "Train Epoch: 3 [0/50000 (0%)]\tLoss: 1.313291\n",
      "Train Epoch: 3 [5000/50000 (10%)]\tLoss: 1.246441\n",
      "Train Epoch: 3 [10000/50000 (20%)]\tLoss: 1.081502\n",
      "Train Epoch: 3 [15000/50000 (30%)]\tLoss: 1.241384\n",
      "Train Epoch: 3 [20000/50000 (40%)]\tLoss: 1.302209\n",
      "Train Epoch: 3 [25000/50000 (50%)]\tLoss: 1.243193\n",
      "Train Epoch: 3 [30000/50000 (60%)]\tLoss: 1.150234\n",
      "Train Epoch: 3 [35000/50000 (70%)]\tLoss: 1.144377\n",
      "Train Epoch: 3 [40000/50000 (80%)]\tLoss: 1.219989\n",
      "Train Epoch: 3 [45000/50000 (90%)]\tLoss: 1.169197\n",
      "\n",
      "Test set: Average loss: 1.3217, Accuracy: 5348/10000 (53%)\n",
      "\n",
      "Train Epoch: 4 [0/50000 (0%)]\tLoss: 1.184481\n",
      "Train Epoch: 4 [5000/50000 (10%)]\tLoss: 1.243719\n",
      "Train Epoch: 4 [10000/50000 (20%)]\tLoss: 1.074157\n",
      "Train Epoch: 4 [15000/50000 (30%)]\tLoss: 1.076695\n",
      "Train Epoch: 4 [20000/50000 (40%)]\tLoss: 1.195961\n",
      "Train Epoch: 4 [25000/50000 (50%)]\tLoss: 1.242166\n",
      "Train Epoch: 4 [30000/50000 (60%)]\tLoss: 0.941106\n",
      "Train Epoch: 4 [35000/50000 (70%)]\tLoss: 1.017426\n",
      "Train Epoch: 4 [40000/50000 (80%)]\tLoss: 0.946279\n",
      "Train Epoch: 4 [45000/50000 (90%)]\tLoss: 1.222453\n",
      "\n",
      "Test set: Average loss: 1.2994, Accuracy: 5479/10000 (55%)\n",
      "\n",
      "Train Epoch: 5 [0/50000 (0%)]\tLoss: 0.941199\n",
      "Train Epoch: 5 [5000/50000 (10%)]\tLoss: 0.946437\n",
      "Train Epoch: 5 [10000/50000 (20%)]\tLoss: 0.801447\n",
      "Train Epoch: 5 [15000/50000 (30%)]\tLoss: 1.096397\n",
      "Train Epoch: 5 [20000/50000 (40%)]\tLoss: 0.967974\n",
      "Train Epoch: 5 [25000/50000 (50%)]\tLoss: 1.000045\n",
      "Train Epoch: 5 [30000/50000 (60%)]\tLoss: 0.918960\n",
      "Train Epoch: 5 [35000/50000 (70%)]\tLoss: 1.077224\n",
      "Train Epoch: 5 [40000/50000 (80%)]\tLoss: 0.943820\n",
      "Train Epoch: 5 [45000/50000 (90%)]\tLoss: 0.972217\n",
      "\n",
      "Test set: Average loss: 1.2591, Accuracy: 5651/10000 (57%)\n",
      "\n",
      "Train Epoch: 6 [0/50000 (0%)]\tLoss: 0.876578\n",
      "Train Epoch: 6 [5000/50000 (10%)]\tLoss: 0.903413\n",
      "Train Epoch: 6 [10000/50000 (20%)]\tLoss: 0.928830\n",
      "Train Epoch: 6 [15000/50000 (30%)]\tLoss: 0.872621\n",
      "Train Epoch: 6 [20000/50000 (40%)]\tLoss: 0.761912\n",
      "Train Epoch: 6 [25000/50000 (50%)]\tLoss: 0.915629\n",
      "Train Epoch: 6 [30000/50000 (60%)]\tLoss: 0.799550\n",
      "Train Epoch: 6 [35000/50000 (70%)]\tLoss: 0.788626\n",
      "Train Epoch: 6 [40000/50000 (80%)]\tLoss: 0.856804\n",
      "Train Epoch: 6 [45000/50000 (90%)]\tLoss: 0.927317\n",
      "\n",
      "Test set: Average loss: 1.2738, Accuracy: 5620/10000 (56%)\n",
      "\n",
      "Train Epoch: 7 [0/50000 (0%)]\tLoss: 0.732918\n",
      "Train Epoch: 7 [5000/50000 (10%)]\tLoss: 0.753276\n",
      "Train Epoch: 7 [10000/50000 (20%)]\tLoss: 0.588398\n",
      "Train Epoch: 7 [15000/50000 (30%)]\tLoss: 0.612567\n",
      "Train Epoch: 7 [20000/50000 (40%)]\tLoss: 0.795751\n",
      "Train Epoch: 7 [25000/50000 (50%)]\tLoss: 0.801841\n",
      "Train Epoch: 7 [30000/50000 (60%)]\tLoss: 0.627938\n",
      "Train Epoch: 7 [35000/50000 (70%)]\tLoss: 0.887184\n",
      "Train Epoch: 7 [40000/50000 (80%)]\tLoss: 0.979155\n",
      "Train Epoch: 7 [45000/50000 (90%)]\tLoss: 0.778212\n",
      "\n",
      "Test set: Average loss: 1.3417, Accuracy: 5525/10000 (55%)\n",
      "\n"
     ]
    }
   ],
   "source": [
    "model = Net()\n",
    "optimizer = optim.Adam(model.parameters(), lr=1e-4)\n",
    "\n",
    "for epoch in range(1, epochs + 1):\n",
    "    train(model,  train_loader, optimizer, epoch)\n",
    "    test(model, test_loader)"
   ]
  },
  {
   "cell_type": "markdown",
   "metadata": {},
   "source": [
    "- (3 pts) Вычислите SVD для матрицы $1000 \\times 1000$, которая соответствует любому слою подходящего размера обученной нейросети. Покажите на графике убывание сингулярных чисел. Какой вывод можно сделать?\n",
    "- (12 pts) Создайте модель (аналогично классу ```Net```), которая на вход будет принимать экземпляр класса ```Net```, ранг $r > 0$ и список индексов слоёв, веса которых будут сжиматься. Эта модель должна сжимать некоторые полносвязные слои (индексы которых переданы на вход) с помощью SVD разложения, из которого берутся только первые $r$ компонент. Также функция ```forward``` должна быть эффективно реализована с использованием сжатого представления полносвязных слоёв, а в остальном полностью повторять эту же функцию для несжатой обученной сети.\n",
    "- (5 pts) Постройте зависимость точности предсказания на тестовой выборе от количества параметров, которое необходимо для этого. Это количество, очевидно, некоторым образом зависит от заданного ранга сжатия $r$. Также постройте зависимость времени вычисления от ранга сжатия. Объясните полученные результаты. Для вычисления времени используйте [%timeit](https://docs.python.org/3.6/library/timeit.html) c необходимыми параметрами (примеры смотрите в лекции) "
   ]
  },
  {
   "cell_type": "code",
   "execution_count": 9,
   "metadata": {},
   "outputs": [
    {
     "data": {
      "text/plain": [
       "array([[ 3.1138223e-03, -6.7868344e-03,  2.7227607e-03, ...,\n",
       "        -2.5178919e-02, -2.9397156e-02,  1.1507143e-02],\n",
       "       [-2.3521494e-02,  1.0175701e-02, -1.1890964e-02, ...,\n",
       "         2.7306123e-02,  2.0288124e-03, -6.5493751e-03],\n",
       "       [ 3.4595981e-02, -4.7999634e-03,  9.3894200e-03, ...,\n",
       "         1.3876378e-02, -1.7028674e-02, -1.3648533e-02],\n",
       "       ...,\n",
       "       [-2.5410134e-02,  2.0077979e-02,  2.9653767e-02, ...,\n",
       "         1.3923555e-02,  5.7644728e-03, -3.3440091e-02],\n",
       "       [ 6.0043577e-03, -9.8893906e-05, -1.0687504e-02, ...,\n",
       "        -3.8417636e-03, -4.2171394e-03, -1.4902871e-04],\n",
       "       [-3.2004610e-02,  2.9657761e-04, -2.3609949e-02, ...,\n",
       "         1.8972988e-03, -2.5067626e-02,  1.6235219e-02]], dtype=float32)"
      ]
     },
     "execution_count": 9,
     "metadata": {},
     "output_type": "execute_result"
    }
   ],
   "source": [
    "layer = model.fc3.weight.data\n",
    "layer = layer.numpy()\n",
    "layer"
   ]
  },
  {
   "cell_type": "code",
   "execution_count": 10,
   "metadata": {},
   "outputs": [
    {
     "data": {
      "text/plain": [
       "torch.Size([1000])"
      ]
     },
     "execution_count": 10,
     "metadata": {},
     "output_type": "execute_result"
    }
   ],
   "source": [
    "model.fc2.bias.shape"
   ]
  },
  {
   "cell_type": "code",
   "execution_count": 11,
   "metadata": {},
   "outputs": [
    {
     "data": {
      "text/plain": [
       "[Linear(in_features=3072, out_features=1000, bias=True),\n",
       " Linear(in_features=1000, out_features=1000, bias=True),\n",
       " Linear(in_features=1000, out_features=1000, bias=True),\n",
       " Linear(in_features=1000, out_features=1000, bias=True),\n",
       " Linear(in_features=1000, out_features=1000, bias=True),\n",
       " Linear(in_features=1000, out_features=10, bias=True)]"
      ]
     },
     "execution_count": 11,
     "metadata": {},
     "output_type": "execute_result"
    }
   ],
   "source": [
    "layers_list = list(model.modules())[1:]\n",
    "layers_list = layers_list[:len(layers_list)-1]\n",
    "layers_list"
   ]
  },
  {
   "cell_type": "code",
   "execution_count": 12,
   "metadata": {},
   "outputs": [],
   "source": [
    "U, s, V = np.linalg.svd(layer)"
   ]
  },
  {
   "cell_type": "code",
   "execution_count": 15,
   "metadata": {},
   "outputs": [
    {
     "data": {
      "text/plain": [
       "Text(0.5, 0, 'Singular value index, $i$')"
      ]
     },
     "execution_count": 15,
     "metadata": {},
     "output_type": "execute_result"
    },
    {
     "data": {
      "image/png": "[encoded data removed]",
      "text/plain": [
       "<Figure size 432x288 with 1 Axes>"
      ]
     },
     "metadata": {},
     "output_type": "display_data"
    }
   ],
   "source": [
    "plt.rc(\"text\", usetex=True)\n",
    "sns.set_style(\"whitegrid\")\n",
    "sns.set_context(\"talk\")\n",
    "# plt.xkcd()\n",
    "n = 1000\n",
    "plt.semilogy(s[:])\n",
    "plt.ylabel(r\"$\\sigma_i$\", fontsize=24)\n",
    "plt.xlabel(r\"Singular value index, $i$\", fontsize=24)"
   ]
  },
  {
   "cell_type": "markdown",
   "metadata": {},
   "source": [
    "Из графика видно, что примерно 900 первых сингулярных чисел очень медленно убывают и имеют\n",
    "не слишком маленькие значения(порядка $10^{-1}$ - $10^{-2}$). Следовательно матрица данного полносвязного слоя\n",
    "не является малоранговой."
   ]
  },
  {
   "cell_type": "code",
   "execution_count": 23,
   "metadata": {},
   "outputs": [],
   "source": [
    "class SVDNet(nn.Module):\n",
    "    def __init__(self, model, r, index):\n",
    "        super(SVDNet, self).__init__()\n",
    "        \n",
    "        self.fc1 = model.fc1\n",
    "        self.fc2 = model.fc2\n",
    "        self.fc3 = model.fc3\n",
    "        self.fc4 = model.fc4\n",
    "        self.fc5 = model.fc5\n",
    "        self.fc6 = model.fc6\n",
    "        \n",
    "        self.ReLU = nn.ReLU()\n",
    "        \n",
    "        self.r = r\n",
    "        self.index = index\n",
    "        self.layers_list = list(model.modules())[1:]\n",
    "        self.layers_list = self.layers_list[:len(self.layers_list)-1]\n",
    "            \n",
    "        for i in index:\n",
    "            layer = self.layers_list[i-1].weight.data\n",
    "            u, s, v = torch.svd(layer)\n",
    "            u = u[:, :r]\n",
    "            s = s[:r]\n",
    "            s = torch.diag(s)\n",
    "            v = v.t()\n",
    "            v = v[:r, :]\n",
    "            self.layers_list[i-1] = [u, s, v]\n",
    "            self.layers_list[i-1][0] = torch.nn.parameter.Parameter(self.layers_list[i-1][0])\n",
    "            self.layers_list[i-1][1] = torch.nn.parameter.Parameter(self.layers_list[i-1][1])\n",
    "            self.layers_list[i-1][2] = torch.nn.parameter.Parameter(self.layers_list[i-1][2])\n",
    "            \n",
    "    \n",
    "    def forward(self, x):\n",
    "        x = x.view(-1, 3 * 32*32)\n",
    "        if 1 not in self.index:\n",
    "            x = self.fc1(x)\n",
    "        else:\n",
    "            x = x.t()\n",
    "            u, s, v = self.layers_list[0]\n",
    "            x = u @ s @ v @ x\n",
    "            x = x.t()\n",
    "        \n",
    "        \n",
    "        x = self.ReLU(x)\n",
    "        \n",
    "        \n",
    "        if 2 not in self.index:\n",
    "            y = self.fc2(x)\n",
    "        else:\n",
    "            u, s, v = self.layers_list[1]\n",
    "            y = x @ v.t() @ (u @ s).t()\n",
    "            y += self.fc2.bias\n",
    "        \n",
    "        y = self.ReLU(y)\n",
    "        \n",
    "        if 3 not in self.index:\n",
    "            y = self.fc3(y)\n",
    "        else:\n",
    "            u, s, v = self.layers_list[2]\n",
    "            y = y @ v.t() @ (u @ s).t()\n",
    "            y += self.fc3.bias\n",
    "            \n",
    "\n",
    "        x1 = self.ReLU(y + x)\n",
    "\n",
    "        if 4 not in self.index:\n",
    "            y1 = self.fc4(x1)\n",
    "        else:\n",
    "            u, s, v = self.layers_list[3]\n",
    "            y1 = x1 @ v.t() @ (u @ s).t()\n",
    "            y1 += self.fc4.bias\n",
    "            \n",
    "            \n",
    "        y1 = self.ReLU(y1)\n",
    "        \n",
    "        if 5 not in self.index:\n",
    "            y1 = self.fc5(y1)\n",
    "        else:\n",
    "            u, s, v = self.layers_list[4]\n",
    "            y1 = y1 @ v.t() @ (u @ s).t()\n",
    "            y1 += self.fc5.bias\n",
    "\n",
    "        x2 = self.ReLU(x1 + y1)\n",
    "        \n",
    "        if 6 not in self.index:\n",
    "            z = self.fc6(x2)\n",
    "        else:\n",
    "            u, s, v = self.layers_list[5]\n",
    "            z = x2 @ v.t() @ (u @ s).t()\n",
    "            z += self.fc6.bias\n",
    "        \n",
    "            \n",
    "        return F.log_softmax(z, dim=1)\n"
   ]
  },
  {
   "cell_type": "code",
   "execution_count": 29,
   "metadata": {},
   "outputs": [
    {
     "name": "stdout",
     "output_type": "stream",
     "text": [
      "3\n",
      "\n",
      "Test set: Average loss: 3.1765, Accuracy: 1587/10000 (16%)\n",
      "\n",
      "15.87\n",
      "\n",
      "Test set: Average loss: 3.1765, Accuracy: 1587/10000 (16%)\n",
      "\n",
      "\n",
      "Test set: Average loss: 3.1765, Accuracy: 1587/10000 (16%)\n",
      "\n",
      "\n",
      "Test set: Average loss: 3.1765, Accuracy: 1587/10000 (16%)\n",
      "\n",
      "\n",
      "Test set: Average loss: 3.1765, Accuracy: 1587/10000 (16%)\n",
      "\n",
      "\n",
      "Test set: Average loss: 3.1765, Accuracy: 1587/10000 (16%)\n",
      "\n",
      "\n",
      "Test set: Average loss: 3.1765, Accuracy: 1587/10000 (16%)\n",
      "\n",
      "\n",
      "Test set: Average loss: 3.1765, Accuracy: 1587/10000 (16%)\n",
      "\n",
      "\n",
      "Test set: Average loss: 3.1765, Accuracy: 1587/10000 (16%)\n",
      "\n",
      "53\n",
      "\n",
      "Test set: Average loss: 1.5846, Accuracy: 5209/10000 (52%)\n",
      "\n",
      "52.09\n",
      "\n",
      "Test set: Average loss: 1.5846, Accuracy: 5209/10000 (52%)\n",
      "\n",
      "\n",
      "Test set: Average loss: 1.5846, Accuracy: 5209/10000 (52%)\n",
      "\n",
      "\n",
      "Test set: Average loss: 1.5846, Accuracy: 5209/10000 (52%)\n",
      "\n",
      "\n",
      "Test set: Average loss: 1.5846, Accuracy: 5209/10000 (52%)\n",
      "\n",
      "\n",
      "Test set: Average loss: 1.5846, Accuracy: 5209/10000 (52%)\n",
      "\n",
      "\n",
      "Test set: Average loss: 1.5846, Accuracy: 5209/10000 (52%)\n",
      "\n",
      "\n",
      "Test set: Average loss: 1.5846, Accuracy: 5209/10000 (52%)\n",
      "\n",
      "\n",
      "Test set: Average loss: 1.5846, Accuracy: 5209/10000 (52%)\n",
      "\n",
      "103\n",
      "\n",
      "Test set: Average loss: 1.3964, Accuracy: 5432/10000 (54%)\n",
      "\n",
      "54.32\n",
      "\n",
      "Test set: Average loss: 1.3964, Accuracy: 5432/10000 (54%)\n",
      "\n",
      "\n",
      "Test set: Average loss: 1.3964, Accuracy: 5432/10000 (54%)\n",
      "\n",
      "\n",
      "Test set: Average loss: 1.3964, Accuracy: 5432/10000 (54%)\n",
      "\n",
      "\n",
      "Test set: Average loss: 1.3964, Accuracy: 5432/10000 (54%)\n",
      "\n",
      "\n",
      "Test set: Average loss: 1.3964, Accuracy: 5432/10000 (54%)\n",
      "\n",
      "\n",
      "Test set: Average loss: 1.3964, Accuracy: 5432/10000 (54%)\n",
      "\n",
      "\n",
      "Test set: Average loss: 1.3964, Accuracy: 5432/10000 (54%)\n",
      "\n",
      "\n",
      "Test set: Average loss: 1.3964, Accuracy: 5432/10000 (54%)\n",
      "\n",
      "153\n",
      "\n",
      "Test set: Average loss: 1.3730, Accuracy: 5469/10000 (55%)\n",
      "\n",
      "54.69\n",
      "\n",
      "Test set: Average loss: 1.3730, Accuracy: 5469/10000 (55%)\n",
      "\n",
      "\n",
      "Test set: Average loss: 1.3730, Accuracy: 5469/10000 (55%)\n",
      "\n",
      "\n",
      "Test set: Average loss: 1.3730, Accuracy: 5469/10000 (55%)\n",
      "\n",
      "\n",
      "Test set: Average loss: 1.3730, Accuracy: 5469/10000 (55%)\n",
      "\n",
      "\n",
      "Test set: Average loss: 1.3730, Accuracy: 5469/10000 (55%)\n",
      "\n",
      "\n",
      "Test set: Average loss: 1.3730, Accuracy: 5469/10000 (55%)\n",
      "\n",
      "\n",
      "Test set: Average loss: 1.3730, Accuracy: 5469/10000 (55%)\n",
      "\n",
      "\n",
      "Test set: Average loss: 1.3730, Accuracy: 5469/10000 (55%)\n",
      "\n",
      "203\n",
      "\n",
      "Test set: Average loss: 1.3635, Accuracy: 5494/10000 (55%)\n",
      "\n",
      "54.94\n",
      "\n",
      "Test set: Average loss: 1.3635, Accuracy: 5494/10000 (55%)\n",
      "\n",
      "\n",
      "Test set: Average loss: 1.3635, Accuracy: 5494/10000 (55%)\n",
      "\n",
      "\n",
      "Test set: Average loss: 1.3635, Accuracy: 5494/10000 (55%)\n",
      "\n",
      "\n",
      "Test set: Average loss: 1.3635, Accuracy: 5494/10000 (55%)\n",
      "\n",
      "\n",
      "Test set: Average loss: 1.3635, Accuracy: 5494/10000 (55%)\n",
      "\n",
      "\n",
      "Test set: Average loss: 1.3635, Accuracy: 5494/10000 (55%)\n",
      "\n",
      "\n",
      "Test set: Average loss: 1.3635, Accuracy: 5494/10000 (55%)\n",
      "\n",
      "\n",
      "Test set: Average loss: 1.3635, Accuracy: 5494/10000 (55%)\n",
      "\n",
      "253\n",
      "\n",
      "Test set: Average loss: 1.3616, Accuracy: 5489/10000 (55%)\n",
      "\n",
      "54.89\n",
      "\n",
      "Test set: Average loss: 1.3616, Accuracy: 5489/10000 (55%)\n",
      "\n",
      "\n",
      "Test set: Average loss: 1.3616, Accuracy: 5489/10000 (55%)\n",
      "\n",
      "\n",
      "Test set: Average loss: 1.3616, Accuracy: 5489/10000 (55%)\n",
      "\n",
      "\n",
      "Test set: Average loss: 1.3616, Accuracy: 5489/10000 (55%)\n",
      "\n",
      "\n",
      "Test set: Average loss: 1.3616, Accuracy: 5489/10000 (55%)\n",
      "\n",
      "\n",
      "Test set: Average loss: 1.3616, Accuracy: 5489/10000 (55%)\n",
      "\n",
      "\n",
      "Test set: Average loss: 1.3616, Accuracy: 5489/10000 (55%)\n",
      "\n",
      "\n",
      "Test set: Average loss: 1.3616, Accuracy: 5489/10000 (55%)\n",
      "\n",
      "303\n",
      "\n",
      "Test set: Average loss: 1.3572, Accuracy: 5504/10000 (55%)\n",
      "\n",
      "55.04\n",
      "\n",
      "Test set: Average loss: 1.3572, Accuracy: 5504/10000 (55%)\n",
      "\n",
      "\n",
      "Test set: Average loss: 1.3572, Accuracy: 5504/10000 (55%)\n",
      "\n",
      "\n",
      "Test set: Average loss: 1.3572, Accuracy: 5504/10000 (55%)\n",
      "\n",
      "\n",
      "Test set: Average loss: 1.3572, Accuracy: 5504/10000 (55%)\n",
      "\n",
      "\n",
      "Test set: Average loss: 1.3572, Accuracy: 5504/10000 (55%)\n",
      "\n",
      "\n",
      "Test set: Average loss: 1.3572, Accuracy: 5504/10000 (55%)\n",
      "\n",
      "\n",
      "Test set: Average loss: 1.3572, Accuracy: 5504/10000 (55%)\n",
      "\n",
      "\n",
      "Test set: Average loss: 1.3572, Accuracy: 5504/10000 (55%)\n",
      "\n",
      "353\n",
      "\n",
      "Test set: Average loss: 1.3540, Accuracy: 5526/10000 (55%)\n",
      "\n",
      "55.26\n",
      "\n",
      "Test set: Average loss: 1.3540, Accuracy: 5526/10000 (55%)\n",
      "\n",
      "\n",
      "Test set: Average loss: 1.3540, Accuracy: 5526/10000 (55%)\n",
      "\n",
      "\n",
      "Test set: Average loss: 1.3540, Accuracy: 5526/10000 (55%)\n",
      "\n",
      "\n",
      "Test set: Average loss: 1.3540, Accuracy: 5526/10000 (55%)\n",
      "\n",
      "\n",
      "Test set: Average loss: 1.3540, Accuracy: 5526/10000 (55%)\n",
      "\n",
      "\n",
      "Test set: Average loss: 1.3540, Accuracy: 5526/10000 (55%)\n",
      "\n",
      "\n",
      "Test set: Average loss: 1.3540, Accuracy: 5526/10000 (55%)\n",
      "\n",
      "\n",
      "Test set: Average loss: 1.3540, Accuracy: 5526/10000 (55%)\n",
      "\n",
      "403\n",
      "\n",
      "Test set: Average loss: 1.3536, Accuracy: 5526/10000 (55%)\n",
      "\n",
      "55.26\n",
      "\n",
      "Test set: Average loss: 1.3536, Accuracy: 5526/10000 (55%)\n",
      "\n",
      "\n",
      "Test set: Average loss: 1.3536, Accuracy: 5526/10000 (55%)\n",
      "\n",
      "\n",
      "Test set: Average loss: 1.3536, Accuracy: 5526/10000 (55%)\n",
      "\n",
      "\n",
      "Test set: Average loss: 1.3536, Accuracy: 5526/10000 (55%)\n",
      "\n",
      "\n",
      "Test set: Average loss: 1.3536, Accuracy: 5526/10000 (55%)\n",
      "\n",
      "\n",
      "Test set: Average loss: 1.3536, Accuracy: 5526/10000 (55%)\n",
      "\n",
      "\n",
      "Test set: Average loss: 1.3536, Accuracy: 5526/10000 (55%)\n",
      "\n",
      "\n",
      "Test set: Average loss: 1.3536, Accuracy: 5526/10000 (55%)\n",
      "\n",
      "453\n",
      "\n",
      "Test set: Average loss: 1.3523, Accuracy: 5519/10000 (55%)\n",
      "\n",
      "55.19\n",
      "\n",
      "Test set: Average loss: 1.3523, Accuracy: 5519/10000 (55%)\n",
      "\n",
      "\n",
      "Test set: Average loss: 1.3523, Accuracy: 5519/10000 (55%)\n",
      "\n",
      "\n",
      "Test set: Average loss: 1.3523, Accuracy: 5519/10000 (55%)\n",
      "\n",
      "\n",
      "Test set: Average loss: 1.3523, Accuracy: 5519/10000 (55%)\n",
      "\n",
      "\n",
      "Test set: Average loss: 1.3523, Accuracy: 5519/10000 (55%)\n",
      "\n",
      "\n",
      "Test set: Average loss: 1.3523, Accuracy: 5519/10000 (55%)\n",
      "\n",
      "\n",
      "Test set: Average loss: 1.3523, Accuracy: 5519/10000 (55%)\n",
      "\n",
      "\n",
      "Test set: Average loss: 1.3523, Accuracy: 5519/10000 (55%)\n",
      "\n",
      "503\n",
      "\n",
      "Test set: Average loss: 1.3481, Accuracy: 5529/10000 (55%)\n",
      "\n",
      "55.29\n",
      "\n",
      "Test set: Average loss: 1.3481, Accuracy: 5529/10000 (55%)\n",
      "\n",
      "\n",
      "Test set: Average loss: 1.3481, Accuracy: 5529/10000 (55%)\n",
      "\n",
      "\n",
      "Test set: Average loss: 1.3481, Accuracy: 5529/10000 (55%)\n",
      "\n",
      "\n",
      "Test set: Average loss: 1.3481, Accuracy: 5529/10000 (55%)\n",
      "\n",
      "\n",
      "Test set: Average loss: 1.3481, Accuracy: 5529/10000 (55%)\n",
      "\n",
      "\n",
      "Test set: Average loss: 1.3481, Accuracy: 5529/10000 (55%)\n",
      "\n",
      "\n",
      "Test set: Average loss: 1.3481, Accuracy: 5529/10000 (55%)\n",
      "\n",
      "\n",
      "Test set: Average loss: 1.3481, Accuracy: 5529/10000 (55%)\n",
      "\n",
      "553\n",
      "\n",
      "Test set: Average loss: 1.3451, Accuracy: 5511/10000 (55%)\n",
      "\n",
      "55.11\n",
      "\n",
      "Test set: Average loss: 1.3451, Accuracy: 5511/10000 (55%)\n",
      "\n",
      "\n",
      "Test set: Average loss: 1.3451, Accuracy: 5511/10000 (55%)\n",
      "\n",
      "\n",
      "Test set: Average loss: 1.3451, Accuracy: 5511/10000 (55%)\n",
      "\n",
      "\n",
      "Test set: Average loss: 1.3451, Accuracy: 5511/10000 (55%)\n",
      "\n",
      "\n",
      "Test set: Average loss: 1.3451, Accuracy: 5511/10000 (55%)\n",
      "\n",
      "\n",
      "Test set: Average loss: 1.3451, Accuracy: 5511/10000 (55%)\n",
      "\n",
      "\n",
      "Test set: Average loss: 1.3451, Accuracy: 5511/10000 (55%)\n",
      "\n",
      "\n",
      "Test set: Average loss: 1.3451, Accuracy: 5511/10000 (55%)\n",
      "\n",
      "603\n",
      "\n",
      "Test set: Average loss: 1.3443, Accuracy: 5512/10000 (55%)\n",
      "\n",
      "55.12\n",
      "\n",
      "Test set: Average loss: 1.3443, Accuracy: 5512/10000 (55%)\n",
      "\n",
      "\n",
      "Test set: Average loss: 1.3443, Accuracy: 5512/10000 (55%)\n",
      "\n",
      "\n",
      "Test set: Average loss: 1.3443, Accuracy: 5512/10000 (55%)\n",
      "\n",
      "\n",
      "Test set: Average loss: 1.3443, Accuracy: 5512/10000 (55%)\n",
      "\n",
      "\n",
      "Test set: Average loss: 1.3443, Accuracy: 5512/10000 (55%)\n",
      "\n",
      "\n",
      "Test set: Average loss: 1.3443, Accuracy: 5512/10000 (55%)\n",
      "\n",
      "\n",
      "Test set: Average loss: 1.3443, Accuracy: 5512/10000 (55%)\n",
      "\n",
      "\n",
      "Test set: Average loss: 1.3443, Accuracy: 5512/10000 (55%)\n",
      "\n",
      "653\n",
      "\n",
      "Test set: Average loss: 1.3421, Accuracy: 5519/10000 (55%)\n",
      "\n",
      "55.19\n",
      "\n",
      "Test set: Average loss: 1.3421, Accuracy: 5519/10000 (55%)\n",
      "\n",
      "\n",
      "Test set: Average loss: 1.3421, Accuracy: 5519/10000 (55%)\n",
      "\n",
      "\n",
      "Test set: Average loss: 1.3421, Accuracy: 5519/10000 (55%)\n",
      "\n",
      "\n",
      "Test set: Average loss: 1.3421, Accuracy: 5519/10000 (55%)\n",
      "\n",
      "\n",
      "Test set: Average loss: 1.3421, Accuracy: 5519/10000 (55%)\n",
      "\n",
      "\n",
      "Test set: Average loss: 1.3421, Accuracy: 5519/10000 (55%)\n",
      "\n",
      "\n",
      "Test set: Average loss: 1.3421, Accuracy: 5519/10000 (55%)\n",
      "\n",
      "\n",
      "Test set: Average loss: 1.3421, Accuracy: 5519/10000 (55%)\n",
      "\n",
      "703\n",
      "\n",
      "Test set: Average loss: 1.3411, Accuracy: 5537/10000 (55%)\n",
      "\n",
      "55.37\n",
      "\n",
      "Test set: Average loss: 1.3411, Accuracy: 5537/10000 (55%)\n",
      "\n",
      "\n",
      "Test set: Average loss: 1.3411, Accuracy: 5537/10000 (55%)\n",
      "\n",
      "\n",
      "Test set: Average loss: 1.3411, Accuracy: 5537/10000 (55%)\n",
      "\n",
      "\n",
      "Test set: Average loss: 1.3411, Accuracy: 5537/10000 (55%)\n",
      "\n",
      "\n",
      "Test set: Average loss: 1.3411, Accuracy: 5537/10000 (55%)\n",
      "\n"
     ]
    },
    {
     "name": "stdout",
     "output_type": "stream",
     "text": [
      "\n",
      "Test set: Average loss: 1.3411, Accuracy: 5537/10000 (55%)\n",
      "\n",
      "\n",
      "Test set: Average loss: 1.3411, Accuracy: 5537/10000 (55%)\n",
      "\n",
      "\n",
      "Test set: Average loss: 1.3411, Accuracy: 5537/10000 (55%)\n",
      "\n",
      "753\n",
      "\n",
      "Test set: Average loss: 1.3392, Accuracy: 5536/10000 (55%)\n",
      "\n",
      "55.36\n",
      "\n",
      "Test set: Average loss: 1.3392, Accuracy: 5536/10000 (55%)\n",
      "\n",
      "\n",
      "Test set: Average loss: 1.3392, Accuracy: 5536/10000 (55%)\n",
      "\n",
      "\n",
      "Test set: Average loss: 1.3392, Accuracy: 5536/10000 (55%)\n",
      "\n",
      "\n",
      "Test set: Average loss: 1.3392, Accuracy: 5536/10000 (55%)\n",
      "\n",
      "\n",
      "Test set: Average loss: 1.3392, Accuracy: 5536/10000 (55%)\n",
      "\n",
      "\n",
      "Test set: Average loss: 1.3392, Accuracy: 5536/10000 (55%)\n",
      "\n",
      "\n",
      "Test set: Average loss: 1.3392, Accuracy: 5536/10000 (55%)\n",
      "\n",
      "\n",
      "Test set: Average loss: 1.3392, Accuracy: 5536/10000 (55%)\n",
      "\n",
      "803\n",
      "\n",
      "Test set: Average loss: 1.3381, Accuracy: 5535/10000 (55%)\n",
      "\n",
      "55.35\n",
      "\n",
      "Test set: Average loss: 1.3381, Accuracy: 5535/10000 (55%)\n",
      "\n",
      "\n",
      "Test set: Average loss: 1.3381, Accuracy: 5535/10000 (55%)\n",
      "\n",
      "\n",
      "Test set: Average loss: 1.3381, Accuracy: 5535/10000 (55%)\n",
      "\n",
      "\n",
      "Test set: Average loss: 1.3381, Accuracy: 5535/10000 (55%)\n",
      "\n",
      "\n",
      "Test set: Average loss: 1.3381, Accuracy: 5535/10000 (55%)\n",
      "\n",
      "\n",
      "Test set: Average loss: 1.3381, Accuracy: 5535/10000 (55%)\n",
      "\n",
      "\n",
      "Test set: Average loss: 1.3381, Accuracy: 5535/10000 (55%)\n",
      "\n",
      "\n",
      "Test set: Average loss: 1.3381, Accuracy: 5535/10000 (55%)\n",
      "\n",
      "853\n",
      "\n",
      "Test set: Average loss: 1.3371, Accuracy: 5547/10000 (55%)\n",
      "\n",
      "55.47\n",
      "\n",
      "Test set: Average loss: 1.3371, Accuracy: 5547/10000 (55%)\n",
      "\n",
      "\n",
      "Test set: Average loss: 1.3371, Accuracy: 5547/10000 (55%)\n",
      "\n",
      "\n",
      "Test set: Average loss: 1.3371, Accuracy: 5547/10000 (55%)\n",
      "\n",
      "\n",
      "Test set: Average loss: 1.3371, Accuracy: 5547/10000 (55%)\n",
      "\n",
      "\n",
      "Test set: Average loss: 1.3371, Accuracy: 5547/10000 (55%)\n",
      "\n",
      "\n",
      "Test set: Average loss: 1.3371, Accuracy: 5547/10000 (55%)\n",
      "\n",
      "\n",
      "Test set: Average loss: 1.3371, Accuracy: 5547/10000 (55%)\n",
      "\n",
      "\n",
      "Test set: Average loss: 1.3371, Accuracy: 5547/10000 (55%)\n",
      "\n",
      "903\n",
      "\n",
      "Test set: Average loss: 1.3369, Accuracy: 5547/10000 (55%)\n",
      "\n",
      "55.47\n",
      "\n",
      "Test set: Average loss: 1.3369, Accuracy: 5547/10000 (55%)\n",
      "\n",
      "\n",
      "Test set: Average loss: 1.3369, Accuracy: 5547/10000 (55%)\n",
      "\n",
      "\n",
      "Test set: Average loss: 1.3369, Accuracy: 5547/10000 (55%)\n",
      "\n",
      "\n",
      "Test set: Average loss: 1.3369, Accuracy: 5547/10000 (55%)\n",
      "\n",
      "\n",
      "Test set: Average loss: 1.3369, Accuracy: 5547/10000 (55%)\n",
      "\n",
      "\n",
      "Test set: Average loss: 1.3369, Accuracy: 5547/10000 (55%)\n",
      "\n",
      "\n",
      "Test set: Average loss: 1.3369, Accuracy: 5547/10000 (55%)\n",
      "\n",
      "\n",
      "Test set: Average loss: 1.3369, Accuracy: 5547/10000 (55%)\n",
      "\n",
      "953\n",
      "\n",
      "Test set: Average loss: 1.3357, Accuracy: 5542/10000 (55%)\n",
      "\n",
      "55.42\n",
      "\n",
      "Test set: Average loss: 1.3357, Accuracy: 5542/10000 (55%)\n",
      "\n",
      "\n",
      "Test set: Average loss: 1.3357, Accuracy: 5542/10000 (55%)\n",
      "\n",
      "\n",
      "Test set: Average loss: 1.3357, Accuracy: 5542/10000 (55%)\n",
      "\n",
      "\n",
      "Test set: Average loss: 1.3357, Accuracy: 5542/10000 (55%)\n",
      "\n",
      "\n",
      "Test set: Average loss: 1.3357, Accuracy: 5542/10000 (55%)\n",
      "\n",
      "\n",
      "Test set: Average loss: 1.3357, Accuracy: 5542/10000 (55%)\n",
      "\n",
      "\n",
      "Test set: Average loss: 1.3357, Accuracy: 5542/10000 (55%)\n",
      "\n",
      "\n",
      "Test set: Average loss: 1.3357, Accuracy: 5542/10000 (55%)\n",
      "\n"
     ]
    }
   ],
   "source": [
    "rank_range = list(range(3, 1000, 50))\n",
    "time_range = []\n",
    "accuracy_range = []\n",
    "for r in rank_range:\n",
    "    print(r)\n",
    "    SVD_model = SVDNet(model, r, [1,3,5])\n",
    "    accuracy = test(SVD_model, test_loader)\n",
    "    print(accuracy)\n",
    "    t = %timeit -o -q test(SVD_model, test_loader)\n",
    "    time_range.append(t.average)\n",
    "    accuracy_range.append(accuracy)"
   ]
  },
  {
   "cell_type": "code",
   "execution_count": 30,
   "metadata": {},
   "outputs": [
    {
     "data": {
      "text/plain": [
       "Text(0, 0.5, 'time')"
      ]
     },
     "execution_count": 30,
     "metadata": {},
     "output_type": "execute_result"
    },
    {
     "data": {
      "image/png": "[encoded data removed]",
      "text/plain": [
       "<Figure size 432x288 with 1 Axes>"
      ]
     },
     "metadata": {},
     "output_type": "display_data"
    }
   ],
   "source": [
    "plt.plot(rank_range, time_range)\n",
    "plt.xlabel(\"rank\")\n",
    "plt.ylabel(\"time\")"
   ]
  },
  {
   "cell_type": "markdown",
   "metadata": {},
   "source": [
    "Как и ожидалось, с увеличение ранга время вычислений возрастает"
   ]
  },
  {
   "cell_type": "code",
   "execution_count": 31,
   "metadata": {},
   "outputs": [
    {
     "data": {
      "text/plain": [
       "Text(0, 0.5, 'accuracy')"
      ]
     },
     "execution_count": 31,
     "metadata": {},
     "output_type": "execute_result"
    },
    {
     "data": {
      "image/png": "[encoded data removed]",
      "text/plain": [
       "<Figure size 432x288 with 1 Axes>"
      ]
     },
     "metadata": {},
     "output_type": "display_data"
    }
   ],
   "source": [
    "plt.plot(rank_range, accuracy_range)\n",
    "plt.xlabel(\"rank\")\n",
    "plt.ylabel(\"accuracy\")"
   ]
  },
  {
   "cell_type": "code",
   "execution_count": 32,
   "metadata": {},
   "outputs": [
    {
     "name": "stdout",
     "output_type": "stream",
     "text": [
      "853 55.47\n"
     ]
    }
   ],
   "source": [
    "print(rank_range[np.argmax(accuracy_range)], max(accuracy_range))"
   ]
  },
  {
   "cell_type": "markdown",
   "metadata": {},
   "source": [
    "Видим, что при значении ранга $\\geq 200$ качество перестает сильно менятся"
   ]
  },
  {
   "cell_type": "markdown",
   "metadata": {},
   "source": [
    "### Fine-tuning\n",
    "\n",
    "- (10 pts) Поскольку в вашей модели, которая использует сжатое представление линейных слоёв, параметрами являются матрицы, полученные из SVD соответствующих линейных слоёв, то их также можно оптимизировать. Эта процедура называется fine-tuning. Предлагается провести обучение этих матриц в течение нескольких эпох (от 1 до 5 будет достаточно) и сравнить насколько выросло качество по сравнению с первоначальными значениями. Покажите значения точности на тестовой выборки и объясните полученные результаты."
   ]
  },
  {
   "cell_type": "code",
   "execution_count": 35,
   "metadata": {},
   "outputs": [
    {
     "name": "stdout",
     "output_type": "stream",
     "text": [
      "Train Epoch: 1 [0/50000 (0%)]\tLoss: 0.596440\n",
      "Train Epoch: 1 [5000/50000 (10%)]\tLoss: 0.649412\n",
      "Train Epoch: 1 [10000/50000 (20%)]\tLoss: 0.828302\n",
      "Train Epoch: 1 [15000/50000 (30%)]\tLoss: 0.540413\n",
      "Train Epoch: 1 [20000/50000 (40%)]\tLoss: 0.550076\n",
      "Train Epoch: 1 [25000/50000 (50%)]\tLoss: 0.623550\n",
      "Train Epoch: 1 [30000/50000 (60%)]\tLoss: 0.463125\n",
      "Train Epoch: 1 [35000/50000 (70%)]\tLoss: 0.618046\n",
      "Train Epoch: 1 [40000/50000 (80%)]\tLoss: 0.615698\n",
      "Train Epoch: 1 [45000/50000 (90%)]\tLoss: 0.537838\n",
      "\n",
      "Test set: Average loss: 1.3680, Accuracy: 5719/10000 (57%)\n",
      "\n",
      "Train Epoch: 2 [0/50000 (0%)]\tLoss: 0.514762\n",
      "Train Epoch: 2 [5000/50000 (10%)]\tLoss: 0.461999\n",
      "Train Epoch: 2 [10000/50000 (20%)]\tLoss: 0.510017\n",
      "Train Epoch: 2 [15000/50000 (30%)]\tLoss: 0.557412\n",
      "Train Epoch: 2 [20000/50000 (40%)]\tLoss: 0.574444\n",
      "Train Epoch: 2 [25000/50000 (50%)]\tLoss: 0.588052\n",
      "Train Epoch: 2 [30000/50000 (60%)]\tLoss: 0.458698\n",
      "Train Epoch: 2 [35000/50000 (70%)]\tLoss: 0.583155\n",
      "Train Epoch: 2 [40000/50000 (80%)]\tLoss: 0.599236\n",
      "Train Epoch: 2 [45000/50000 (90%)]\tLoss: 0.606538\n",
      "\n",
      "Test set: Average loss: 1.4365, Accuracy: 5722/10000 (57%)\n",
      "\n",
      "Train Epoch: 3 [0/50000 (0%)]\tLoss: 0.396062\n",
      "Train Epoch: 3 [5000/50000 (10%)]\tLoss: 0.486500\n",
      "Train Epoch: 3 [10000/50000 (20%)]\tLoss: 0.583057\n",
      "Train Epoch: 3 [15000/50000 (30%)]\tLoss: 0.603222\n",
      "Train Epoch: 3 [20000/50000 (40%)]\tLoss: 0.462204\n",
      "Train Epoch: 3 [25000/50000 (50%)]\tLoss: 0.481425\n",
      "Train Epoch: 3 [30000/50000 (60%)]\tLoss: 0.502606\n",
      "Train Epoch: 3 [35000/50000 (70%)]\tLoss: 0.504182\n",
      "Train Epoch: 3 [40000/50000 (80%)]\tLoss: 0.457266\n",
      "Train Epoch: 3 [45000/50000 (90%)]\tLoss: 0.425634\n",
      "\n",
      "Test set: Average loss: 1.4918, Accuracy: 5729/10000 (57%)\n",
      "\n",
      "Train Epoch: 4 [0/50000 (0%)]\tLoss: 0.379030\n",
      "Train Epoch: 4 [5000/50000 (10%)]\tLoss: 0.322987\n",
      "Train Epoch: 4 [10000/50000 (20%)]\tLoss: 0.429111\n",
      "Train Epoch: 4 [15000/50000 (30%)]\tLoss: 0.279851\n",
      "Train Epoch: 4 [20000/50000 (40%)]\tLoss: 0.410755\n",
      "Train Epoch: 4 [25000/50000 (50%)]\tLoss: 0.479108\n",
      "Train Epoch: 4 [30000/50000 (60%)]\tLoss: 0.634120\n",
      "Train Epoch: 4 [35000/50000 (70%)]\tLoss: 0.430009\n",
      "Train Epoch: 4 [40000/50000 (80%)]\tLoss: 0.351767\n",
      "Train Epoch: 4 [45000/50000 (90%)]\tLoss: 0.458279\n",
      "\n",
      "Test set: Average loss: 1.5618, Accuracy: 5736/10000 (57%)\n",
      "\n"
     ]
    }
   ],
   "source": [
    "epochs_SVD = 4\n",
    "SVD_model = SVDNet(model, rank_range[np.argmax(accuracy_range)], [1,3,5])\n",
    "for epoch in range(1, epochs_SVD + 1):\n",
    "    train(SVD_model,  train_loader, optimizer, epoch)\n",
    "    test(SVD_model, test_loader)"
   ]
  },
  {
   "cell_type": "markdown",
   "metadata": {},
   "source": [
    "Видим, что в процессе обучения матриц точность возросла до $57\\%$"
   ]
  }
 ],
 "metadata": {
  "kernelspec": {
   "display_name": "Python 3",
   "language": "python",
   "name": "python3"
  },
  "language_info": {
   "codemirror_mode": {
    "name": "ipython",
    "version": 3
   },
   "file_extension": ".py",
   "mimetype": "text/x-python",
   "name": "python",
   "nbconvert_exporter": "python",
   "pygments_lexer": "ipython3",
   "version": "3.8.8"
  }
 },
 "nbformat": 4,
 "nbformat_minor": 2
}
